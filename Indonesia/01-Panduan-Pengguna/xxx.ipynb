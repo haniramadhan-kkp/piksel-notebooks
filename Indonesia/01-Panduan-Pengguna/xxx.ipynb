{
 "cells": [
  {
   "cell_type": "markdown",
   "id": "d4d90b9f-5aeb-4843-8cce-d42afe3fd936",
   "metadata": {},
   "source": [
    "![Buffer Map](05_latlong_buffer.png)"
   ]
  },
  {
   "cell_type": "code",
   "execution_count": null,
   "id": "d8d1905c-8118-46ac-8011-628ce1ec4008",
   "metadata": {},
   "outputs": [],
   "source": []
  }
 ],
 "metadata": {
  "kernelspec": {
   "display_name": "Python 3 (ipykernel)",
   "language": "python",
   "name": "python3"
  },
  "language_info": {
   "codemirror_mode": {
    "name": "ipython",
    "version": 3
   },
   "file_extension": ".py",
   "mimetype": "text/x-python",
   "name": "python",
   "nbconvert_exporter": "python",
   "pygments_lexer": "ipython3",
   "version": "3.12.10"
  }
 },
 "nbformat": 4,
 "nbformat_minor": 5
}
