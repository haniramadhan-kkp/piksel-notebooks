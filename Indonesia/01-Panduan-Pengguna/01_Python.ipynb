{
 "cells": [
  {
   "cell_type": "markdown",
   "metadata": {},
   "source": [
    "| <h1><b>Pengenalan Dasar Python</b></h1> |  ![](files/piksel-logo-small.png) |\n",
    "|:---------|----------:|\n",
    "\n",
    "Notebook ini berisi pengenalan dasar bahasa pemrograman Python untuk pemula. Berikut ada 10 pengenalan singkat terkait python. Dalam menggunakan notebook ini, ubah nilai atau teks yang dicontohkan, untuk mengetahui peenggunaan nya.  \n",
    "- Hello World \n",
    "- Variabel dan Tipe Data\n",
    "- Operasi Matematika  \n",
    "- String dan Manipulasi Text  \n",
    "- List dan Tuple  \n",
    "- Dictionary\n",
    "- Struktur Kontrol  \n",
    "- Input dari User  \n",
    "- Membuat data dan plotting  \n",
    "- Error Handling\n"
   ]
  },
  {
   "cell_type": "markdown",
   "metadata": {},
   "source": [
    "## 🙋‍♂️ Hello World\n",
    "\n",
    "Mari mulai dengan program Python pertama Anda! \n",
    "- Klik pada skrip dibawah dan tekan Shift-Enter untuk menjalankan skrip\n",
    "- Ubah teks untuk menampilkan teks yang berbeda"
   ]
  },
  {
   "cell_type": "code",
   "execution_count": null,
   "metadata": {},
   "outputs": [],
   "source": [
    "# Program Python pertama\n",
    "print(\"Hello, World!\")\n",
    "print(\"Selamat datang di dunia Python!\")\n",
    "\n",
    "# Ini adalah komentar - tidak akan dieksekusi\n",
    "# Gunakan # untuk membuat komentar satu baris"
   ]
  },
  {
   "cell_type": "markdown",
   "metadata": {},
   "source": [
    "## 💻 Variabel dan Tipe Data\n",
    "\n",
    "Python memiliki berbagai tipe data dasar:"
   ]
  },
  {
   "cell_type": "code",
   "execution_count": null,
   "metadata": {},
   "outputs": [],
   "source": [
    "# Variabel dan tipe data\n",
    "nama = \"Budi\"                    # String (text)\n",
    "umur = 25                        # Integer (bilangan bulat)\n",
    "tinggi = 175.5                   # Float (bilangan desimal)\n",
    "is_student = True                # Boolean (True/False)\n",
    "\n",
    "# Menampilkan variabel\n",
    "print(f\"Nama: {nama}\")\n",
    "print(f\"Umur: {umur}\")\n",
    "print(f\"Tinggi: {tinggi} cm\")\n",
    "print(f\"Status mahasiswa: {is_student}\")\n",
    "\n",
    "# Mengecek tipe data\n",
    "print(f\"\\nTipe data nama: {type(nama)}\")\n",
    "print(f\"Tipe data umur: {type(umur)}\")\n",
    "print(f\"Tipe data tinggi: {type(tinggi)}\")\n",
    "print(f\"Tipe data is_student: {type(is_student)}\")"
   ]
  },
  {
   "cell_type": "markdown",
   "metadata": {},
   "source": [
    "## ➗ Operasi Matematika\n",
    "\n",
    "Python mendukung berbagai operasi matematika:"
   ]
  },
  {
   "cell_type": "code",
   "execution_count": null,
   "metadata": {},
   "outputs": [],
   "source": [
    "# Operasi matematika dasar\n",
    "a = 10\n",
    "b = 3\n",
    "\n",
    "print(f\"a = {a}, b = {b}\")\n",
    "print(f\"Penjumlahan: {a} + {b} = {a + b}\")\n",
    "print(f\"Pengurangan: {a} - {b} = {a - b}\")\n",
    "print(f\"Perkalian: {a} * {b} = {a * b}\")\n",
    "print(f\"Pembagian: {a} / {b} = {a / b}\")\n",
    "print(f\"Pembagian bulat: {a} // {b} = {a // b}\")\n",
    "print(f\"Modulus (sisa bagi): {a} % {b} = {a % b}\")\n",
    "print(f\"Pangkat: {a} ** {b} = {a ** b}\")"
   ]
  },
  {
   "cell_type": "markdown",
   "metadata": {},
   "source": [
    "## 📝 String dan Manipulasi Text\n",
    "\n",
    "Bekerja dengan text dalam Python:"
   ]
  },
  {
   "cell_type": "code",
   "execution_count": null,
   "metadata": {},
   "outputs": [],
   "source": [
    "# String dan manipulasi text\n",
    "pesan = \"Belajar Python itu Menyenangkan!\"\n",
    "\n",
    "print(f\"Pesan asli: {pesan}\")\n",
    "print(f\"Panjang string: {len(pesan)}\")\n",
    "print(f\"Huruf kecil: {pesan.lower()}\")\n",
    "print(f\"Huruf besar: {pesan.upper()}\")\n",
    "print(f\"Huruf kapital: {pesan.title()}\")\n",
    "\n",
    "# Menggabungkan string\n",
    "nama_depan = \"John\"\n",
    "nama_belakang = \"Doe\"\n",
    "nama_lengkap = nama_depan + \" \" + nama_belakang\n",
    "print(f\"\\nNama lengkap: {nama_lengkap}\")\n",
    "\n",
    "# String slicing\n",
    "kata = \"Python\"\n",
    "print(f\"\\nKata: {kata}\")\n",
    "print(f\"3 huruf pertama: {kata[:3]}\")\n",
    "print(f\"3 huruf terakhir: {kata[-3:]}\")\n",
    "print(f\"Huruf ke-2 sampai ke-4: {kata[1:4]}\")"
   ]
  },
  {
   "cell_type": "markdown",
   "metadata": {},
   "source": [
    "## 📃List dan Tuple\n",
    "\n",
    "Struktur data untuk menyimpan multiple nilai:"
   ]
  },
  {
   "cell_type": "code",
   "execution_count": null,
   "metadata": {},
   "outputs": [],
   "source": [
    "# List (dapat diubah/mutable)\n",
    "buah = [\"apel\", \"pisang\", \"jeruk\", \"mangga\"]\n",
    "angka = [1, 2, 3, 4, 5]\n",
    "\n",
    "print(\"=== LIST ===\")\n",
    "print(f\"Daftar buah: {buah}\")\n",
    "print(f\"Buah pertama: {buah[0]}\")\n",
    "print(f\"Buah terakhir: {buah[-1]}\")\n",
    "\n",
    "# Menambah elemen\n",
    "buah.append(\"anggur\")\n",
    "print(f\"Setelah menambah anggur: {buah}\")\n",
    "\n",
    "# Menghapus elemen\n",
    "buah.remove(\"pisang\")\n",
    "print(f\"Setelah menghapus pisang: {buah}\")\n",
    "\n",
    "print(f\"Jumlah buah: {len(buah)}\")\n",
    "\n",
    "# Tuple (tidak dapat diubah/immutable)\n",
    "koordinat = (10, 20)\n",
    "warna_rgb = (255, 128, 0)\n",
    "\n",
    "print(\"\\n=== TUPLE ===\")\n",
    "print(f\"Koordinat: {koordinat}\")\n",
    "print(f\"Warna RGB: {warna_rgb}\")\n",
    "print(f\"Koordinat X: {koordinat[0]}\")\n",
    "print(f\"Koordinat Y: {koordinat[1]}\")"
   ]
  },
  {
   "cell_type": "markdown",
   "metadata": {},
   "source": [
    "## 📙 Dictionary\n",
    "\n",
    "Struktur data key-value untuk menyimpan data terorganisir:"
   ]
  },
  {
   "cell_type": "code",
   "execution_count": null,
   "metadata": {},
   "outputs": [],
   "source": [
    "# Dictionary\n",
    "mahasiswa = {\n",
    "    \"nama\": \"Sari\",\n",
    "    \"umur\": 20,\n",
    "    \"jurusan\": \"Informatika\",\n",
    "    \"ipk\": 3.75\n",
    "}\n",
    "\n",
    "print(\"=== DICTIONARY ===\")\n",
    "print(f\"Data mahasiswa: {mahasiswa}\")\n",
    "print(f\"Nama: {mahasiswa['nama']}\")\n",
    "print(f\"Jurusan: {mahasiswa['jurusan']}\")\n",
    "print(f\"IPK: {mahasiswa['ipk']}\")\n",
    "\n",
    "# Menambah data baru\n",
    "mahasiswa[\"semester\"] = 6\n",
    "print(f\"\\nSetelah menambah semester: {mahasiswa}\")\n",
    "\n",
    "# Mengubah data\n",
    "mahasiswa[\"ipk\"] = 3.80\n",
    "print(f\"Setelah update IPK: {mahasiswa}\")\n",
    "\n",
    "# Menampilkan semua keys dan values\n",
    "print(f\"\\nKeys: {list(mahasiswa.keys())}\")\n",
    "print(f\"Values: {list(mahasiswa.values())}\")"
   ]
  },
  {
   "cell_type": "markdown",
   "metadata": {},
   "source": [
    "## 🚌 Struktur Kontrol\n",
    "\n",
    "Mengontrol alur program dengan kondisi dan perulangan:"
   ]
  },
  {
   "cell_type": "code",
   "execution_count": null,
   "metadata": {},
   "outputs": [],
   "source": [
    "# If-elif-else statement\n",
    "nilai = 85\n",
    "\n",
    "print(f\"Nilai: {nilai}\")\n",
    "\n",
    "if nilai >= 90:\n",
    "    grade = \"A\"\n",
    "elif nilai >= 80:\n",
    "    grade = \"B\"\n",
    "elif nilai >= 70:\n",
    "    grade = \"C\"\n",
    "elif nilai >= 60:\n",
    "    grade = \"D\"\n",
    "else:\n",
    "    grade = \"E\"\n",
    "\n",
    "print(f\"Grade: {grade}\")\n",
    "\n",
    "# For loop\n",
    "print(\"\\n=== FOR LOOP ===\")\n",
    "print(\"Menghitung 1 sampai 5:\")\n",
    "for i in range(1, 6):\n",
    "    print(f\"Angka: {i}\")\n",
    "\n",
    "print(\"\\nMenampilkan buah-buahan:\")\n",
    "buah_buahan = [\"apel\", \"pisang\", \"jeruk\"]\n",
    "for buah in buah_buahan:\n",
    "    print(f\"- {buah}\")\n",
    "\n",
    "# While loop\n",
    "print(\"\\n=== WHILE LOOP ===\")\n",
    "print(\"Countdown:\")\n",
    "countdown = 5\n",
    "while countdown > 0:\n",
    "    print(f\"{countdown}...\")\n",
    "    countdown -= 1\n",
    "print(\"Selesai!\")"
   ]
  },
  {
   "cell_type": "markdown",
   "metadata": {},
   "source": [
    "## 💡 Fungsi\n",
    "\n",
    "Membuat kode yang dapat digunakan kembali:"
   ]
  },
  {
   "cell_type": "code",
   "execution_count": null,
   "metadata": {},
   "outputs": [],
   "source": [
    "# Fungsi sederhana\n",
    "def sapa(nama):\n",
    "    \"\"\"Fungsi untuk menyapa seseorang\"\"\"\n",
    "    return f\"Halo, {nama}! Selamat datang!\"\n",
    "\n",
    "# Fungsi dengan multiple parameter\n",
    "def hitung_luas_persegi_panjang(panjang, lebar):\n",
    "    \"\"\"Menghitung luas persegi panjang\"\"\"\n",
    "    luas = panjang * lebar\n",
    "    return luas\n",
    "\n",
    "# Fungsi dengan default parameter\n",
    "def perkenalan(nama, umur=25, kota=\"Jakarta\"):\n",
    "    \"\"\"Membuat perkenalan diri\"\"\"\n",
    "    return f\"Nama saya {nama}, umur {umur} tahun, tinggal di {kota}.\"\n",
    "\n",
    "# Menggunakan fungsi\n",
    "print(sapa(\"Budi\"))\n",
    "print(sapa(\"Sari\"))\n",
    "\n",
    "luas = hitung_luas_persegi_panjang(10, 5)\n",
    "print(f\"\\nLuas persegi panjang: {luas} cm²\")\n",
    "\n",
    "print(f\"\\n{perkenalan('Ali')}\")\n",
    "print(f\"{perkenalan('Maya', 30)}\")\n",
    "print(f\"{perkenalan('Rina', 28, 'Bandung')}\")"
   ]
  },
  {
   "cell_type": "markdown",
   "metadata": {},
   "source": [
    "## ➡️ Input dari User\n",
    "\n",
    "Berinteraksi dengan user:"
   ]
  },
  {
   "cell_type": "code",
   "execution_count": null,
   "metadata": {},
   "outputs": [],
   "source": [
    "# Input dari user\n",
    "# Catatan: Dalam Jupyter Notebook, input() akan membuat dialog box\n",
    "\n",
    "print(\"=== PROGRAM PERKENALAN ===\")\n",
    "nama_user = input(\"Siapa nama Anda? \")\n",
    "umur_user = input(\"Berapa umur Anda? \")\n",
    "\n",
    "# Konversi string ke integer\n",
    "umur_user = int(umur_user)\n",
    "\n",
    "print(f\"\\nHalo {nama_user}!\")\n",
    "print(f\"Umur Anda {umur_user} tahun.\")\n",
    "\n",
    "if umur_user >= 18:\n",
    "    print(\"Anda sudah dewasa.\")\n",
    "else:\n",
    "    print(\"Anda masih remaja.\")\n",
    "\n",
    "tahun_lahir = 2024 - umur_user\n",
    "print(f\"Anda lahir sekitar tahun {tahun_lahir}.\")"
   ]
  },
  {
   "cell_type": "markdown",
   "metadata": {},
   "source": [
    "## 🖨️ Membuat data dan plotting\n",
    "\n",
    "1. Import library"
   ]
  },
  {
   "cell_type": "code",
   "execution_count": null,
   "metadata": {},
   "outputs": [],
   "source": [
    "# library yang sering digunakan\n",
    "import numpy as np\n",
    "import pandas as pd\n",
    "import matplotlib.pyplot as plt\n",
    "\n",
    "print(\"Library berhasil diimport!\")"
   ]
  },
  {
   "cell_type": "markdown",
   "metadata": {},
   "source": [
    "2. Membuat data dalam format DataFrame"
   ]
  },
  {
   "cell_type": "code",
   "execution_count": null,
   "metadata": {},
   "outputs": [],
   "source": [
    "# Membuat DataFrame sederhana dengan pandas\n",
    "data = {\n",
    "    'Nama': ['Alice', 'Bob', 'Charlie', 'Diana'],\n",
    "    'Umur': [25, 30, 35, 28],\n",
    "    'Kota': ['Jakarta', 'Bandung', 'Surabaya', 'Medan']\n",
    "}\n",
    "\n",
    "df = pd.DataFrame(data)\n",
    "print(\"DataFrame:\")\n",
    "df"
   ]
  },
  {
   "cell_type": "markdown",
   "metadata": {},
   "source": [
    "3. Membuat plot data"
   ]
  },
  {
   "cell_type": "code",
   "execution_count": null,
   "metadata": {},
   "outputs": [],
   "source": [
    "# Membuat plot sederhana\n",
    "x = np.linspace(0, 10, 100)\n",
    "y = np.sin(x)\n",
    "\n",
    "plt.figure(figsize=(10, 6))\n",
    "plt.plot(x, y, 'b-', linewidth=2, label='sin(x)')\n",
    "plt.xlabel('x')\n",
    "plt.ylabel('y')\n",
    "plt.title('Grafik Fungsi Sinus')\n",
    "plt.grid(True, alpha=0.3)\n",
    "plt.legend()\n",
    "plt.show()"
   ]
  },
  {
   "cell_type": "markdown",
   "metadata": {},
   "source": [
    "## 🚫 Error Handling\n",
    "\n",
    "Menangani error yang mungkin terjadi:"
   ]
  },
  {
   "cell_type": "code",
   "execution_count": null,
   "metadata": {},
   "outputs": [],
   "source": [
    "# Error handling dengan try-except\n",
    "def bagi_angka(a, b):\n",
    "    \"\"\"Fungsi untuk membagi dua angka dengan error handling\"\"\"\n",
    "    try:\n",
    "        hasil = a / b\n",
    "        return f\"Hasil: {a} / {b} = {hasil}\"\n",
    "    except ZeroDivisionError:\n",
    "        return \"Error: Tidak bisa membagi dengan nol!\"\n",
    "    except TypeError:\n",
    "        return \"Error: Input harus berupa angka!\"\n",
    "\n",
    "# Test error handling\n",
    "print(bagi_angka(10, 2))    # Normal\n",
    "print(bagi_angka(10, 0))    # Error: pembagian dengan nol\n",
    "print(bagi_angka(10, \"a\"))  # Error: tipe data salah\n",
    "\n",
    "# Input validation\n",
    "def input_angka_aman():\n",
    "    \"\"\"Input angka dengan validasi\"\"\"\n",
    "    while True:\n",
    "        try:\n",
    "            angka = float(input(\"Masukkan sebuah angka: \"))\n",
    "            return angka\n",
    "        except ValueError:\n",
    "            print(\"Input tidak valid! Silakan masukkan angka.\")\n",
    "\n",
    "# Uncomment baris di bawah untuk test input validation\n",
    "# angka = input_angka_aman()\n",
    "# print(f\"Angka yang Anda masukkan: {angka}\")"
   ]
  },
  {
   "cell_type": "markdown",
   "metadata": {},
   "source": [
    "---"
   ]
  },
  {
   "cell_type": "markdown",
   "metadata": {},
   "source": [
    "## ℹ️ Info\n",
    "\n",
    "Jika ada pertanyaan atau komentar bisa mengirimkan email ke piksel@big.go.id\n",
    "\n",
    "**Lisensi:** Skrip dalam notebook ini dilisensikan berdasarkan [Apache License, Version 2.0](https://www.apache.org/licenses/LICENSE-2.0). \n",
    "Data Piksel dilisensikan berdasarkan lisensi [Creative Commons by Attribution 4.0](https://creativecommons.org/licenses/by/4.0/)."
   ]
  },
  {
   "cell_type": "code",
   "execution_count": null,
   "metadata": {},
   "outputs": [],
   "source": [
    "from datetime import datetime\n",
    "print(f\"Tanggal update: {datetime.now().strftime('%d %B %Y')}\")"
   ]
  },
  {
   "cell_type": "code",
   "execution_count": null,
   "metadata": {},
   "outputs": [],
   "source": []
  }
 ],
 "metadata": {
  "kernelspec": {
   "display_name": "Python 3 (ipykernel)",
   "language": "python",
   "name": "python3"
  },
  "language_info": {
   "codemirror_mode": {
    "name": "ipython",
    "version": 3
   },
   "file_extension": ".py",
   "mimetype": "text/x-python",
   "name": "python",
   "nbconvert_exporter": "python",
   "pygments_lexer": "ipython3",
   "version": "3.12.0"
  }
 },
 "nbformat": 4,
 "nbformat_minor": 4
}
