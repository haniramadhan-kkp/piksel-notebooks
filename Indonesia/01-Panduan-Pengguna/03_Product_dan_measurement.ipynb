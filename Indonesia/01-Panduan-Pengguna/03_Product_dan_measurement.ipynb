{
 "cells": [
  {
   "cell_type": "markdown",
   "metadata": {},
   "source": [
    "| <h1><b>Pengenalan Product dan Measurement</b></h1> |  ![](files/piksel-logo-small.png) |\n",
    "|:---------|----------:|\n",
    "\n",
    "* **Prasyarat:** Pengguna notebook ini harus memiliki pemahaman dasar tentang:\n",
    "    * Cara menjalankan Jupyter notebook\n"
   ]
  },
  {
   "cell_type": "raw",
   "metadata": {
    "raw_mimetype": "text/restructuredtext"
   },
   "source": [
    "**Keywords** :index:`pengenalan; products`, :index:`pengenalan; measurements`, :index:`products; pengenalan`, :index:`measurements; pengenalan`, :index:`data used; landsat 8`"
   ]
  },
  {
   "cell_type": "markdown",
   "metadata": {},
   "source": [
    "## 🔙 Pendahuluan\n",
    "\"Datacube\" adalah arsitektur informasi digital yang mengkhususkan diri dalam penyimpanan dan pengkatalogan informasi spasial.\n",
    "Piksel didasarkan pada infrastruktur [Open Data Cube](https://www.opendatacube.org/), dan mengkhususkan diri dalam penyimpanan data penginderaan jauh, khususnya satelit Pengamatan Bumi seperti [Landsat](https://landsat.gsfc.nasa.gov/) dan [Sentinel](https://www.esa.int/Applications/Observing_the_Earth/Copernicus/The_Sentinel_missions).\n",
    "\n",
    "Datacube Piksel berisi data satelit mentah dan data turunan.\n",
    "Product sering kali terdiri dari berbagai measurement seperti rangkaian nilai band remote sensing atau ringkasan statistik product. Sebelum menjalankan query untuk memuat data dari datacube, ada baiknya untuk mengetahui apa saja isinya.\n",
    "Notebook ini menunjukkan beberapa cara mudah untuk memeriksa product dan konten measurement datacube."
   ]
  },
  {
   "cell_type": "markdown",
   "metadata": {},
   "source": [
    "## 📃Definisi\n",
    "\n",
    "* Product adalah data citra dan data turunannya, contoh:s2_l2a untuk Sentinel 2 dan ls8_c2l2_sr untuk landsat 8.\n",
    "* Measurement adalah band dari suatu product, contoh: `red`, `blue`, `green`, `nir` pada product s2_l2a."
   ]
  },
  {
   "cell_type": "markdown",
   "metadata": {},
   "source": [
    "## 💬 Deskripsi\n",
    "Notebook ini menunjukkan cara menghubungkan ke datacube [Piksel](http://43.218.254.133:8080/) dan memeriksa product dan measurement yang tersedia yang tersimpan di dalamnya.\n",
    "Topik yang dibahas meliputi:\n",
    "\n",
    "* Cara terhubung ke datacube\n",
    "* Cara mencantumkan semua product\n",
    "* Cara mencantumkan measurement product terpilih\n",
    "* Cara memvisualisasikan data dalam datacube secara interaktif"
   ]
  },
  {
   "cell_type": "markdown",
   "metadata": {},
   "source": [
    "## 🏃‍♂️‍➡️ Memulai\n",
    "Untuk menjalankan pengantar product dan measurement ini, jalankan semua cell di notebook yang dimulai dengan \"Load packages\" cell. Untuk bantuan dalam menjalankan notebook cells, lihat kembali di [Jupyter Notebooks notebook](01_Jupyter_notebooks.ipynb)."
   ]
  },
  {
   "cell_type": "markdown",
   "metadata": {},
   "source": [
    "### Memuat datacube\n",
    "Library `datacube` diperlukan untuk mengakses dan bekerja dengan data yang tersedia.\n",
    "Library `pandas` diperlukan untuk memformat tabel.\n",
    "Utilitas `DcViewer` akan memungkinkan kita untuk menjelajahi product yang tersedia di datacube secara interaktif."
   ]
  },
  {
   "cell_type": "code",
   "execution_count": null,
   "metadata": {},
   "outputs": [],
   "source": [
    "import datacube\n",
    "import pandas as pd\n",
    "from odc.ui import DcViewer\n",
    "\n",
    "# Set some configurations for displaying tables nicely\n",
    "pd.set_option('display.max_colwidth', 200)\n",
    "pd.set_option('display.max_rows', None)"
   ]
  },
  {
   "cell_type": "markdown",
   "metadata": {},
   "source": [
    "### Terhubung ke datacube\n",
    "\n",
    "Setelah mengimpor library `datacube`,pengguna perlu menentukan nama untuk sesi mereka, yang dikenal sebagai nama aplikasi.\n",
    "\n",
    "Nama ini dibuat oleh pengguna dan digunakan untuk melacak masalah dengan database queries.\n",
    "Nama ini tidak memiliki pengaruh apa pun pada analisis.\n",
    "Gunakan nama pendek yang konsisten dengan tujuan notebook Anda seperti `02_Products_and_measurements` digunakan sebagai nama aplikasi di notebook ini.\n",
    "\n",
    "Objek `dc` yang dihasilkan adalah yang digunakan untuk mengakses semua data yang terdapat dalam datacube Piksel."
   ]
  },
  {
   "cell_type": "code",
   "execution_count": null,
   "metadata": {},
   "outputs": [],
   "source": [
    "dc = datacube.Datacube(app=\"02_Products_and_measurements\")"
   ]
  },
  {
   "cell_type": "markdown",
   "metadata": {},
   "source": [
    "## 📝 Daftar product"
   ]
  },
  {
   "cell_type": "markdown",
   "metadata": {},
   "source": [
    "Setelah datacube instance dibuat, pengguna dapat menjelajahi product dan measurement yang tersimpan di dalamnya.\n",
    "\n",
    "Cell berikut mencantumkan semua atribut product yang saat ini tersedia di datacube Piksel dengan menggunakan fungsi `dc.list_products().columns`."
   ]
  },
  {
   "cell_type": "code",
   "execution_count": null,
   "metadata": {},
   "outputs": [],
   "source": [
    "dc.list_products().columns"
   ]
  },
  {
   "cell_type": "markdown",
   "metadata": {},
   "source": [
    "Semua ini dapat digunakan untuk menyesuaikan informasi product yang dikembalikan oleh fungsi `dc.list_products()`,seperti yang ditunjukkan pada cell berikutnya.\n",
    "\n",
    "Selain itu, cell berikutnya mencantumkan semua product yang saat ini tersedia dalam datacube Piksel dengan menggunakan fungsi `dc.list_products()`.\n",
    "\n",
    "Product yang tercantum di bawah **name** dalam tabel berikut mewakili opsi product yang tersedia saat query datacube. \n",
    "Tabel di bawah ini menyediakan beberapa informasi berguna tentang setiap product, termasuk **description** product singkat, **instrument** dan **platform** tempat data berasal (e.g. Landsat 8 OLI), dan **crs** (sistem referensi koordinat) dan **resolution** default product jika berlaku."
   ]
  },
  {
   "cell_type": "code",
   "execution_count": null,
   "metadata": {},
   "outputs": [],
   "source": [
    "products = dc.list_products()\n",
    "\n",
    "display_columns = [\"name\",\n",
    "                   \"description\",\n",
    "                   \"default_crs\",\n",
    "                   \"default_resolution\"]\n",
    "\n",
    "products[display_columns].sort_index()"
   ]
  },
  {
   "cell_type": "markdown",
   "metadata": {},
   "source": [
    "## 📝 Daftar measurement\n",
    "\n",
    "Sebagian besar product dikaitkan dengan berbagai measurement yang tersedia.\n",
    "Measurement ini dapat berupa individual satellite bands (e.g. Landsat's near-infrared band) atau ringkasan product statistik.\n",
    "\n",
    "Dengan menggunakan kolom **name** product yang tercantum di atas, mari kita selidiki measurement yang terkait dengan product `ls9_c2l2_sr` menggunakan fungsi `dc.list_measurements()`.\n",
    "Nama product ini merujuk pada product data Landsat 8 yang siap untuk Analisis dari Survei Geologi AS.\n",
    "\n",
    "Tabel di bawah ini mencakup berbagai informasi teknis tentang setiap band yang ada di dataset, termasuk **aliases** yang dapat digunakan untuk memuat data, tipe data atau **dtype**, **flags_definition** yang dikaitkan dengan measurement (informasi ini digunakan untuk tugas-tugas seperti cloud masking), dan nilai **nodata** measurement.\n",
    "\n",
    "Ubah nama `product` di bawah ini dan jalankan kembali cell berikut untuk menjelajahi measurement yang tersedia yang terkait dengan product lain."
   ]
  },
  {
   "cell_type": "code",
   "execution_count": null,
   "metadata": {},
   "outputs": [],
   "source": [
    "product = \"ls9_c2l2_sr\"\n",
    "\n",
    "measurements = dc.list_measurements()\n",
    "measurements.loc[product]"
   ]
  },
  {
   "cell_type": "markdown",
   "metadata": {},
   "source": [
    "## 💻 Memvisualisasikan data yang tersedia\n",
    "Untuk cara yang lebih visual dalam menjelajahi data yang tersedia dalam datacube Piksel, kita dapat menggunakan utilitas `DcViewer` interaktif atau situs web [Piksel](http://43.218.254.133:8080/).\n",
    "Kita akan menggunakan utilitas `DcViewer` dalam latihan ini.\n",
    "Pilih product dari menu drop-down di kiri atas peta untuk menunjukkan area yang datanya tersedia dalam warna biru.\n",
    "Anda juga dapat menggunakan tombol back dan forward di atas peta untuk beralih antar waktu.\n",
    "\n",
    "\n",
    "\n",
    "Utilitas ini hanya dapat memvisualisasikan sejumlah kumpulan data terbatas pada satu waktu.\n",
    "Jika jejak data yang tersedia tidak muncul, tekan tombol \"show\" di kanan atas, atau perbesar peta lebih jauh."
   ]
  },
  {
   "cell_type": "code",
   "execution_count": null,
   "metadata": {
    "scrolled": true
   },
   "outputs": [],
   "source": [
    "DcViewer(dc=dc, \n",
    "         time='2025',\n",
    "         center=(-6.1753, 106.8271),\n",
    "         zoom=6)"
   ]
  },
  {
   "cell_type": "markdown",
   "metadata": {},
   "source": [
    "---"
   ]
  },
  {
   "cell_type": "markdown",
   "metadata": {},
   "source": [
    "## ℹ️ Info\n",
    "\n",
    "Jika ada pertanyaan atau komentas bisa mengirimkan email ke piksel@big.go.id\n",
    "\n",
    "**Lisensi:** Skrip dalam notebook ini dilisensikan berdasarkan [Apache License, Version 2.0](https://www.apache.org/licenses/LICENSE-2.0). \n",
    "Data Piksel dilisensikan berdasarkan lisensi [Creative Commons by Attribution 4.0](https://creativecommons.org/licenses/by/4.0/).\n"
   ]
  },
  {
   "cell_type": "code",
   "execution_count": null,
   "metadata": {},
   "outputs": [],
   "source": [
    "from datetime import datetime\n",
    "print(f\"Tanggal update: {datetime.now().strftime('%d %B %Y')}\")"
   ]
  }
 ],
 "metadata": {
  "kernelspec": {
   "display_name": "Python 3 (ipykernel)",
   "language": "python",
   "name": "python3"
  },
  "language_info": {
   "codemirror_mode": {
    "name": "ipython",
    "version": 3
   },
   "file_extension": ".py",
   "mimetype": "text/x-python",
   "name": "python",
   "nbconvert_exporter": "python",
   "pygments_lexer": "ipython3",
   "version": "3.12.0"
  },
  "widgets": {
   "application/vnd.jupyter.widget-state+json": {
    "state": {},
    "version_major": 2,
    "version_minor": 0
   }
  }
 },
 "nbformat": 4,
 "nbformat_minor": 4
}
