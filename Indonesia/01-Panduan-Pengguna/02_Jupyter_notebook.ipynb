{
 "cells": [
  {
   "cell_type": "markdown",
   "metadata": {},
   "source": [
    "| <h1><b>Pengenalan Jupyter Notebook</b></h1> |  ![](files/piksel-logo-small.png) |\n",
    "|:---------|----------:|\n",
    "\n",
    "* **Prasyarat**: \n",
    "    * Tidak ada prasyarat pembelajaran yang diperlukan, karena dokumen ini dirancang untuk pengguna Jupyter pemula\n"
   ]
  },
  {
   "cell_type": "raw",
   "metadata": {
    "raw_mimetype": "text/restructuredtext"
   },
   "source": [
    "**Keywords** :index:`pengenalan; jupyter notebook`, :index:`jupyter notebook; pengenalan`, :index:`jupyter notebook; markdown cell`, :index:`jupyter notebook; raw cell`, :index:`jupyter notebook; code cell`"
   ]
  },
  {
   "cell_type": "markdown",
   "metadata": {},
   "source": [
    "## 🔙 Pendahuluan\n",
    "\n",
    "Akses ke [Open Data Cube](https://www.opendatacube.org/) seperti Piksel dapat dilakukan dengan menggunakan skrip python dan Jupyter Notebooks.\n",
    "Jupyter Notebook adalah aplikasi web interaktif yang dapat menampilkan, membuat, dan mendokumentasi *live code*.\n",
    "Notebook mencakup transformasi data, visualisasi, pemodelan, dan *machine learning*.\n",
    "Web untuk mengakses notebook adalah Sandbox."
   ]
  },
  {
   "cell_type": "markdown",
   "metadata": {},
   "source": [
    "Notebook ini dirancang untuk memperkenalkan pengguna pada dasar-dasar penggunaan skrip python di Jupyter Notebooks melalui JupyterLab.\n",
    "\n",
    "Topik yang dibahas meliputi :\n",
    "\n",
    "* Cara menjalankan Jupyter Notebook cell\n",
    "* Jenis Jupyter Notebook cells\n",
    "* Menghentikan proses atau memulai ulang Jupyter Notebook\n",
    "* Menyimpan dan mengekspor pekerjaan\n",
    "* Memulai Jupyter Notebook baru\n",
    "\n",
    "***"
   ]
  },
  {
   "cell_type": "markdown",
   "metadata": {},
   "source": [
    "## 🏃‍♂️‍➡️ Memulai"
   ]
  },
  {
   "cell_type": "markdown",
   "metadata": {},
   "source": [
    "### Menjalankan cell\n",
    "Jupyter Notebooks memungkinkan skrip dipisahkan menjadi beberapa bagian yang dapat dieksekusi secara independen satu sama lain. Bagian-bagian ini disebut dengan \"cells\".\n",
    "\n",
    "Skrip python ditulis ke dalam cell yang dapat dijalankan dengan menempatkan kursor di dalam dan mengetik `Shift-Enter` pada keyboard atau memilih tombol &#9658; \"run\" pada bagian atas notebook. Hal ini akan menjalankan satu cell dalam satu waktu.\n",
    "\n",
    "Jika Anda ingin menjalankan semua cell di notebook, navigasikan ke tab \"Run\" pada bagian atas JupyterLab dan pilih \"Run All Cells\" (atau opsi yang paling sesuai dengan kebutuhan). Saat menjalankan cell, berarti Anda sedang mengeksekusi konten cell tersebut.\n",
    "Setiap menjalankan cell hasilnya akan muncul tepat di bawahnya.\n",
    "\n",
    "Jalankan cell di bawah ini:"
   ]
  },
  {
   "cell_type": "code",
   "execution_count": 1,
   "metadata": {},
   "outputs": [
    {
     "name": "stdout",
     "output_type": "stream",
     "text": [
      "Program Berjalan!\n"
     ]
    }
   ],
   "source": [
    "print (\"Program Berjalan!\")"
   ]
  },
  {
   "cell_type": "markdown",
   "metadata": {},
   "source": [
    "### Status cell"
   ]
  },
  {
   "cell_type": "markdown",
   "metadata": {},
   "source": [
    " `[ ]:` simbol di sebelah kiri setiap Code cell menggambarkan keadaan cell :\n",
    "\n",
    "* `[ ]:` berarti cell tersebut belum dijalankan.\n",
    "* `[*]:` berarti cell tersebut sedang berjalan.\n",
    "* `[1]:` berarti cell telah selesai berjalan dan merupakan cell pertama yang dijalankan.\n",
    "\n",
    "Angka tersebut menunjukkan urutan cell yang dijalankan.\n",
    "\n",
    "> **Catatan:** Anda juga dapat mengetahui apakah cell sedang berjalan di Jupyter notebook dengan memeriksa lingkaran kecil di kanan atas window. \n",
    "Lingkaran akan berubah menjadi abu-abu (\"Kernel busy\") saat cell sedang berjalan, dan kembali kosong (\"Kernel idle\") saat proses selesai."
   ]
  },
  {
   "cell_type": "markdown",
   "metadata": {},
   "source": [
    "## 📝 Jenis cell di Jupyter Notebook\n",
    "Terdapat tiga jenis cell yaitu Code, Markdown, dan Raw cell. \n",
    "Penamaan ini dapat diubah menggunakan menu pada bagian atas notebook."
   ]
  },
  {
   "cell_type": "markdown",
   "metadata": {},
   "source": [
    "### Code cell\n",
    "\n",
    "Semua pengoperasian skrip dilakukan di Code cell. \n",
    "Code cell dapat digunakan untuk mengedit dan menulis skrip baru, serta melakukan tugas seperti memuat data, memplot data, dan menjalankan analisis. \n",
    "\n",
    "Klik cell di bawah ini. \n",
    "Pastikan bahwa menu di bagian atas notebook menggambarkannya sebagai Code cell."
   ]
  },
  {
   "cell_type": "code",
   "execution_count": 2,
   "metadata": {},
   "outputs": [
    {
     "name": "stdout",
     "output_type": "stream",
     "text": [
      "Ini adalah code cell\n"
     ]
    }
   ],
   "source": [
    "print(\"Ini adalah code cell\")"
   ]
  },
  {
   "cell_type": "markdown",
   "metadata": {},
   "source": [
    "### Markdown cell\n",
    "Untuk mengedit markdown cell, tempatkan kursor di markdown cell dan klik dua kali.\n",
    "\n",
    "Format cell telah diubah untuk memungkinkan pengeditan. \n",
    "Pastikan menu di bagian atas notebook menunjukkan cell ini sebagai Markdown cell.\n",
    "\n",
    "Jalankan cell untuk mengembalikan menjadi code cell.\n",
    "\n",
    "Markdown cell digunakan untuk memberikan penjelasan di notebook.\n",
    "Cell ini berisi teks yang digunakan untuk menggambarkan *code operation* pada cell berikutnya.\n",
    "Untuk melihat beberapa opsi format untuk teks di Markdown cell, navigasikan ke tab \"Help\" pada menu di bagian atas JupyterLab dan pilih \"Markdown Reference\". \n",
    "Di sini terdapat berbagai opsi format teks termasuk judul, titik, miring, hyperlink, dan pembuatan tabel."
   ]
  },
  {
   "cell_type": "markdown",
   "metadata": {},
   "source": [
    "### Raw cell\n",
    "Informasi dalam Raw cell disimpan dalam metadata notebook dan dapat digunakan untuk mengubah berbagai format skrip menjadi HTML atau $\\LaTeX$.\n",
    "Ada berbagai format Raw cell yang tersedia, yang berbeda-beda tergantung pada cara mengubahnya.\n",
    "Pada level pemula, raw cell jarang digunakan oleh pengguna dan tidak diperlukan bagi sebagian besar pengguna notebook."
   ]
  },
  {
   "cell_type": "markdown",
   "metadata": {},
   "source": [
    "## 🤚 Menghentikan proses atau memulai ulang Jupyter Notebook\n",
    "Terkadang ada baiknya untuk menghentikan eksekusi cell sebelum selesai (misalnya jika suatu proses memakan waktu terlalu lama untuk diselesaikan, atau jika perlu mengubah beberapa skrip sebelum menjalankan cell). \n",
    "Untuk menghentikan eksekusi cell, Anda dapat mengklik tombol &#9632; \"stop\" pada menu di bagian atas notebook, atau pilih \"Interrupt Kernel\" dari menu Kernel.\n",
    "\n",
    "Untuk mengujinya, jalankan code cell berikut.\n",
    "Skrip ini akan menjalankan sebuah skrip yang akan memakan waktu 10 detik untuk diselesaikan.\n",
    "Untuk menghentikan skrip ini, tekan tombol &#9632; \"stop\". \n",
    "Notebook akan berhenti mengeksekusi cell."
   ]
  },
  {
   "cell_type": "code",
   "execution_count": 3,
   "metadata": {},
   "outputs": [],
   "source": [
    "import time\n",
    "time.sleep(10)"
   ]
  },
  {
   "cell_type": "markdown",
   "metadata": {},
   "source": [
    "Jika cara di atas tidak berhasil (misalnya jika Notebook macet atau menolak merespon), Anda juga dapat mencoba memulai ulang seluruh Notebook.\n",
    "Untuk melakukannya, navigasikan ke tab \"Kernel\" pada menu, lalu pilih \"Restart Kernel\".\n",
    "Atau, klik tombol &#x21bb; \"Restart the kernel\" pada menu di bagian atas notebook.\n",
    "\n",
    "Memulai ulang notebook juga dapat berguna untuk menguji apakah skrip akan berfungsi dengan benar saat pertama kali pengguna baru mencoba menjalankan notebook.\n",
    "Untuk memulai ulang lalu menjalankan setiap cell dalam notebook, navigasikan ke tab \"Kernel\", lalu pilih \"Restart and Run All Cells\"."
   ]
  },
  {
   "cell_type": "markdown",
   "metadata": {},
   "source": [
    "## 💾 Menyimpan dan mengekspor pekerjaan\n",
    "\n",
    "Modifikasi pada Jupyter Notebook secara otomatis disimpan setiap beberapa menit.\n",
    "Untuk menyimpan notebook secara manual dilakukan dengan cara membuka \"File\" di menu, lalu pilih \"Save Notebook\".\n",
    "Atau, klik ikon &#128190; \"save\" di sebelah kiri menu pada bagian atas notebook.\n",
    "\n",
    "### Mengekspor Jupyter Notebook ke skrip Python\n",
    "Ekstensi file standar untuk Jupyter Notebook adalah `.ipynb`.\n",
    "\n",
    "Ada berbagai pilihan ekspor yang memungkinkan Anda menyimpan pekerjaan Anda untuk diakses di luar Jupyter. \n",
    "Skrip Python misalnya dapat dengan mudah disimpan sebagai `.py` skrip Python dengan membuka tab \"File\" pada menu di JupyterLab dan memilih \"Export Notebook As\" diikuti oleh \"Export Notebook To Executable Script\"."
   ]
  },
  {
   "cell_type": "markdown",
   "metadata": {},
   "source": [
    "## 🆕 Memulai notebook baru\n",
    "Untuk membuat notebook baru, gunakan JupyterLab's file browser untuk menavigasi ke direktori tempat notebook akan dibuat (jika file browser tidak muncul, buka kembali dengan mengklik ikon &#128193; \"File browser\" di kiri atas layar).\n",
    "\n",
    "Setelah Anda menavigasi ke lokasi yang diinginkan, tekan tombol &#10010; \"New Launcher\" di atas browser. \n",
    "Ini akan memunculkan halaman \"Launcher\" JupyterLab yang memungkinkan Anda meluncurkan berbagai file atau utilitas baru. \n",
    "Di bawah judul \"Notebook\", klik tombol besar \"Python 3\".\n",
    "Ini akan membuat notebook baru berjudul \"Untitled.ipynb\" di direktori Anda.\n",
    "\n",
    "Untuk mengganti nama notebook menjadi sesuatu yang lebih mudah untuk diingat, klik kanan pada notebook tersebut di file browser dan pilih \"Rename\". "
   ]
  },
  {
   "cell_type": "markdown",
   "metadata": {},
   "source": [
    "## 💡 Beberapa tips\n",
    "\n",
    "### a) Magic command\n",
    "Jupyter mendukung \"magic commands\" yang dimulai dengan `%` atau `%%`:"
   ]
  },
  {
   "cell_type": "code",
   "execution_count": null,
   "metadata": {},
   "outputs": [],
   "source": [
    "# Mengukur waktu eksekusi\n",
    "%time sum(range(1000000))"
   ]
  },
  {
   "cell_type": "code",
   "execution_count": 2,
   "metadata": {},
   "outputs": [
    {
     "name": "stdout",
     "output_type": "stream",
     "text": [
      "Interactive namespace is empty.\n"
     ]
    }
   ],
   "source": [
    "# Melihat variabel yang ada di memory\n",
    "%whos"
   ]
  },
  {
   "cell_type": "code",
   "execution_count": null,
   "metadata": {},
   "outputs": [],
   "source": [
    "# Menjalankan perintah shell\n",
    "!echo \"Halo dari command line!\""
   ]
  },
  {
   "cell_type": "markdown",
   "metadata": {},
   "source": [
    "### b) Menampilkan help\n",
    "Gunakan `?` setelah nama fungsi untuk melihat dokumentasi:"
   ]
  },
  {
   "cell_type": "code",
   "execution_count": null,
   "metadata": {},
   "outputs": [],
   "source": [
    "# Uncomment baris di bawah untuk melihat help\n",
    "print?"
   ]
  },
  {
   "cell_type": "markdown",
   "metadata": {},
   "source": [
    "### c) Markdown Formatting\n",
    "\n",
    "Anda bisa menggunakan Markdown untuk formatting:\n",
    "\n",
    "- **Bold text**\n",
    "- *Italic text*\n",
    "- `Code inline`\n",
    "- [Link](https://jupyter.org/)\n",
    "\n",
    "#### Daftar:\n",
    "1. Item pertama\n",
    "2. Item kedua\n",
    "3. Item ketiga\n",
    "\n",
    "#### Tabel:\n",
    "| Kolom 1 | Kolom 2 | Kolom 3 |\n",
    "|---------|---------|----------|\n",
    "| Data 1  | Data 2  | Data 3   |\n",
    "| Data 4  | Data 5  | Data 6   |"
   ]
  },
  {
   "cell_type": "markdown",
   "metadata": {},
   "source": [
    "---"
   ]
  },
  {
   "cell_type": "markdown",
   "metadata": {},
   "source": [
    "## ℹ️ Info\n",
    "\n",
    "Jika ada pertanyaan atau komentas bisa mengirimkan email ke piksel@big.go.id\n",
    "\n",
    "**Lisensi:** Skrip dalam notebook ini dilisensikan berdasarkan [Apache License, Version 2.0](https://www.apache.org/licenses/LICENSE-2.0). \n",
    "Data Piksel dilisensikan berdasarkan lisensi [Creative Commons by Attribution 4.0](https://creativecommons.org/licenses/by/4.0/).\n"
   ]
  },
  {
   "cell_type": "code",
   "execution_count": 1,
   "metadata": {},
   "outputs": [
    {
     "name": "stdout",
     "output_type": "stream",
     "text": [
      "Tanggal update: 04 August 2025\n"
     ]
    }
   ],
   "source": [
    "from datetime import datetime\n",
    "print(f\"Tanggal update: {datetime.now().strftime('%d %B %Y')}\")"
   ]
  }
 ],
 "metadata": {
  "kernelspec": {
   "display_name": "Python 3 (ipykernel)",
   "language": "python",
   "name": "python3"
  },
  "language_info": {
   "codemirror_mode": {
    "name": "ipython",
    "version": 3
   },
   "file_extension": ".py",
   "mimetype": "text/x-python",
   "name": "python",
   "nbconvert_exporter": "python",
   "pygments_lexer": "ipython3",
   "version": "3.12.10"
  },
  "widgets": {
   "application/vnd.jupyter.widget-state+json": {
    "state": {},
    "version_major": 2,
    "version_minor": 0
   }
  }
 },
 "nbformat": 4,
 "nbformat_minor": 4
}
