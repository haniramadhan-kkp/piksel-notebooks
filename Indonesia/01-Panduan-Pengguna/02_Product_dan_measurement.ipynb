{
 "cells": [
  {
   "cell_type": "markdown",
   "metadata": {},
   "source": [
    "# Pengenalan products dan measurements\n",
    "\n",
    "* **Products yang digunakan:** \n",
    "[ls8_c2l2_sr](http://43.218.254.133:8080/products/ls8_c2l2_sr)\n",
    "\n",
    "* **Prasyarat:** Pengguna notebook ini harus memiliki pemahaman dasar tentang:\n",
    "    * Cara menjalankan [Jupyter notebook](01_Jupyter_notebooks.ipynb)\n"
   ]
  },
  {
   "cell_type": "raw",
   "metadata": {
    "raw_mimetype": "text/restructuredtext"
   },
   "source": [
    "**Keywords** :index:`pengenalan; products`, :index:`pengenalan; measurements`, :index:`products; pengenalan`, :index:`measurements; pengenalan`, :index:`data used; landsat 8`"
   ]
  },
  {
   "cell_type": "markdown",
   "metadata": {},
   "source": [
    "## Latar Belakang\n",
    "\"Datacube\" adalah arsitektur informasi digital yang mengkhususkan diri dalam penyimpanan dan pengkatalogan informasi spasial.\n",
    "Piksel didasarkan pada infrastruktur [Open Data Cube](https://www.opendatacube.org/), dan mengkhususkan diri dalam penyimpanan data penginderaan jauh, khususnya satelit Pengamatan Bumi seperti [Landsat](https://landsat.gsfc.nasa.gov/) dan [Sentinel](https://www.esa.int/Applications/Observing_the_Earth/Copernicus/The_Sentinel_missions).\n",
    "\n",
    "Datacube Piksel berisi data satelit mentah dan data turunan.\n",
    "Product sering kali terdiri dari berbagai measurement seperti rangkaian nilai band remote sensing atau ringkasan statistik product. Sebelum menjalankan query untuk memuat data dari datacube, ada baiknya untuk mengetahui apa saja isinya.\n",
    "Notebook ini menunjukkan beberapa cara mudah untuk memeriksa product dan konten measurement datacube."
   ]
  },
  {
   "cell_type": "markdown",
   "metadata": {},
   "source": [
    "## Definisi\n",
    "\n",
    "* Product adalah data citra dan data turunannya, contoh:s2_l2a untuk Sentinel 2 dan ls8_c2l2_sr untuk landsat 8.\n",
    "* Measurement adalah band dari suatu product, contoh: `red`, `blue`, `green`, `nir` pada product s2_l2a."
   ]
  },
  {
   "cell_type": "markdown",
   "metadata": {},
   "source": [
    "## Deskripsi\n",
    "Notebook ini menunjukkan cara menghubungkan ke datacube [Piksel](http://43.218.254.133:8080/) dan memeriksa product dan measurement yang tersedia yang tersimpan di dalamnya.\n",
    "Topik yang dibahas meliputi:\n",
    "\n",
    "* Cara terhubung ke datacube\n",
    "* Cara mencantumkan semua product\n",
    "* Cara mencantumkan measurement product terpilih\n",
    "* Cara memvisualisasikan data dalam datacube secara interaktif\n",
    "\n",
    "***"
   ]
  },
  {
   "cell_type": "markdown",
   "metadata": {},
   "source": [
    "## Memulai\n",
    "Untuk menjalankan pengantar product dan measurement ini, jalankan semua cell di notebook yang dimulai dengan \"Load packages\" cell. Untuk bantuan dalam menjalankan notebook cells, lihat kembali di [Jupyter Notebooks notebook](01_Jupyter_notebooks.ipynb)."
   ]
  },
  {
   "cell_type": "markdown",
   "metadata": {},
   "source": [
    "### Memuat datacube\n",
    "Library `datacube` diperlukan untuk mengakses dan bekerja dengan data yang tersedia.\n",
    "Library `pandas` diperlukan untuk memformat tabel.\n",
    "Utilitas `DcViewer` akan memungkinkan kita untuk menjelajahi product yang tersedia di datacube secara interaktif."
   ]
  },
  {
   "cell_type": "code",
   "execution_count": 3,
   "metadata": {},
   "outputs": [],
   "source": [
    "import datacube\n",
    "import pandas as pd\n",
    "from odc.ui import DcViewer\n",
    "\n",
    "# Set some configurations for displaying tables nicely\n",
    "pd.set_option('display.max_colwidth', 200)\n",
    "pd.set_option('display.max_rows', None)"
   ]
  },
  {
   "cell_type": "markdown",
   "metadata": {},
   "source": [
    "### Terhubung ke datacube\n",
    "\n",
    "Setelah mengimpor library `datacube`,pengguna perlu menentukan nama untuk sesi mereka, yang dikenal sebagai nama aplikasi.\n",
    "\n",
    "Nama ini dibuat oleh pengguna dan digunakan untuk melacak masalah dengan database queries.\n",
    "Nama ini tidak memiliki pengaruh apa pun pada analisis.\n",
    "Gunakan nama pendek yang konsisten dengan tujuan notebook Anda seperti `02_Products_and_measurements` digunakan sebagai nama aplikasi di notebook ini.\n",
    "\n",
    "Objek `dc` yang dihasilkan adalah yang digunakan untuk mengakses semua data yang terdapat dalam datacube Piksel."
   ]
  },
  {
   "cell_type": "code",
   "execution_count": 4,
   "metadata": {},
   "outputs": [],
   "source": [
    "dc = datacube.Datacube(app=\"02_Products_and_measurements\")"
   ]
  },
  {
   "cell_type": "markdown",
   "metadata": {},
   "source": [
    "## Daftar product"
   ]
  },
  {
   "cell_type": "markdown",
   "metadata": {},
   "source": [
    "Setelah datacube instance dibuat, pengguna dapat menjelajahi product dan measurement yang tersimpan di dalamnya.\n",
    "\n",
    "Cell berikut mencantumkan semua atribut product yang saat ini tersedia di datacube Piksel dengan menggunakan fungsi `dc.list_products().columns`."
   ]
  },
  {
   "cell_type": "code",
   "execution_count": 5,
   "metadata": {},
   "outputs": [
    {
     "data": {
      "text/plain": [
       "Index(['name', 'description', 'license', 'default_crs', 'default_resolution'], dtype='object')"
      ]
     },
     "execution_count": 5,
     "metadata": {},
     "output_type": "execute_result"
    }
   ],
   "source": [
    "dc.list_products().columns"
   ]
  },
  {
   "cell_type": "markdown",
   "metadata": {},
   "source": [
    "Semua ini dapat digunakan untuk menyesuaikan informasi product yang dikembalikan oleh fungsi `dc.list_products()`,seperti yang ditunjukkan pada cell berikutnya.\n",
    "\n",
    "Selain itu, cell berikutnya mencantumkan semua product yang saat ini tersedia dalam datacube Piksel dengan menggunakan fungsi `dc.list_products()`.\n",
    "\n",
    "Product yang tercantum di bawah **name** dalam tabel berikut mewakili opsi product yang tersedia saat query datacube. \n",
    "Tabel di bawah ini menyediakan beberapa informasi berguna tentang setiap product, termasuk **description** product singkat, **instrument** dan **platform** tempat data berasal (e.g. Landsat 8 OLI), dan **crs** (sistem referensi koordinat) dan **resolution** default product jika berlaku."
   ]
  },
  {
   "cell_type": "code",
   "execution_count": 6,
   "metadata": {},
   "outputs": [
    {
     "data": {
      "text/html": [
       "<div>\n",
       "<style scoped>\n",
       "    .dataframe tbody tr th:only-of-type {\n",
       "        vertical-align: middle;\n",
       "    }\n",
       "\n",
       "    .dataframe tbody tr th {\n",
       "        vertical-align: top;\n",
       "    }\n",
       "\n",
       "    .dataframe thead th {\n",
       "        text-align: right;\n",
       "    }\n",
       "</style>\n",
       "<table border=\"1\" class=\"dataframe\">\n",
       "  <thead>\n",
       "    <tr style=\"text-align: right;\">\n",
       "      <th></th>\n",
       "      <th>name</th>\n",
       "      <th>description</th>\n",
       "      <th>default_crs</th>\n",
       "      <th>default_resolution</th>\n",
       "    </tr>\n",
       "    <tr>\n",
       "      <th>name</th>\n",
       "      <th></th>\n",
       "      <th></th>\n",
       "      <th></th>\n",
       "      <th></th>\n",
       "    </tr>\n",
       "  </thead>\n",
       "  <tbody>\n",
       "    <tr>\n",
       "      <th>ls5_c2l2_sr</th>\n",
       "      <td>ls5_c2l2_sr</td>\n",
       "      <td>USGS Landsat t Collection 2 Level-2 Surface Reflectance</td>\n",
       "      <td>None</td>\n",
       "      <td>None</td>\n",
       "    </tr>\n",
       "    <tr>\n",
       "      <th>ls5_c2l2_st</th>\n",
       "      <td>ls5_c2l2_st</td>\n",
       "      <td>USGS Landsat 5 Collection 2 Level-2 Surface Temperature</td>\n",
       "      <td>None</td>\n",
       "      <td>None</td>\n",
       "    </tr>\n",
       "    <tr>\n",
       "      <th>ls7_c2l2_sr</th>\n",
       "      <td>ls7_c2l2_sr</td>\n",
       "      <td>USGS Landsat 7 Collection 2 Level-2 Surface Reflectance</td>\n",
       "      <td>None</td>\n",
       "      <td>None</td>\n",
       "    </tr>\n",
       "    <tr>\n",
       "      <th>ls7_c2l2_st</th>\n",
       "      <td>ls7_c2l2_st</td>\n",
       "      <td>USGS Landsat 7 Collection 2 Level-2 Surface Temperature</td>\n",
       "      <td>None</td>\n",
       "      <td>None</td>\n",
       "    </tr>\n",
       "    <tr>\n",
       "      <th>ls8_c2l2_sr</th>\n",
       "      <td>ls8_c2l2_sr</td>\n",
       "      <td>USGS Landsat 8 Collection 2 Level-2 Surface Reflectance</td>\n",
       "      <td>None</td>\n",
       "      <td>None</td>\n",
       "    </tr>\n",
       "    <tr>\n",
       "      <th>ls8_c2l2_st</th>\n",
       "      <td>ls8_c2l2_st</td>\n",
       "      <td>USGS Landsat 8 Collection 2 Level-2 Surface Temperature</td>\n",
       "      <td>None</td>\n",
       "      <td>None</td>\n",
       "    </tr>\n",
       "    <tr>\n",
       "      <th>ls9_c2l2_sr</th>\n",
       "      <td>ls9_c2l2_sr</td>\n",
       "      <td>USGS Landsat 9 Collection 2 Level-2 Surface Reflectance</td>\n",
       "      <td>None</td>\n",
       "      <td>None</td>\n",
       "    </tr>\n",
       "    <tr>\n",
       "      <th>ls9_c2l2_st</th>\n",
       "      <td>ls9_c2l2_st</td>\n",
       "      <td>USGS Landsat 9 Collection 2 Level-2 Surface Temperature</td>\n",
       "      <td>None</td>\n",
       "      <td>None</td>\n",
       "    </tr>\n",
       "    <tr>\n",
       "      <th>s2_l2a</th>\n",
       "      <td>s2_l2a</td>\n",
       "      <td>Sentinel-2a, Sentinel-2b and Sentinel-2c imagery, processed to Level 2A (Surface Reflectance) and converted to Cloud Optimized GeoTIFFs</td>\n",
       "      <td>None</td>\n",
       "      <td>None</td>\n",
       "    </tr>\n",
       "  </tbody>\n",
       "</table>\n",
       "</div>"
      ],
      "text/plain": [
       "                    name  \\\n",
       "name                       \n",
       "ls5_c2l2_sr  ls5_c2l2_sr   \n",
       "ls5_c2l2_st  ls5_c2l2_st   \n",
       "ls7_c2l2_sr  ls7_c2l2_sr   \n",
       "ls7_c2l2_st  ls7_c2l2_st   \n",
       "ls8_c2l2_sr  ls8_c2l2_sr   \n",
       "ls8_c2l2_st  ls8_c2l2_st   \n",
       "ls9_c2l2_sr  ls9_c2l2_sr   \n",
       "ls9_c2l2_st  ls9_c2l2_st   \n",
       "s2_l2a            s2_l2a   \n",
       "\n",
       "                                                                                                                                         description  \\\n",
       "name                                                                                                                                                   \n",
       "ls5_c2l2_sr                                                                                  USGS Landsat t Collection 2 Level-2 Surface Reflectance   \n",
       "ls5_c2l2_st                                                                                  USGS Landsat 5 Collection 2 Level-2 Surface Temperature   \n",
       "ls7_c2l2_sr                                                                                  USGS Landsat 7 Collection 2 Level-2 Surface Reflectance   \n",
       "ls7_c2l2_st                                                                                  USGS Landsat 7 Collection 2 Level-2 Surface Temperature   \n",
       "ls8_c2l2_sr                                                                                  USGS Landsat 8 Collection 2 Level-2 Surface Reflectance   \n",
       "ls8_c2l2_st                                                                                  USGS Landsat 8 Collection 2 Level-2 Surface Temperature   \n",
       "ls9_c2l2_sr                                                                                  USGS Landsat 9 Collection 2 Level-2 Surface Reflectance   \n",
       "ls9_c2l2_st                                                                                  USGS Landsat 9 Collection 2 Level-2 Surface Temperature   \n",
       "s2_l2a       Sentinel-2a, Sentinel-2b and Sentinel-2c imagery, processed to Level 2A (Surface Reflectance) and converted to Cloud Optimized GeoTIFFs   \n",
       "\n",
       "            default_crs default_resolution  \n",
       "name                                        \n",
       "ls5_c2l2_sr        None               None  \n",
       "ls5_c2l2_st        None               None  \n",
       "ls7_c2l2_sr        None               None  \n",
       "ls7_c2l2_st        None               None  \n",
       "ls8_c2l2_sr        None               None  \n",
       "ls8_c2l2_st        None               None  \n",
       "ls9_c2l2_sr        None               None  \n",
       "ls9_c2l2_st        None               None  \n",
       "s2_l2a             None               None  "
      ]
     },
     "execution_count": 6,
     "metadata": {},
     "output_type": "execute_result"
    }
   ],
   "source": [
    "products = dc.list_products()\n",
    "\n",
    "display_columns = [\"name\",\n",
    "                   \"description\",\n",
    "                   \"default_crs\",\n",
    "                   \"default_resolution\"]\n",
    "\n",
    "products[display_columns].sort_index()"
   ]
  },
  {
   "cell_type": "markdown",
   "metadata": {},
   "source": [
    "## Daftar measurement\n",
    "\n",
    "Sebagian besar product dikaitkan dengan berbagai measurement yang tersedia.\n",
    "Measurement ini dapat berupa individual satellite bands (e.g. Landsat's near-infrared band) atau ringkasan product statistik.\n",
    "\n",
    "Dengan menggunakan kolom **name** product yang tercantum di atas, mari kita selidiki measurement yang terkait dengan product `ls9_c2l2_sr` menggunakan fungsi `dc.list_measurements()`.\n",
    "Nama product ini merujuk pada product data Landsat 8 yang siap untuk Analisis dari Survei Geologi AS.\n",
    "\n",
    "Tabel di bawah ini mencakup berbagai informasi teknis tentang setiap band yang ada di dataset, termasuk **aliases** yang dapat digunakan untuk memuat data, tipe data atau **dtype**, **flags_definition** yang dikaitkan dengan measurement (informasi ini digunakan untuk tugas-tugas seperti cloud masking), dan nilai **nodata** measurement.\n",
    "\n",
    "Ubah nama `product` di bawah ini dan jalankan kembali cell berikut untuk menjelajahi measurement yang tersedia yang terkait dengan product lain."
   ]
  },
  {
   "cell_type": "code",
   "execution_count": 7,
   "metadata": {},
   "outputs": [
    {
     "data": {
      "text/html": [
       "<div>\n",
       "<style scoped>\n",
       "    .dataframe tbody tr th:only-of-type {\n",
       "        vertical-align: middle;\n",
       "    }\n",
       "\n",
       "    .dataframe tbody tr th {\n",
       "        vertical-align: top;\n",
       "    }\n",
       "\n",
       "    .dataframe thead th {\n",
       "        text-align: right;\n",
       "    }\n",
       "</style>\n",
       "<table border=\"1\" class=\"dataframe\">\n",
       "  <thead>\n",
       "    <tr style=\"text-align: right;\">\n",
       "      <th></th>\n",
       "      <th>name</th>\n",
       "      <th>dtype</th>\n",
       "      <th>units</th>\n",
       "      <th>nodata</th>\n",
       "      <th>aliases</th>\n",
       "      <th>flags_definition</th>\n",
       "    </tr>\n",
       "    <tr>\n",
       "      <th>measurement</th>\n",
       "      <th></th>\n",
       "      <th></th>\n",
       "      <th></th>\n",
       "      <th></th>\n",
       "      <th></th>\n",
       "      <th></th>\n",
       "    </tr>\n",
       "  </thead>\n",
       "  <tbody>\n",
       "    <tr>\n",
       "      <th>coastal</th>\n",
       "      <td>coastal</td>\n",
       "      <td>uint16</td>\n",
       "      <td>1</td>\n",
       "      <td>0</td>\n",
       "      <td>[SR_B1, band_1, coastal_aerosol]</td>\n",
       "      <td>NaN</td>\n",
       "    </tr>\n",
       "    <tr>\n",
       "      <th>blue</th>\n",
       "      <td>blue</td>\n",
       "      <td>uint16</td>\n",
       "      <td>1</td>\n",
       "      <td>0</td>\n",
       "      <td>[SR_B2, band_2]</td>\n",
       "      <td>NaN</td>\n",
       "    </tr>\n",
       "    <tr>\n",
       "      <th>green</th>\n",
       "      <td>green</td>\n",
       "      <td>uint16</td>\n",
       "      <td>1</td>\n",
       "      <td>0</td>\n",
       "      <td>[SR_B3, band_3]</td>\n",
       "      <td>NaN</td>\n",
       "    </tr>\n",
       "    <tr>\n",
       "      <th>red</th>\n",
       "      <td>red</td>\n",
       "      <td>uint16</td>\n",
       "      <td>1</td>\n",
       "      <td>0</td>\n",
       "      <td>[SR_B4, band_4]</td>\n",
       "      <td>NaN</td>\n",
       "    </tr>\n",
       "    <tr>\n",
       "      <th>nir08</th>\n",
       "      <td>nir08</td>\n",
       "      <td>uint16</td>\n",
       "      <td>1</td>\n",
       "      <td>0</td>\n",
       "      <td>[SR_B5, band_5]</td>\n",
       "      <td>NaN</td>\n",
       "    </tr>\n",
       "    <tr>\n",
       "      <th>swir16</th>\n",
       "      <td>swir16</td>\n",
       "      <td>uint16</td>\n",
       "      <td>1</td>\n",
       "      <td>0</td>\n",
       "      <td>[SR_B6, band_6, swir_1]</td>\n",
       "      <td>NaN</td>\n",
       "    </tr>\n",
       "    <tr>\n",
       "      <th>swir22</th>\n",
       "      <td>swir22</td>\n",
       "      <td>uint16</td>\n",
       "      <td>1</td>\n",
       "      <td>0</td>\n",
       "      <td>[SR_B7, band_7, swir_2]</td>\n",
       "      <td>NaN</td>\n",
       "    </tr>\n",
       "    <tr>\n",
       "      <th>qa_pixel</th>\n",
       "      <td>qa_pixel</td>\n",
       "      <td>uint16</td>\n",
       "      <td>bit_index</td>\n",
       "      <td>1</td>\n",
       "      <td>[pixel_qa, pq, pixel_quality]</td>\n",
       "      <td>{'snow': {'bits': 5, 'values': {'0': 'not_high_confidence', '1': 'high_confidence'}}, 'clear': {'bits': 6, 'values': {'0': False, '1': True}}, 'cloud': {'bits': 3, 'values': {'0': 'not_high_confid...</td>\n",
       "    </tr>\n",
       "    <tr>\n",
       "      <th>qa_radsat</th>\n",
       "      <td>qa_radsat</td>\n",
       "      <td>uint16</td>\n",
       "      <td>bit_index</td>\n",
       "      <td>0</td>\n",
       "      <td>[QA_RADSAT, radsat, radiometric_saturation]</td>\n",
       "      <td>{'nir_saturation': {'bits': 4, 'values': {'0': False, '1': True}}, 'red_saturation': {'bits': 3, 'values': {'0': False, '1': True}}, 'blue_saturation': {'bits': 1, 'values': {'0': False, '1': True...</td>\n",
       "    </tr>\n",
       "    <tr>\n",
       "      <th>qa_aerosol</th>\n",
       "      <td>qa_aerosol</td>\n",
       "      <td>uint8</td>\n",
       "      <td>bit_index</td>\n",
       "      <td>1</td>\n",
       "      <td>[SR_QA_AEROSOL, qa_aerosol, aerosol_qa]</td>\n",
       "      <td>{'water': {'bits': 2, 'values': {'0': False, '1': True}}, 'nodata': {'bits': 0, 'values': {'0': False, '1': True}}, 'aerosol_level': {'bits': [6, 7], 'values': {'0': 'climatology', '1': 'low', '2'...</td>\n",
       "    </tr>\n",
       "  </tbody>\n",
       "</table>\n",
       "</div>"
      ],
      "text/plain": [
       "                   name   dtype      units  nodata  \\\n",
       "measurement                                          \n",
       "coastal         coastal  uint16          1       0   \n",
       "blue               blue  uint16          1       0   \n",
       "green             green  uint16          1       0   \n",
       "red                 red  uint16          1       0   \n",
       "nir08             nir08  uint16          1       0   \n",
       "swir16           swir16  uint16          1       0   \n",
       "swir22           swir22  uint16          1       0   \n",
       "qa_pixel       qa_pixel  uint16  bit_index       1   \n",
       "qa_radsat     qa_radsat  uint16  bit_index       0   \n",
       "qa_aerosol   qa_aerosol   uint8  bit_index       1   \n",
       "\n",
       "                                                 aliases  \\\n",
       "measurement                                                \n",
       "coastal                 [SR_B1, band_1, coastal_aerosol]   \n",
       "blue                                     [SR_B2, band_2]   \n",
       "green                                    [SR_B3, band_3]   \n",
       "red                                      [SR_B4, band_4]   \n",
       "nir08                                    [SR_B5, band_5]   \n",
       "swir16                           [SR_B6, band_6, swir_1]   \n",
       "swir22                           [SR_B7, band_7, swir_2]   \n",
       "qa_pixel                   [pixel_qa, pq, pixel_quality]   \n",
       "qa_radsat    [QA_RADSAT, radsat, radiometric_saturation]   \n",
       "qa_aerosol       [SR_QA_AEROSOL, qa_aerosol, aerosol_qa]   \n",
       "\n",
       "                                                                                                                                                                                                    flags_definition  \n",
       "measurement                                                                                                                                                                                                           \n",
       "coastal                                                                                                                                                                                                          NaN  \n",
       "blue                                                                                                                                                                                                             NaN  \n",
       "green                                                                                                                                                                                                            NaN  \n",
       "red                                                                                                                                                                                                              NaN  \n",
       "nir08                                                                                                                                                                                                            NaN  \n",
       "swir16                                                                                                                                                                                                           NaN  \n",
       "swir22                                                                                                                                                                                                           NaN  \n",
       "qa_pixel     {'snow': {'bits': 5, 'values': {'0': 'not_high_confidence', '1': 'high_confidence'}}, 'clear': {'bits': 6, 'values': {'0': False, '1': True}}, 'cloud': {'bits': 3, 'values': {'0': 'not_high_confid...  \n",
       "qa_radsat    {'nir_saturation': {'bits': 4, 'values': {'0': False, '1': True}}, 'red_saturation': {'bits': 3, 'values': {'0': False, '1': True}}, 'blue_saturation': {'bits': 1, 'values': {'0': False, '1': True...  \n",
       "qa_aerosol   {'water': {'bits': 2, 'values': {'0': False, '1': True}}, 'nodata': {'bits': 0, 'values': {'0': False, '1': True}}, 'aerosol_level': {'bits': [6, 7], 'values': {'0': 'climatology', '1': 'low', '2'...  "
      ]
     },
     "execution_count": 7,
     "metadata": {},
     "output_type": "execute_result"
    }
   ],
   "source": [
    "product = \"ls9_c2l2_sr\"\n",
    "\n",
    "measurements = dc.list_measurements()\n",
    "measurements.loc[product]"
   ]
  },
  {
   "cell_type": "markdown",
   "metadata": {},
   "source": [
    "## Memvisualisasikan data yang tersedia\n",
    "Untuk cara yang lebih visual dalam menjelajahi data yang tersedia dalam datacube Piksel, kita dapat menggunakan utilitas `DcViewer` interaktif atau situs web [Piksel](http://43.218.254.133:8080/).\n",
    "Kita akan menggunakan utilitas `DcViewer` dalam latihan ini.\n",
    "Pilih product dari menu drop-down di kiri atas peta untuk menunjukkan area yang datanya tersedia dalam warna biru.\n",
    "Anda juga dapat menggunakan tombol back dan forward di atas peta untuk beralih antar waktu.\n",
    "\n",
    "\n",
    "\n",
    "Utilitas ini hanya dapat memvisualisasikan sejumlah kumpulan data terbatas pada satu waktu.\n",
    "Jika jejak data yang tersedia tidak muncul, tekan tombol \"show\" di kanan atas, atau perbesar peta lebih jauh."
   ]
  },
  {
   "cell_type": "code",
   "execution_count": 10,
   "metadata": {
    "scrolled": true
   },
   "outputs": [
    {
     "data": {
      "application/vnd.jupyter.widget-view+json": {
       "model_id": "78eae2e26f2a4abc898266ae0f1a9f73",
       "version_major": 2,
       "version_minor": 0
      },
      "text/plain": [
       "VBox(children=(HBox(children=(Dropdown(layout=Layout(flex='0 1 auto', width='10em'), options=('ls5_c2l2_sr', '…"
      ]
     },
     "execution_count": 10,
     "metadata": {},
     "output_type": "execute_result"
    }
   ],
   "source": [
    "DcViewer(dc=dc, \n",
    "         time='2025',\n",
    "         center=(-6.1753, 106.8271),\n",
    "         zoom=6)"
   ]
  },
  {
   "cell_type": "markdown",
   "metadata": {},
   "source": [
    "## Langkah selanjutnya\n",
    "\n",
    "Untuk informasi lebih lanjut tentang bekerja dengan Jupyter Notebooks atau JupyterLab, Anda dapat menjelajahi [JupyterLab documentation page](https://jupyterlab.readthedocs.io/en/stable/user/notebook.html).\n",
    "\n",
    "Untuk melanjutkan mengerjakan notebook, dapat dilakukan dalam urutan berikut:\n",
    "\n",
    "1. [Jupyter Notebooks](01_Jupyter_notebooks.ipynb)\n",
    "2. **Products and measurements (this notebook)**\n",
    "3. [Membuka data](03_Membuka_data.ipynb)\n",
    "4. [Plotting](04_Plotting.ipynb)\n",
    "5. [Analisis dasar](05_Analisis_dasar.ipynb)\n",
    "6. [numpy](06_numpy.ipynb)\n",
    "7. [xarray](07_xarray.ipynb)\n",
    "8. [Parallel processing dgn Dask](08_Parallel_processing_dgn_dask.ipynb)\n"
   ]
  },
  {
   "cell_type": "markdown",
   "metadata": {},
   "source": [
    "***\n",
    "\n",
    "## Informasi Tambahan\n",
    "\n",
    "**Lisensi:** Skrip dalam notebook ini dilisensikan berdasarkan [Apache License, Version 2.0](https://www.apache.org/licenses/LICENSE-2.0). \n",
    "Data Piksel dilisensikan berdasarkan lisensi [Creative Commons by Attribution 4.0](https://creativecommons.org/licenses/by/4.0/).\n",
    "\n",
    "**Kontak:** Jika Anda memerlukan bantuan, silakan ajukan pertanyaan di [Open Data Cube Slack channel](http://slack.opendatacube.org/) atau di [GIS Stack Exchange](https://gis.stackexchange.com/questions/ask?tags=open-data-cube) menggunakan tag `open-data-cube` (Anda dapat melihat pertanyaan yang diajukan sebelumnya di [here](https://gis.stackexchange.com/questions/tagged/open-data-cube)).\n",
    "Jika Anda ingin melaporkan masalah pada notebook ini, Anda dapat mengirimkan email ke [Direktorat Pemetaan Tematik](mailto:tu.dpt@big.go.id).\n",
    "\n",
    "**Versi datacube yang kompatibel:** "
   ]
  },
  {
   "cell_type": "code",
   "execution_count": 11,
   "metadata": {},
   "outputs": [
    {
     "name": "stdout",
     "output_type": "stream",
     "text": [
      "1.9.6\n"
     ]
    }
   ],
   "source": [
    "print(datacube.__version__)"
   ]
  },
  {
   "cell_type": "markdown",
   "metadata": {},
   "source": [
    "**Terakhir Diuji:**"
   ]
  },
  {
   "cell_type": "code",
   "execution_count": 12,
   "metadata": {},
   "outputs": [
    {
     "data": {
      "text/plain": [
       "'2025-07-28'"
      ]
     },
     "execution_count": 12,
     "metadata": {},
     "output_type": "execute_result"
    }
   ],
   "source": [
    "from datetime import datetime\n",
    "datetime.today().strftime('%Y-%m-%d')"
   ]
  },
  {
   "cell_type": "code",
   "execution_count": null,
   "metadata": {},
   "outputs": [],
   "source": []
  }
 ],
 "metadata": {
  "kernelspec": {
   "display_name": "Python 3 (ipykernel)",
   "language": "python",
   "name": "python3"
  },
  "language_info": {
   "codemirror_mode": {
    "name": "ipython",
    "version": 3
   },
   "file_extension": ".py",
   "mimetype": "text/x-python",
   "name": "python",
   "nbconvert_exporter": "python",
   "pygments_lexer": "ipython3",
   "version": "3.12.10"
  },
  "widgets": {
   "application/vnd.jupyter.widget-state+json": {
    "state": {},
    "version_major": 2,
    "version_minor": 0
   }
  }
 },
 "nbformat": 4,
 "nbformat_minor": 4
}
