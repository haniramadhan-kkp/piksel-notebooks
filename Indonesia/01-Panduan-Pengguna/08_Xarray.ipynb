{
 "cells": [
  {
   "cell_type": "markdown",
   "metadata": {},
   "source": [
    "| <h1><b>Pengenalan Xarray</b></h1> |  ![](files/piksel-logo-small.png) |\n",
    "|:---------|----------:|\n",
    "\n",
    "* **Kompatibilitas**: Notebook saat ini kompatibel dengan lingkungan `Piksel Sandbox`\n",
    "* **Prasyarat**:  Pengguna notebook ini harus memiliki pemahaman dasar tentang:\n",
    "    * Bagaimana menjalankan [Jupyter notebook](02_Jupyter_notebook.ipynb)\n",
    "    * Bagaimana menggunakan [Numpy](07_Numpy.ipynb)"
   ]
  },
  {
   "cell_type": "markdown",
   "metadata": {},
   "source": [
    "## 🔙 Pendahuluan\n",
    "`Xarray` adalah pustaka python yang menyederhanakan pekerjaan dengan array multi-dimensi berlabel.\n",
    "`Xarray` memperkenalkan label dalam bentuk dimensi, koordinat, dan atribut di atas array `numpy` mentah, yang memungkinkan pengembangan yang lebih intuitif dan ringkas.\n",
    "Informasi lebih lanjut tentang struktur dan fungsi data `xarray` dapat ditemukan [di sini](http://xarray.pydata.org/en/stable/).\n",
    "\n",
    "Setelah Anda menyelesaikan buku catatan ini, Anda mungkin tertarik untuk mengembangkan kemampuan `xarray` Anda lebih jauh, [notebook eksternal](https://rabernat.github.io/research_computing/xarray.html) ini memperkenalkan lebih banyak penggunaan `xarray` dan dapat membantu Anda mengembangkan kemampuan Anda lebih jauh. "
   ]
  },
  {
   "cell_type": "markdown",
   "metadata": {},
   "source": [
    "Buku catatan ini dirancang untuk memperkenalkan pengguna kepada `xarray` menggunakan kode Python di Jupyter Notebooks melalui JupyterLab.\n",
    "\n",
    "Topik-topik yang dibahas meliputi:\n",
    "\n",
    "* Cara menggunakan fungsi `xarray` dalam sel Jupyter Notebook\n",
    "* Cara mengakses dimensi dan metadata `xarray`\n",
    "* Menggunakan pengindeksan untuk menjelajahi data `xarray` multi-dimensi\n",
    "* Penerapan fungsi `xarray` bawaan seperti sum, std, dan mean"
   ]
  },
  {
   "cell_type": "markdown",
   "metadata": {},
   "source": [
    "## 🏃‍♂️‍➡️ Memulai\n",
    "Untuk menjalankan notebook ini, jalankan semua sel dalam notebook yang dimulai dengan sel \"Load packages\". Untuk bantuan dalam menjalankan sel notebook, lihat kembali ke [Jupyter Notebooks notebook](02_Jupyter_notebook.ipynb). "
   ]
  },
  {
   "cell_type": "markdown",
   "metadata": {},
   "source": [
    "### Menggunakan Library"
   ]
  },
  {
   "cell_type": "code",
   "execution_count": null,
   "metadata": {},
   "outputs": [],
   "source": [
    "%matplotlib inline\n",
    "\n",
    "import matplotlib.pyplot as plt\n",
    "import numpy as np\n",
    "import xarray as xr"
   ]
  },
  {
   "cell_type": "markdown",
   "metadata": {},
   "source": [
    "## 📅 Pengantar xarray\n",
    "Piksel menggunakan `xarray` sebagai model data intinya. \n",
    "Untuk lebih memahami apa itu, pertama-tama mari kita lakukan percobaan sederhana menggunakan kombinasi array `numpy` biasa dan kamus Python.\n",
    "\n",
    "Misalkan kita memiliki citra satelit dengan tiga band: `Red`, `NIR`, dan `SWIR`.\n",
    "Band-band ini direpresentasikan sebagai array `numpy` 2 dimensi dan koordinat lintang dan bujur untuk setiap dimensi direpresentasikan menggunakan array 1 dimensi. \n",
    "Terakhir, kami juga memiliki beberapa metadata yang disertakan dengan gambar ini.\n",
    "Kode di bawah ini membuat data satelit palsu dan menyusun data tersebut sebagai `dictionary`."
   ]
  },
  {
   "cell_type": "code",
   "execution_count": null,
   "metadata": {},
   "outputs": [],
   "source": [
    "# Membuat data satelit palsu\n",
    "red = np.random.rand(250, 250)\n",
    "nir = np.random.rand(250, 250)\n",
    "swir = np.random.rand(250, 250)\n",
    "\n",
    "# Buat beberapa lintang dan bujur\n",
    "lats = np.linspace(-23.5, -26.0, num=red.shape[0], endpoint=False)\n",
    "lons = np.linspace(110.0, 112.5, num=red.shape[1], endpoint=False)\n",
    "\n",
    "# Buat metadata\n",
    "title = \"Image of the desert\"\n",
    "date = \"2019-11-10\"\n",
    "\n",
    "# Tumpuk ke dalam dictionary\n",
    "image = {\n",
    "    \"red\": red,\n",
    "    \"nir\": nir,\n",
    "    \"swir\": swir,\n",
    "    \"latitude\": lats,\n",
    "    \"longitude\": lons,\n",
    "    \"title\": title,\n",
    "    \"date\": date,\n",
    "}"
   ]
  },
  {
   "cell_type": "markdown",
   "metadata": {},
   "source": [
    "Semua data dikemas dengan mudah dalam dictionary. Sekarang kita dapat menggunakan dictionary ini untuk bekerja dengan data yang ada di dalamnya:"
   ]
  },
  {
   "cell_type": "code",
   "execution_count": null,
   "metadata": {},
   "outputs": [],
   "source": [
    "# Tanggal citra satelit\n",
    "print(image[\"date\"])\n",
    "\n",
    "# Rata-rata nilai red\n",
    "image[\"red\"].mean()"
   ]
  },
  {
   "cell_type": "markdown",
   "metadata": {},
   "source": [
    "Namun demikian, untuk memilih data, kita harus menggunakan indeks `numpy`.\n",
    "Bukankah akan lebih mudah jika kita dapat memilih data dari gambar dengan menggunakan koordinat piksel, bukan posisi relatifnya?\n",
    "Inilah yang diselesaikan oleh `xarray`! Mari kita lihat bagaimana cara kerjanya:\n",
    "\n",
    "Untuk menjelajahi `xarray` kita memiliki file yang berisi beberapa data reflektansi permukaan yang diekstrak dari platform Piksel.\n",
    "Objek yang kita dapatkan `ds` adalah `xarray` `Dataset`, yang dalam beberapa hal sangat mirip dengan dictionary yang telah kita buat sebelumnya, tetapi dengan banyak fungsi yang tersedia."
   ]
  },
  {
   "cell_type": "code",
   "execution_count": null,
   "metadata": {},
   "outputs": [],
   "source": [
    "ds = xr.open_dataset(\"files/example_netcdf.nc\")\n",
    "ds"
   ]
  },
  {
   "cell_type": "markdown",
   "metadata": {},
   "source": [
    "### Struktur kumpulan data Xarray\n",
    "Sebuah `Dataset` dapat dilihat sebagai struktur dictionary yang mengemas data, dimensi, dan atribut. Variabel dalam objek `Dataset` disebut `DataArrays` dan mereka berbagi dimensi dengan `Dataset` yang lebih tinggi.\n",
    "Gambar di bawah ini memberikan contoh ilustrasi:\n",
    "\n",
    "![Xarray img](files/dataset-diagram.png)\n"
   ]
  },
  {
   "cell_type": "markdown",
   "metadata": {},
   "source": [
    "Untuk mengakses sebuah variabel, kita bisa mengaksesnya seolah-olah seperti kamus Python, atau menggunakan notasi `.`, yang lebih nyaman."
   ]
  },
  {
   "cell_type": "code",
   "execution_count": null,
   "metadata": {},
   "outputs": [],
   "source": [
    "ds[\"green\"]\n",
    "\n",
    "# Atau sebagai alternatif:\n",
    "ds.green"
   ]
  },
  {
   "cell_type": "markdown",
   "metadata": {},
   "source": [
    "Dimensi juga disimpan sebagai array numerik yang dapat dengan mudah kita akses:"
   ]
  },
  {
   "cell_type": "code",
   "execution_count": null,
   "metadata": {},
   "outputs": [],
   "source": [
    "ds[\"time\"]\n",
    "\n",
    "# Atau sebagai alternatif:\n",
    "ds.time"
   ]
  },
  {
   "cell_type": "markdown",
   "metadata": {},
   "source": [
    "Metadata disebut sebagai atribut dan disimpan secara internal di bawah `.attrs`, tetapi notasi `.` yang sama juga berlaku untuk metadata."
   ]
  },
  {
   "cell_type": "code",
   "execution_count": null,
   "metadata": {},
   "outputs": [],
   "source": [
    "ds.attrs[\"crs\"]\n",
    "\n",
    "# Atau sebagai alternatif:\n",
    "ds.crs"
   ]
  },
  {
   "cell_type": "markdown",
   "metadata": {},
   "source": [
    "`DataArrays` menyimpan datanya secara internal sebagai array `numpy` multidimensi.\n",
    "Namun array ini berisi dimensi atau label yang memudahkan penanganan data.\n",
    "Untuk mengakses array numpy yang mendasari sebuah `DataArray`, kita dapat menggunakan notasi `.values`."
   ]
  },
  {
   "cell_type": "code",
   "execution_count": null,
   "metadata": {},
   "outputs": [],
   "source": [
    "arr = ds.green.values\n",
    "\n",
    "type(arr), arr.shape"
   ]
  },
  {
   "cell_type": "markdown",
   "metadata": {},
   "source": [
    "### Pengindeksan\n",
    "\n",
    "`Xarray` menawarkan dua cara yang berbeda untuk memilih data. Ini termasuk pendekatan `isel()`, di mana data dapat dipilih berdasarkan indeksnya (seperti `numpy`).\n"
   ]
  },
  {
   "cell_type": "code",
   "execution_count": null,
   "metadata": {},
   "outputs": [],
   "source": [
    "print(ds.time.values)\n",
    "\n",
    "ss = ds.green.isel(time=0)\n",
    "ss"
   ]
  },
  {
   "cell_type": "markdown",
   "metadata": {},
   "source": [
    "Atau pendekatan `sel()`, yang digunakan untuk memilih data berdasarkan dimensi nilai labelnya."
   ]
  },
  {
   "cell_type": "code",
   "execution_count": null,
   "metadata": {},
   "outputs": [],
   "source": [
    "ss = ds.green.sel(time=\"2018-01-08\")\n",
    "ss"
   ]
  },
  {
   "cell_type": "markdown",
   "metadata": {},
   "source": [
    "Mengiris data juga digunakan untuk memilih sebagian data."
   ]
  },
  {
   "cell_type": "code",
   "execution_count": null,
   "metadata": {},
   "outputs": [],
   "source": [
    "ss.x.values[100]"
   ]
  },
  {
   "cell_type": "code",
   "execution_count": null,
   "metadata": {},
   "outputs": [],
   "source": [
    "ss = ds.green.sel(time=\"2018-01-08\", x=slice(2378390, 2380390))\n",
    "ss"
   ]
  },
  {
   "cell_type": "markdown",
   "metadata": {},
   "source": [
    "Xarray menyediakan banyak fungsi untuk mengubah dan menganalisis `Dataset` dan `DataArray` dengan mudah.\n",
    "Sebagai contoh, untuk menghitung rata-rata spasial, deviasi standar, atau jumlah band hijau:"
   ]
  },
  {
   "cell_type": "code",
   "execution_count": null,
   "metadata": {},
   "outputs": [],
   "source": [
    "print(\"Mean of green band:\", ds.green.mean().values)\n",
    "print(\"Standard deviation of green band:\", ds.green.std().values)\n",
    "print(\"Sum of green band:\", ds.green.sum().values)"
   ]
  },
  {
   "cell_type": "markdown",
   "metadata": {},
   "source": [
    "## 🖨️ Memplot data dengan Matplotlib\n",
    "Plotting juga terintegrasi dengan mudah dalam library."
   ]
  },
  {
   "cell_type": "code",
   "execution_count": null,
   "metadata": {},
   "outputs": [],
   "source": [
    "ds[\"green\"].isel(time=0).plot()"
   ]
  },
  {
   "cell_type": "markdown",
   "metadata": {},
   "source": [
    "... tetapi kita masih dapat melakukan berbagai hal secara manual menggunakan `numpy` dan `matplotlib` jika Anda mau:"
   ]
  },
  {
   "cell_type": "code",
   "execution_count": null,
   "metadata": {},
   "outputs": [],
   "source": [
    "rgb = np.dstack((ds.red.isel(time=0).values,\n",
    "                 ds.green.isel(time=0).values,\n",
    "                 ds.blue.isel(time=0).values))\n",
    "rgb = np.clip(rgb, 0, 2000) / 2000\n",
    "\n",
    "plt.imshow(rgb);"
   ]
  },
  {
   "cell_type": "markdown",
   "metadata": {},
   "source": [
    "Tetapi bandingkan dengan operasi perangkaian yang elegan dalam `xarray`:"
   ]
  },
  {
   "cell_type": "code",
   "execution_count": null,
   "metadata": {},
   "outputs": [],
   "source": [
    "ds[[\"red\", \"green\", \"blue\"]].isel(time=0).to_array().plot.imshow(robust=True, figsize=(6, 6));"
   ]
  },
  {
   "cell_type": "markdown",
   "metadata": {},
   "source": [
    "---"
   ]
  },
  {
   "cell_type": "markdown",
   "metadata": {},
   "source": [
    "## ℹ️ Info\n",
    "\n",
    "Jika ada pertanyaan atau komentar bisa mengirimkan email ke piksel@big.go.id\n",
    "\n",
    "**Lisensi:** Skrip dalam notebook ini dilisensikan berdasarkan [Apache License, Version 2.0](https://www.apache.org/licenses/LICENSE-2.0). \n",
    "Data Piksel dilisensikan berdasarkan lisensi [Creative Commons by Attribution 4.0](https://creativecommons.org/licenses/by/4.0/).  \n"
   ]
  },
  {
   "cell_type": "code",
   "execution_count": null,
   "metadata": {},
   "outputs": [],
   "source": [
    "from datetime import datetime\n",
    "print(f\"Tanggal update: {datetime.now().strftime('%d %B %Y')}\")"
   ]
  }
 ],
 "metadata": {
  "kernelspec": {
   "display_name": "Python 3 (ipykernel)",
   "language": "python",
   "name": "python3"
  },
  "language_info": {
   "codemirror_mode": {
    "name": "ipython",
    "version": 3
   },
   "file_extension": ".py",
   "mimetype": "text/x-python",
   "name": "python",
   "nbconvert_exporter": "python",
   "pygments_lexer": "ipython3",
   "version": "3.12.0"
  },
  "widgets": {
   "application/vnd.jupyter.widget-state+json": {
    "state": {},
    "version_major": 2,
    "version_minor": 0
   }
  }
 },
 "nbformat": 4,
 "nbformat_minor": 4
}
