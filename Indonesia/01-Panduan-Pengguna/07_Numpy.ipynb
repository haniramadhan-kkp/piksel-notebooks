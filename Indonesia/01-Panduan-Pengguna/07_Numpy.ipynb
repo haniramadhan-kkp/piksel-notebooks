{
 "cells": [
  {
   "cell_type": "markdown",
   "metadata": {},
   "source": [
    "| <h1><b>Pengenalan Numpy</b></h1> |  ![](files/piksel-logo-small.png) |\n",
    "|:---------|----------:|\n",
    "\n",
    "* **Prasyarat**:  Pengguna notebook ini harus memiliki pemahaman dasar tentang:\n",
    "    * Cara menjalankan [Jupyter notebook](01_jupyter_notebooks.ipynb)"
   ]
  },
  {
   "cell_type": "raw",
   "metadata": {
    "raw_mimetype": "text/restructuredtext"
   },
   "source": [
    "**Keywords** :index:`pengenalan; numpy`, :index:`python package; numpy`, :index:`python package; matplotlib`"
   ]
  },
  {
   "cell_type": "markdown",
   "metadata": {},
   "source": [
    "## 🔙 Pendahuluan\n",
    "Numpy adalah Python library yang menambahkan dukungan untuk array dan metrik multidimensi yang besar, beserta sekumpulan besar fungsi matematika tingkat tinggi untuk beroperasi pada array ini. Informasi selengkapnya tentang array Numpy dapat ditemukan di sini [here](https://en.wikipedia.org/wiki/NumPy)."
   ]
  },
  {
   "cell_type": "markdown",
   "metadata": {},
   "source": [
    "Notebook ini dirancang untuk memperkenalkan pengguna pada array Numpy atau penggunaan Python code di Jupyter Notebooks melalui JupyterLab.\n",
    "\n",
    "Topik yang dibahas meliputi:\n",
    "\n",
    "* Cara menggunakan fungsi Numpy di Jupyter Notebook cell\n",
    "* Penggunaan indeks untuk menjelajahi data array Numpy multidimensi\n",
    "* Tipe data Numpy, penyiaran dan booleans\n",
    "* Penggunaan Matplotlib untuk memplot data Numpy"
   ]
  },
  {
   "cell_type": "markdown",
   "metadata": {},
   "source": [
    "## 🏃‍♂️‍➡️ Memulai\n",
    "Untuk menjalankan notebook ini, jalankan semua cells di notebook yang dimulai dengan \"Load packages\" cell. Untuk bantuan dalam menjalankan notebook cells, refer kembali [Jupyter Notebooks notebook](01_Jupyter_notebooks.ipynb)."
   ]
  },
  {
   "cell_type": "markdown",
   "metadata": {},
   "source": [
    "### Memuat packages\n",
    "\n",
    "Agar dapat menggunakan numpy, kita perlu mengimpor pustaka menggunakan kata khusus `import`. Selain itu, untuk menghindari mengetik `numpy` setiap kali kita ingin menggunakan salah satu fungsinya, kita dapat memberikan alias menggunakan kata khusus `as`:"
   ]
  },
  {
   "cell_type": "code",
   "execution_count": null,
   "metadata": {},
   "outputs": [],
   "source": [
    "import numpy as np"
   ]
  },
  {
   "cell_type": "markdown",
   "metadata": {},
   "source": [
    "### Pengantar Numpy\n",
    "\n",
    "Sekarang, kita memiliki akses ke semua fungsi yang tersedia di `numpy` dengan mengetik `np.name_of_function`. Misalnya, padanan dari `1 + 1` di Python dapat dilakukan di `numpy`:"
   ]
  },
  {
   "cell_type": "code",
   "execution_count": null,
   "metadata": {},
   "outputs": [],
   "source": [
    "np.add(1,1)"
   ]
  },
  {
   "cell_type": "markdown",
   "metadata": {},
   "source": [
    "Meskipun ini mungkin awalnya tampak tidak terlalu berguna, bahkan operasi sederhana seperti ini dapat dilakukan jauh lebih cepat di `numpy` daripada di Python standar saat menggunakan banyak angka (array besar).\n",
    "\n",
    "Untuk mengakses dokumentasi yang menjelaskan cara penggunaan fungsi, parameter input, dan format output, kita dapat menekan `Shift+Tab` setelah nama fungsi. Coba ini di cell di bawah ini"
   ]
  },
  {
   "cell_type": "code",
   "execution_count": null,
   "metadata": {},
   "outputs": [],
   "source": [
    "np.add"
   ]
  },
  {
   "cell_type": "markdown",
   "metadata": {},
   "source": [
    "Secara default, hasil fungsi atau operasi ditampilkan di bawah cell yang berisi code. Jika kita ingin menggunakan kembali hasil ini untuk operasi selanjutnya, kita dapat menetapkannya ke variabel:"
   ]
  },
  {
   "cell_type": "code",
   "execution_count": null,
   "metadata": {},
   "outputs": [],
   "source": [
    "a = np.add(2,3)"
   ]
  },
  {
   "cell_type": "markdown",
   "metadata": {},
   "source": [
    "Isi variabel ini dapat ditampilkan kapan saja dengan mengetikkan nama variabel di cell baru:"
   ]
  },
  {
   "cell_type": "code",
   "execution_count": null,
   "metadata": {},
   "outputs": [],
   "source": [
    "a"
   ]
  },
  {
   "cell_type": "markdown",
   "metadata": {},
   "source": [
    "### Array Numpy\n",
    "Konsep inti dalam numpy adalah array yang setara dengan daftar angka tetapi dapat multidimensi. Untuk mendeklarasikan array numpy, kita lakukan:"
   ]
  },
  {
   "cell_type": "code",
   "execution_count": null,
   "metadata": {},
   "outputs": [],
   "source": [
    "np.array([1,2,3,4,5,6,7,8,9])"
   ]
  },
  {
   "cell_type": "markdown",
   "metadata": {},
   "source": [
    " Sebagian besar fungsi dan operasi yang didefinisikan dalam numpy dapat diterapkan ke array. Misalnya, dengan operasi sebelumnya:"
   ]
  },
  {
   "cell_type": "code",
   "execution_count": null,
   "metadata": {},
   "outputs": [],
   "source": [
    "arr1 = np.array([1,2,3,4])\n",
    "arr2 = np.array([3,4,5,6])\n",
    "\n",
    "np.add(arr1, arr2)"
   ]
  },
  {
   "cell_type": "markdown",
   "metadata": {},
   "source": [
    "Namun notasi yang lebih sederhana dan mudah juga dapat digunakan:"
   ]
  },
  {
   "cell_type": "code",
   "execution_count": null,
   "metadata": {},
   "outputs": [],
   "source": [
    "arr1 + arr2"
   ]
  },
  {
   "cell_type": "markdown",
   "metadata": {},
   "source": [
    "#### Pengindeksan\n",
    "Array dapat dibagi dan dipecah. Kita dapat memperoleh subset dari array menggunakan notasi pengindeksan yaitu `[start:end:stride]`. Mari kita lihat apa artinya ini:"
   ]
  },
  {
   "cell_type": "code",
   "execution_count": null,
   "metadata": {},
   "outputs": [],
   "source": [
    "arr = np.array([0,1,2,3,4,5,6,7,8,9,10,11,12,13,14,15])\n",
    "\n",
    "print('elemen ke-6 di array:', arr[5])\n",
    "print('elemen ke-6 terakhir di array', arr[5:])\n",
    "print('mulai dari awal sampai elemen ke 5 di array ', arr[:5])\n",
    "print('setiap elemen ke-2', arr[::2])"
   ]
  },
  {
   "cell_type": "markdown",
   "metadata": {},
   "source": [
    "Cobalah bereksperimen dengan indeks untuk memahami arti dari `start`, `end` and `stride`. Apa yang terjadi jika Anda tidak menentukan awalan? Nilai apa yang digunakan numpy sebagai gantinya? Perhatikan bahwa indeks numpy dimulai pada `0`, konvensi yang sama yang digunakan dalam daftar Python. \n",
    "\n",
    "Indeks juga bisa negatif, artinya Anda mulai menghitung dari akhir. Misalnya, untuk memilih 2 elemen terakhir dalam array, kita dapat melakukan: "
   ]
  },
  {
   "cell_type": "code",
   "execution_count": null,
   "metadata": {},
   "outputs": [],
   "source": [
    "arr[-2:]"
   ]
  },
  {
   "cell_type": "markdown",
   "metadata": {},
   "source": [
    "### Array multidimensi\n",
    "Array Numpy dapat memiliki beberapa dimensi. Misalnya, kita mendefinisikan array 2 dimensi `(1,9)` menggunakan tanda kurung siku: \n",
    "![](files/numpy_array.png)"
   ]
  },
  {
   "cell_type": "code",
   "execution_count": null,
   "metadata": {},
   "outputs": [],
   "source": [
    "np.array([[1,2,3,4,5,6,7,8,9]])"
   ]
  },
  {
   "cell_type": "markdown",
   "metadata": {},
   "source": [
    "Untuk memvisualisasikan bentuk atau dimensi array numpy, kita dapat menambahkan sufiks `.shape`"
   ]
  },
  {
   "cell_type": "code",
   "execution_count": null,
   "metadata": {},
   "outputs": [],
   "source": [
    "print(np.array([1,2,3,4,5,6,7,8,9]).shape)\n",
    "print(np.array([[1,2,3,4,5,6,7,8,9]]).shape)\n",
    "print(np.array([[1],[2],[3],[4],[5],[6],[7],[8],[9]]).shape)"
   ]
  },
  {
   "cell_type": "markdown",
   "metadata": {},
   "source": [
    "Setiap array dapat dibentuk ulang menjadi bentuk yang berbeda menggunakan fungsi `reshape`:"
   ]
  },
  {
   "cell_type": "code",
   "execution_count": null,
   "metadata": {},
   "outputs": [],
   "source": [
    "np.array([1,2,3,4,5,6,7,8]).reshape((2,4))"
   ]
  },
  {
   "cell_type": "markdown",
   "metadata": {},
   "source": [
    "Jika Anda khawatir harus mengetik begitu banyak tanda kurung, ada cara yang lebih sederhana untuk melakukannya:"
   ]
  },
  {
   "cell_type": "code",
   "execution_count": null,
   "metadata": {},
   "outputs": [],
   "source": [
    "print(np.array([1,2,3,4,5,6,7,8,9]).reshape(1,9).shape)\n",
    "print(np.array([1,2,3,4,5,6,7,8,9]).reshape(9,1).shape)\n",
    "print(np.array([1,2,3,4,5,6,7,8,9]).reshape(3,3).shape)"
   ]
  },
  {
   "cell_type": "markdown",
   "metadata": {},
   "source": [
    "Ada juga cara lain tanpa harus mengetikkan semua elemennya:"
   ]
  },
  {
   "cell_type": "code",
   "execution_count": null,
   "metadata": {},
   "outputs": [],
   "source": [
    "print(np.arange(9))\n",
    "print(np.ones((3,3)))\n",
    "print(np.zeros((2,2,2)))"
   ]
  },
  {
   "cell_type": "markdown",
   "metadata": {},
   "source": [
    "### Operasi aritmatika"
   ]
  },
  {
   "cell_type": "markdown",
   "metadata": {},
   "source": [
    "Numpy memiliki banyak fungsi aritmatika yang berguna. Di bawah ini kami akan menunjukkan beberapa di antaranya, seperti mean, standar deviasi dan jumlah semua elemen di array. Operasi ini dapat dilakukan di seluruh array, atau di dimensi tertentu."
   ]
  },
  {
   "cell_type": "code",
   "execution_count": null,
   "metadata": {},
   "outputs": [],
   "source": [
    "arr = np.arange(9).reshape((3,3))\n",
    "print(arr)"
   ]
  },
  {
   "cell_type": "code",
   "execution_count": null,
   "metadata": {},
   "outputs": [],
   "source": [
    "print('Rerata semua elemen di array:', np.mean(arr))\n",
    "print('Standar deviasi dari semua element di array:', np.std(arr))\n",
    "print('Jumlah semua elemen di array:', np.sum(arr))"
   ]
  },
  {
   "cell_type": "code",
   "execution_count": null,
   "metadata": {},
   "outputs": [],
   "source": [
    "print('Rerata element di array axis 0:', np.mean(arr, axis=0))\n",
    "print('Rerata element di array axis 1:', np.mean(arr, axis=1))"
   ]
  },
  {
   "cell_type": "markdown",
   "metadata": {},
   "source": [
    "### Tipe Data Numpy\n",
    "Array Numpy dapat berisi nilai numerik dari berbagai jenis. Jenis-jenis ini dapat dibagi dalam kelompok-kelompok berikut:\n",
    "\n",
    " * Integers\n",
    "    * Unsigned\n",
    "        * 8 bits: `uint8`\n",
    "        * 16 bits: `uint16`\n",
    "        * 32 bits: `uint32`\n",
    "        * 64 bits: `uint64`\n",
    "    * Signed\n",
    "        * 8 bits: `int8`\n",
    "        * 16 bits: `int16`\n",
    "        * 32 bits: `int32`\n",
    "        * 64 bits: `int64`\n",
    "\n",
    "* Floats\n",
    "    * 32 bits: `float32`\n",
    "    * 64 bits: `float64`\n",
    "    \n",
    "Kita dapat menentukan tipe array atau mengubah tipe data array yang sudah ada dengan cara berikut:"
   ]
  },
  {
   "cell_type": "code",
   "execution_count": null,
   "metadata": {},
   "outputs": [],
   "source": [
    "#set datatype dwhen declaring array\n",
    "arr = np.arange(5, dtype=np.uint8)\n",
    "print('Integer datatype:', arr)\n",
    "\n",
    "arr = arr.astype(np.float32)\n",
    "print('Float datatype:', arr)"
   ]
  },
  {
   "cell_type": "markdown",
   "metadata": {},
   "source": [
    "### Broadcasting\n",
    "\n",
    "Istilah braodcasting menjelaskan bagaimana numpy memperlakukan array dengan bentuk yang berbeda selama operasi aritmatika. Ada batasan tertentu, array yang lebih kecil akan di\"broadcast\" ke array yang lebih besar sehingga bentuknya kompatibel. Broadcasting menyediakan cara untuk memvektorisasi operasi array sehingga perulangan terjadi dalam C, bukan Python. Hal ini dapat membuat operasi menjadi sangat cepat."
   ]
  },
  {
   "cell_type": "code",
   "execution_count": null,
   "metadata": {},
   "outputs": [],
   "source": [
    "a = np.zeros((3,3))\n",
    "print(a)\n",
    "\n",
    "a = a + 1\n",
    "\n",
    "print(a)"
   ]
  },
  {
   "cell_type": "code",
   "execution_count": null,
   "metadata": {},
   "outputs": [],
   "source": [
    "a = np.arange(9).reshape((3,3))\n",
    "\n",
    "b = np.arange(3)\n",
    "\n",
    "a + b"
   ]
  },
  {
   "cell_type": "markdown",
   "metadata": {},
   "source": [
    "### Booleans\n",
    "Ada tipe biner di numpy yang disebut boolean yang mengodekan nilai `True` and `False`. Misalnya:"
   ]
  },
  {
   "cell_type": "code",
   "execution_count": null,
   "metadata": {},
   "outputs": [],
   "source": [
    "arr = (arr > 0)\n",
    "\n",
    "print(arr)\n",
    "\n",
    "arr.dtype"
   ]
  },
  {
   "cell_type": "markdown",
   "metadata": {},
   "source": [
    "Tipe Boolean cukup berguna untuk mengindeks dan memilih bagian gambar seperti yang akan kita lihat nanti. Banyak fungsi numpy juga bekerja dengan tipe Boolean."
   ]
  },
  {
   "cell_type": "code",
   "execution_count": null,
   "metadata": {},
   "outputs": [],
   "source": [
    "print(\"Jumlah 'Trues' di array:\", np.count_nonzero(arr))\n",
    "\n",
    "#create two boolean arrays\n",
    "a = np.array([1,1,0,0], dtype=np.bool_)\n",
    "b = np.array([1,0,0,1], dtype=np.bool_)\n",
    "\n",
    "#compare where they match\n",
    "np.logical_and(a, b)"
   ]
  },
  {
   "cell_type": "markdown",
   "metadata": {},
   "source": [
    "### Pengantar Matplotlib\n",
    "Bagian kedua ini memperkenalkan matplotlib, sebuah Python library untuk memplot array numpy sebagai gambar. Untuk keperluan tutorial ini, kita akan menggunakan bagian matplotlib yang disebut pyplot. Kita mengimpornya dengan melakukan:"
   ]
  },
  {
   "cell_type": "code",
   "execution_count": null,
   "metadata": {},
   "outputs": [],
   "source": [
    "%matplotlib inline\n",
    "\n",
    "import numpy as np\n",
    "from matplotlib import pyplot as plt"
   ]
  },
  {
   "cell_type": "markdown",
   "metadata": {},
   "source": [
    "Suatu gambar dapat dilihat sebagai array 2 dimensi. Untuk memvisualisasikan isi array numpy:"
   ]
  },
  {
   "cell_type": "code",
   "execution_count": null,
   "metadata": {},
   "outputs": [],
   "source": [
    "arr = np.arange(100).reshape(10,10)\n",
    "\n",
    "print(arr)\n",
    "\n",
    "plt.imshow(arr)"
   ]
  },
  {
   "cell_type": "markdown",
   "metadata": {},
   "source": [
    "Kita dapat menggunakan Pyplot library untuk memuat gambar menggunakan fungsi `imread`:"
   ]
  },
  {
   "cell_type": "code",
   "execution_count": null,
   "metadata": {},
   "outputs": [],
   "source": [
    "im = np.copy(plt.imread('img/kuta.png'))"
   ]
  },
  {
   "cell_type": "markdown",
   "metadata": {},
   "source": [
    "#### Mari tampilkan gambar ini menggunakan fungsi `imshow`."
   ]
  },
  {
   "cell_type": "code",
   "execution_count": null,
   "metadata": {
    "scrolled": true
   },
   "outputs": [],
   "source": [
    "plt.imshow(im)"
   ]
  },
  {
   "cell_type": "markdown",
   "metadata": {},
   "source": [
    "Ini adalah [free stock photo](https://depositphotos.com/42725091/stock-photo-kilimanjaro.html) Gunung Kilimanjaro, Tanzania. Gambar berwarna biasanya terdiri dari tiga lapisan yang berisi nilai piksel merah, hijau, dan biru. Saat kita menampilkan gambar, kita melihat ketiga warna tersebut digabungkan."
   ]
  },
  {
   "cell_type": "markdown",
   "metadata": {},
   "source": [
    "Mari kita gunakan fungsi pengindeksan numpy untuk memilih sepotong gambar ini. Misalnya untuk memilih matahari terbenam:"
   ]
  },
  {
   "cell_type": "code",
   "execution_count": null,
   "metadata": {},
   "outputs": [],
   "source": [
    "# plt.imshow(im[:100,-200:,:])\n",
    "plt.imshow(im[300:400,600:750,:])"
   ]
  },
  {
   "cell_type": "markdown",
   "metadata": {},
   "source": [
    "---"
   ]
  },
  {
   "cell_type": "markdown",
   "metadata": {},
   "source": [
    "## ℹ️ Info\n",
    "\n",
    "Jika ada pertanyaan atau komentar bisa mengirimkan email ke piksel@big.go.id\n",
    "\n",
    "**Lisensi:** Skrip dalam notebook ini dilisensikan berdasarkan [Apache License, Version 2.0](https://www.apache.org/licenses/LICENSE-2.0). \n",
    "Data Piksel dilisensikan berdasarkan lisensi [Creative Commons by Attribution 4.0](https://creativecommons.org/licenses/by/4.0/)."
   ]
  },
  {
   "cell_type": "code",
   "execution_count": null,
   "metadata": {},
   "outputs": [],
   "source": [
    "from datetime import datetime\n",
    "print(f\"Tanggal update: {datetime.now().strftime('%d %B %Y')}\")"
   ]
  }
 ],
 "metadata": {
  "kernelspec": {
   "display_name": "Python 3 (ipykernel)",
   "language": "python",
   "name": "python3"
  },
  "language_info": {
   "codemirror_mode": {
    "name": "ipython",
    "version": 3
   },
   "file_extension": ".py",
   "mimetype": "text/x-python",
   "name": "python",
   "nbconvert_exporter": "python",
   "pygments_lexer": "ipython3",
   "version": "3.12.0"
  },
  "widgets": {
   "application/vnd.jupyter.widget-state+json": {
    "state": {},
    "version_major": 2,
    "version_minor": 0
   }
  }
 },
 "nbformat": 4,
 "nbformat_minor": 4
}
