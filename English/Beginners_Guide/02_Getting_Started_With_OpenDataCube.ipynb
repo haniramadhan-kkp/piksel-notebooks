{
 "cells": [
  {
   "cell_type": "code",
   "execution_count": null,
   "id": "505075bd-7673-4be1-8c17-1b0ddde62804",
   "metadata": {},
   "outputs": [],
   "source": [
    "# Import required packages\n",
    "import pandas as pd\n",
    "from datacube import Datacube\n",
    "\n",
    "# Set some configurations for displaying tables nicely\n",
    "pd.set_option(\"display.max_colwidth\", 200)\n",
    "pd.set_option(\"display.max_rows\", None)"
   ]
  },
  {
   "cell_type": "code",
   "execution_count": null,
   "id": "da134f3f-c32f-40dd-8d47-e46ee883459f",
   "metadata": {},
   "outputs": [],
   "source": [
    "# Connect to datacube\n",
    "dc = Datacube()"
   ]
  },
  {
   "cell_type": "markdown",
   "id": "a7ff53ab-88db-48b8-acc9-337136e34a52",
   "metadata": {},
   "source": [
    "## Product Discovery"
   ]
  },
  {
   "cell_type": "code",
   "execution_count": null,
   "id": "14fe8015-c67a-49e1-be15-11357bc89a0c",
   "metadata": {},
   "outputs": [],
   "source": [
    "# List Products\n",
    "dc.list_products()"
   ]
  },
  {
   "cell_type": "code",
   "execution_count": null,
   "id": "28627d9f-e51a-4ed8-b680-ea81f8036a41",
   "metadata": {},
   "outputs": [],
   "source": [
    "# List measurements\n",
    "product = \"s2_l2a\"\n",
    "\n",
    "measurements = dc.list_measurements()\n",
    "measurements.loc[product]"
   ]
  },
  {
   "cell_type": "markdown",
   "id": "5f436b4f-0092-4d19-a06b-2a502112589a",
   "metadata": {},
   "source": [
    "## Dataset Searching & Querying"
   ]
  },
  {
   "cell_type": "markdown",
   "id": "1c1b8573-1764-491c-83d4-183018ff8612",
   "metadata": {},
   "source": [
    "### Finding Dataset"
   ]
  },
  {
   "cell_type": "code",
   "execution_count": null,
   "id": "ef5fb774-d895-4877-a09b-c50030d44e0a",
   "metadata": {},
   "outputs": [],
   "source": [
    "datasets = dc.find_datasets(product=\"s2_l2a\", limit=1)\n",
    "datasets"
   ]
  },
  {
   "cell_type": "markdown",
   "id": "c8a6a15b-f070-4b3a-b71f-06e82c7e93c8",
   "metadata": {},
   "source": [
    "We can also search for datasets within a specific spatial extent or time period. To do this, we supply a spatiotemporal query (i.e. a range of x- and y-coordinates defining the spatial area to load, and a range of times).\n",
    "\n",
    "`dc.find_datasets()` will then return a subset of datasets that match this query:"
   ]
  },
  {
   "cell_type": "code",
   "execution_count": null,
   "id": "e57b7b29-4640-4a87-8b0a-78fbcae8c503",
   "metadata": {},
   "outputs": [],
   "source": [
    "datasets = dc.find_datasets(\n",
    "    product=\"s2_l2a\", x=(114, 115), y=(-9, -10), time=(\"2025-06-01\", \"2025-06-30\")\n",
    ")\n",
    "\n",
    "print(f\"Found {len(datasets)} datasets\")\n",
    "\n",
    "# Select the first dataset\n",
    "dataset = datasets[0]\n",
    "print(f\"Here's the STAC URL for the first dataset: {dataset.uri}\")"
   ]
  },
  {
   "cell_type": "markdown",
   "id": "fd92c63b-ea78-4814-b5a6-2461f4c66eaa",
   "metadata": {},
   "source": [
    "### Inspecting Dataset"
   ]
  },
  {
   "cell_type": "code",
   "execution_count": null,
   "id": "2002188c-dc7d-47de-965c-6c2ca372d908",
   "metadata": {},
   "outputs": [],
   "source": [
    "dataset.measurements"
   ]
  },
  {
   "cell_type": "code",
   "execution_count": null,
   "id": "d109243b-aa80-4dd1-ba89-d450d42124af",
   "metadata": {},
   "outputs": [],
   "source": [
    "print(f\"The CRS of the dataset is: {dataset.crs}\")"
   ]
  },
  {
   "cell_type": "code",
   "execution_count": null,
   "id": "60d0e494-a34d-4cb5-b79f-1c2f28af8eba",
   "metadata": {},
   "outputs": [],
   "source": [
    "# Attributes and methods that are available\n",
    "dir(dataset.metadata)"
   ]
  },
  {
   "cell_type": "code",
   "execution_count": null,
   "id": "ddfa4a50-d30d-42f4-8c13-3841c62f7c1f",
   "metadata": {},
   "outputs": [],
   "source": [
    "print(f\"Cloud cover for the first dataset is: {dataset.metadata.cloud_cover:.3f}%\")"
   ]
  },
  {
   "cell_type": "code",
   "execution_count": null,
   "id": "b1983ff1",
   "metadata": {},
   "outputs": [],
   "source": [
    "# Let's find the dataset with the least cloud cover\n",
    "least = 101\n",
    "least_cloudy_dataset = None\n",
    "for ds in datasets:\n",
    "    # print(f\"Cloud cover for {ds.id} is: {ds.metadata.cloud_cover:.3f}%\")\n",
    "    if ds.metadata.cloud_cover < least:\n",
    "        least = ds.metadata.cloud_cover\n",
    "        least_cloudy_dataset = ds\n",
    "print(\n",
    "    f\"The dataset with the least cloud cover is: {least_cloudy_dataset.id} with {least:.3f}%\"\n",
    ")"
   ]
  },
  {
   "cell_type": "markdown",
   "id": "d36bc34d-a958-45d8-92cd-82c1ff175692",
   "metadata": {},
   "source": [
    "## Load Data\n",
    "Once you know the products or datasets that you are interested in, you can load data using `dc.load()`."
   ]
  },
  {
   "cell_type": "code",
   "execution_count": null,
   "id": "a56d92f1-7ace-4c66-8be2-a2202bf07649",
   "metadata": {},
   "outputs": [],
   "source": [
    "print(\"Available measurements:\")\n",
    "for meas in dataset.measurements.keys():\n",
    "    print(meas)"
   ]
  },
  {
   "cell_type": "code",
   "execution_count": null,
   "id": "3c3b8992-903b-44de-8bff-a797da0fc47b",
   "metadata": {},
   "outputs": [],
   "source": [
    "data = dc.load(\n",
    "    datasets=[least_cloudy_dataset],\n",
    "    measurements=[\"red\", \"blue\", \"green\"],\n",
    "    output_crs=least_cloudy_dataset.crs,\n",
    "    resolution=10,\n",
    "    # chunks={\"x\": 512, \"y\": 512},  # Uncomment to use Dask for lazy loading\n",
    ")\n",
    "data"
   ]
  },
  {
   "cell_type": "markdown",
   "id": "e7a5825b-c385-471f-b6d9-b1a71702271c",
   "metadata": {},
   "source": [
    "We can see that `dc.load` has returned an `xarray.Dataset` containing data from our two input datasets. \n",
    "\n",
    "> This `xarray.Dataset` includes:  \n",
    "> **Dimensions**  \n",
    "> This header identifies the number of timesteps returned (time: 2) as well as the number of resulting pixels in the `x` and `y` directions.\n",
    "> \n",
    "> **Coordinates**  \n",
    "> - time identifies the time attributed to each returned timestep.\n",
    "> - x and y provide coordinates for each pixel within the returned data.  \n",
    "> - spatial_ref provides information about the spatial grid used to load the data\n",
    "> \n",
    ">**Data variables**  \n",
    "> These are the measurements available for the loaded product.\n",
    "> For every timestep (time) returned by the query, the measured value at each pixel (y, x) is returned as an array for each measurement.\n",
    "> Each data variable is itself an `xarray.DataArray` object.\n",
    "> \n",
    "> **Attributes**  \n",
    "> Other important metadata or attributes for the loaded data"
   ]
  },
  {
   "cell_type": "markdown",
   "id": "2e57922a-e81d-4f83-a1b1-96138c4e952e",
   "metadata": {},
   "source": [
    "We can also inspect our loaded data by plotting it:"
   ]
  },
  {
   "cell_type": "code",
   "execution_count": null,
   "id": "df08d575-4fb2-4f08-b514-8d250f32543a",
   "metadata": {},
   "outputs": [],
   "source": [
    "# Plot the data\n",
    "data[[\"red\", \"green\", \"blue\"]].to_array().squeeze().plot.imshow(robust=True)"
   ]
  },
  {
   "cell_type": "code",
   "execution_count": null,
   "id": "a005d9aa",
   "metadata": {},
   "outputs": [],
   "source": [
    "# Or plot an interactive map\n",
    "data.odc.explore(vmin=0, vmax=1000)"
   ]
  }
 ],
 "metadata": {
  "kernelspec": {
   "display_name": "Python 3",
   "language": "python",
   "name": "python3"
  },
  "language_info": {
   "codemirror_mode": {
    "name": "ipython",
    "version": 3
   },
   "file_extension": ".py",
   "mimetype": "text/x-python",
   "name": "python",
   "nbconvert_exporter": "python",
   "pygments_lexer": "ipython3",
   "version": "3.11.11"
  }
 },
 "nbformat": 4,
 "nbformat_minor": 5
}
