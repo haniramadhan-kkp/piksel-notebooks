{
 "cells": [
  {
   "cell_type": "markdown",
   "metadata": {},
   "source": [
    "# Memuat data dari Piksel\n",
    "\n",
    "* **Product yang digunakan:** \n",
    "[s2_l2a](http://43.218.254.133:8080/products/s2_l2a), \n",
    "[ls9_c2l2_sr](http://43.218.254.133:8080/products/ls9_c2l2_sr)\n",
    "\n",
    "* **Prasyarat:** Pengguna notebook ini harus sudah memiliki pemahaman dasar tentang:\n",
    " * Cara menjalankan [Jupyter notebook](01_Jupyter_notebooks.ipynb)\n",
    " * Memeriksa ketersediaan [Product dan Measurements Piksel](02_Products_and_measurements.ipynb)"
   ]
  },
  {
   "cell_type": "markdown",
   "metadata": {
    "raw_mimetype": "text/restructuredtext"
   },
   "source": [
    "**Kata Kunci** Indeks: `panduan pemula; memuat data`, :indeks:`memuat data; panduan pemula`, :indeks:`data yang digunakan; landsat 9`, :indeks:`data yang digunakan; Sentinel 2`, :indeks:`metode data; resampling`, :indeks:`metode data; reproyeksi`, :indeks:`atribut data; sistem referensi koordinat`"
   ]
  },
  {
   "cell_type": "markdown",
   "metadata": {},
   "source": [
    "## Latar belakang\n",
    "Memuat data dari instans [Piksel](http://43.218.254.133:8080/) pada [Open Data Cube](https://www.opendatacube.org/) memerlukan pembuatan query data yang menentukan apa (what), di mana (where), dan kapan (when) data tersebut diminta. Setiap query akan mengembalikan [objek xarray multi-dimensi](http://xarray.pydata.org/en/stable/) yang berisi hasil dari query tersebut. \n",
    "\n",
    "Pemahaman tentang struktur data `xarray` sangat penting karena merupakan dasar dari struktur data yang dimuat dari datacube.  Manipulasi, transformasi, dan visualisasi objek `xarray` memberikan pengguna datacube kemampuan untuk menjelajahi dan menganalisis dataset Piksel, serta mengajukan dan menjawab pertanyaan-pertanyaan ilmiah."
   ]
  },
  {
   "cell_type": "markdown",
   "metadata": {},
   "source": [
    "## Deskripsi\n",
    "Notebook ini akan memperkenalkan cara memuat data dari datacube Piksel melalui pembuatan query dan penggunaan fungsi `dc.load()`.\n",
    "Topik yang dibahas meliputi:\n",
    "\n",
    "* Memuat data menggunakan `dc.load()`\n",
    "* Penjelasan `xarray.Dataset`\n",
    "    * Memeriksa sebuah `xarray.DataArray` individu\n",
    "* Kustomisasi fungsi `dc.load()`\n",
    "    * Menentukan measurements\n",
    "    * Metode resampling spasial\n",
    "* Memuat data menggunakan dictionary\n",
    "* Penggunaan `like`\n",
    "* Menambahkan progress bar \n",
    "\n",
    "***"
   ]
  },
  {
   "cell_type": "markdown",
   "metadata": {},
   "source": [
    "## Memulai\n",
    "Untuk menjalankan pengenalan tentang memuat data dari Piksel ini, jalankan semua sel di notebook mulai dari sel \"Memuat paket\". Untuk bantuan dalam menjalankan sel notebook, lihat kembali [notebook Jupyter Notebooks](01_Jupyter_notebooks.ipynb)."
   ]
  },
  {
   "cell_type": "markdown",
   "metadata": {},
   "source": [
    "### Memuat Paket\n",
    "Pertama, kita perlu memuat paket `datacube`. Ini akan memungkinkan kita untuk mengakses basisdata datacube dan memuat beberapa data. Fungsi `with_ui_cbk` dari `odc.ui` memungkinkan kita untuk menampilkan progress bar saat memuat data dalam jumlah besar."
   ]
  },
  {
   "cell_type": "code",
   "execution_count": 37,
   "metadata": {},
   "outputs": [],
   "source": [
    "import datacube\n",
    "from odc.ui import with_ui_cbk"
   ]
  },
  {
   "cell_type": "markdown",
   "metadata": {},
   "source": [
    "### Terhubung ke datacube\n",
    "Gunakan objek datacube `dc` untuk memuat data.\n",
    "Parameter `app` adalah nama unik yang digunakan untuk mengidentifikasi notebook yang tidak memiliki efek apa pun pada analisis."
   ]
  },
  {
   "cell_type": "code",
   "execution_count": 38,
   "metadata": {},
   "outputs": [],
   "source": [
    "dc = datacube.Datacube(app=\"03_Loading_data\")"
   ]
  },
  {
   "cell_type": "markdown",
   "metadata": {},
   "source": [
    "### Definisi variabel \n",
    "\n",
    "* `lat_range`: jangkauan/rentang wilayah spasial garis lintang (latitude) yang merupakan  garis imajiner yang melintang horizontal di permukaan Bumi. \n",
    "* `lon_range`: jangkauan/rentang wilayah spasial garis bujur (longitude) yang merupakan garis imajiner yang membentang dari kutub utara ke kutub selatan Bumi.\n",
    "   Dimensi ``longitude``/``latitude`` dan ``x``/``y`` dapat digunakan secara bergantian.\n",
    "* `time_range`: rentang waktu. Dimensi waktu dapat ditentukan menggunakan tuple dari objek datetime atau string dalam format \"YYYY\", \"YYYY-MM\" atau \"YYYY-MM-DD\"."
   ]
  },
  {
   "cell_type": "code",
   "execution_count": 39,
   "metadata": {},
   "outputs": [],
   "source": [
    "lat_range = (-6.000237, -6.020759)\n",
    "lon_range = (106.596046, 106.632157)\n",
    "time_range = (\"2024-01-01\", \"2024-10-31\")"
   ]
  },
  {
   "cell_type": "markdown",
   "metadata": {},
   "source": [
    "## Memuat data menggunakan `dc.load()`\n",
    "\n",
    "Memuat data dari datacube menggunakan fungsi [dc.load()](https://datacube-core.readthedocs.io/en/latest/api/indexed-data/generate/datacube.Datacube.load.html). Fungsi ini memerlukan argumen minimum berikut:\n",
    "\n",
    "* `product`: Produk tertentu yang akan dimuat (untuk meninjau produk Piksel, lihat notebook [Produk dan Band](02_Products_and_measurements.ipynb)).\n",
    "* `x`: Mengambil nilai dari variabel `lat_range` yang menerima query dalam sistem koordinat geografis WGS84.\n",
    "* `y`: Mengambil nilai dari variabel `lon_range`.\n",
    "* `time`: Mengambil nilai dari variabel `time_range`.\n",
    "\n",
    "Argumen opsional yang memberikan kemudahan penggunaan dan identifikasi band yang akan dimuat adalah:\n",
    "\n",
    "* `measurements:` Argumen ini digunakan untuk memberikan daftar nama band yang akan dimuat, seperti yang tercantum dalam `dc.list_measurements()`. \n",
    "Untuk dataset satelit, `measurements` berisi data untuk setiap band satelit individu (misalnya: red, green, blue, near infrared). \n",
    "Jika tidak disediakan, semua band untuk produk akan dikembalikan, dan akan memiliki nama default dari data satelit tersebut.\n",
    "\n",
    "Mari jalankan query untuk memuat data tahun 2024 dari [produk Sentinel 2 s2_l2a](http://43.218.254.133:8080/products/s2_l2a) untuk daerah sebagian Tangerang. \n",
    "Untuk contoh ini, kita dapat menggunakan parameter berikut:\n",
    "\n",
    "* `product`: `s2_l2a`\n",
    "* `x`=`lon_range`\n",
    "* `y`=`lat_range` \n",
    "* `time`=`time_range`\n",
    "* `measurements`= `['red', 'green', 'blue', 'nir']` \n",
    "\n",
    "Jalankan sel berikut untuk memuat semua dataset dari produk `s2_l2a` yang sesuai dengan rentang spasial dan temporal ini:"
   ]
  },
  {
   "cell_type": "code",
   "execution_count": 40,
   "metadata": {},
   "outputs": [
    {
     "name": "stdout",
     "output_type": "stream",
     "text": [
      "<xarray.Dataset> Size: 46MB\n",
      "Dimensions:      (time: 62, y: 229, x: 402)\n",
      "Coordinates:\n",
      "  * time         (time) datetime64[ns] 496B 2024-01-04T03:19:40.454000 ... 20...\n",
      "  * y            (y) float64 2kB 9.337e+06 9.337e+06 ... 9.334e+06 9.334e+06\n",
      "  * x            (x) float64 3kB 6.766e+05 6.767e+05 ... 6.806e+05 6.807e+05\n",
      "    spatial_ref  int32 4B 32748\n",
      "Data variables:\n",
      "    red          (time, y, x) uint16 11MB 7912 7880 7896 7880 ... 636 625 650\n",
      "    green        (time, y, x) uint16 11MB 7872 7848 7832 7848 ... 787 786 794\n",
      "    blue         (time, y, x) uint16 11MB 7896 7904 7896 7856 ... 844 813 833\n",
      "    nir          (time, y, x) uint16 11MB 8280 8264 8280 8240 ... 1194 1084 1084\n",
      "Attributes:\n",
      "    crs:           epsg:32748\n",
      "    grid_mapping:  spatial_ref\n"
     ]
    }
   ],
   "source": [
    "ds = dc.load(\n",
    "    product='s2_l2a',  # Ganti dengan nama produk sesuai konfigurasi ODC Anda\n",
    "    x=lon_range,  # Longitude\n",
    "    y=lat_range,  # Latitude\n",
    "    time=time_range,  # Rentang waktu\n",
    "    measurements=['red', 'green', 'blue', 'nir'],  # Band\n",
    "    output_crs='EPSG:32748',  # Proyeksi UTM untuk zona 48S\n",
    "    resolution=(-10, 10),  # Resolusi spasial 10 meter\n",
    ")\n",
    "print(ds)"
   ]
  },
  {
   "cell_type": "markdown",
   "metadata": {},
   "source": [
    "### Penjelasan `xarray.Dataset`\n",
    "Variabel `ds` yang telah dijalankan menghasilkan sebuah `xarray.Dataset` yang berisi semua data yang sesuai dengan parameter query spasial dan temporal yang dimasukkan ke dalam `dc.load`.\n",
    "\n",
    "*Dimensi*\n",
    "\n",
    "* Mengidentifikasi jumlah waktu yang dikembalikan dalam pencarian (`time: 1`) serta jumlah piksel dalam `x` dan `y` dari query data.\n",
    "\n",
    "*Koordinat*\n",
    "\n",
    "* `time` mengidentifikasi atribut tanggal yang dikaitkan dengan setiap waktu yang dikembalikan.\n",
    "* `x` dan `y` adalah koordinat untuk setiap piksel dalam batas query spasial.\n",
    "\n",
    "*Variabel Data*\n",
    "\n",
    "* Ini adalah band yang tersedia untuk produk yang telah ditentukan.\n",
    "Untuk setiap tanggal (`time`) yang dikembalikan oleh query, nilai yang diukur pada setiap piksel (`y`, `x`) dikembalikan sebagai array untuk setiap band.\n",
    "Setiap variabel data itu sendiri adalah objek `xarray.DataArray` ([lihat di bawah](#Memeriksa-individual-xarray.DataArray)).\n",
    "\n",
    "*Atribut*\n",
    "\n",
    "* `crs` mengidentifikasi sistem referensi koordinat (CRS) dari data yang dimuat."
   ]
  },
  {
   "cell_type": "markdown",
   "metadata": {},
   "source": [
    "### Memeriksa sebuah `xarray.DataArray` individu\n",
    "`xarray.Dataset` yang dimuat di atas adalah kumpulan dari objek `xarray.DataArray` individu yang menyimpan data aktual untuk setiap variabel data/band. \n",
    "\n",
    "Sebagai contoh, semua band yang tercantum di bawah _Data variables_ di atas (misalnya `blue`, `green`, `red`, `nir`, `swir_1`, `swir_2`) adalah objek `xarray.DataArray`.\n",
    "\n",
    "Kita dapat memeriksa data dalam objek `xarray.DataArray` ini menggunakan salah satu sintaks berikut:\n",
    "```\n",
    "ds[\"nama_band\"]\n",
    "```\n",
    "atau:\n",
    "```\n",
    "ds.nama_band\n",
    "```\n",
    "\n",
    "Kemampuan untuk mengakses data dari band individu memungkinkan kita untuk memanipulasi dan menganalisis data dari band satelit individu atau lapisan tertentu dalam sebuah dataset. Sebagai contoh, kita dapat mengakses data dari band satelit infra-merah dekat (yaitu `nir`):"
   ]
  },
  {
   "cell_type": "code",
   "execution_count": 41,
   "metadata": {},
   "outputs": [
    {
     "name": "stdout",
     "output_type": "stream",
     "text": [
      "<xarray.DataArray 'nir' (time: 62, y: 229, x: 402)> Size: 11MB\n",
      "array([[[8280, 8264, 8280, ..., 7320, 7304, 7296],\n",
      "        [8280, 8280, 8248, ..., 7304, 7304, 7296],\n",
      "        [8248, 8240, 8248, ..., 7328, 7320, 7304],\n",
      "        ...,\n",
      "        [8448, 8368, 8384, ..., 6928, 6932, 6900],\n",
      "        [8432, 8392, 8400, ..., 6924, 6928, 6904],\n",
      "        [8352, 8368, 8384, ..., 6908, 6920, 6932]],\n",
      "\n",
      "       [[8280, 8256, 8280, ..., 7320, 7296, 7296],\n",
      "        [8280, 8280, 8248, ..., 7304, 7304, 7296],\n",
      "        [8248, 8240, 8248, ..., 7328, 7328, 7312],\n",
      "        ...,\n",
      "        [8448, 8368, 8384, ..., 6928, 6928, 6888],\n",
      "        [8424, 8400, 8400, ..., 6924, 6928, 6904],\n",
      "        [8352, 8368, 8384, ..., 6908, 6908, 6932]],\n",
      "\n",
      "       [[3776, 3768, 3744, ..., 3896, 3912, 3900],\n",
      "        [3796, 3796, 3776, ..., 3852, 3872, 3896],\n",
      "        [3764, 3776, 3784, ..., 3864, 3920, 3852],\n",
      "        ...,\n",
      "...\n",
      "        ...,\n",
      "        [ 542,  536,  554, ..., 2524, 1926, 1224],\n",
      "        [ 556,  563,  554, ..., 4052, 3108, 1882],\n",
      "        [ 560,  570,  604, ..., 3276, 3040, 3020]],\n",
      "\n",
      "       [[ 342,  378,  414, ..., 1090,  938,  858],\n",
      "        [ 349,  368,  392, ..., 1468, 1294, 1032],\n",
      "        [ 349,  374,  404, ..., 1604, 1472, 1250],\n",
      "        ...,\n",
      "        [ 382,  342,  342, ..., 2504, 1992, 1402],\n",
      "        [ 400,  333,  330, ..., 3740, 2894, 1848],\n",
      "        [ 439,  384,  354, ..., 3372, 3152, 2922]],\n",
      "\n",
      "       [[ 139,  110,  108, ...,  993,  982, 1028],\n",
      "        [ 113,  117,  113, ..., 1298, 1190,  994],\n",
      "        [ 127,  144,  105, ..., 1406, 1254, 1128],\n",
      "        ...,\n",
      "        [ 290,  282,  337, ...,  872,  742,  576],\n",
      "        [ 282,  262,  259, ..., 1226,  946,  675],\n",
      "        [ 288,  282,  242, ..., 1194, 1084, 1084]]], dtype=uint16)\n",
      "Coordinates:\n",
      "  * time         (time) datetime64[ns] 496B 2024-01-04T03:19:40.454000 ... 20...\n",
      "  * y            (y) float64 2kB 9.337e+06 9.337e+06 ... 9.334e+06 9.334e+06\n",
      "  * x            (x) float64 3kB 6.766e+05 6.767e+05 ... 6.806e+05 6.807e+05\n",
      "    spatial_ref  int32 4B 32748\n",
      "Attributes:\n",
      "    units:         1\n",
      "    nodata:        0\n",
      "    crs:           epsg:32748\n",
      "    grid_mapping:  spatial_ref\n"
     ]
    }
   ],
   "source": [
    "print(ds.nir)"
   ]
  },
  {
   "cell_type": "markdown",
   "metadata": {},
   "source": [
    "Perhatikan bahwa header objek memberi tahu kita bahwa itu adalah `xarray.DataArray` yang berisi data untuk measurements satelit `nir`.\n",
    "\n",
    "Seperti `xarray.Dataset`, array ini juga mencakup informasi tentang **dimensi** data (yaitu `(time: 1, y: 801, x: 644)`), **koordinat**, dan **atribut**.\n",
    "Variabel data khusus ini mengandung beberapa informasi tambahan yang spesifik untuk band `nir`, termasuk detail nilai nodata array (yaitu `nodata: -999`).\n",
    "\n",
    "> **Catatan**: Untuk pengenalan yang lebih mendalam tentang struktur data `xarray`, lihat [dokumentasi resmi xarray](http://xarray.pydata.org/en/stable/data-structures.html)."
   ]
  },
  {
   "cell_type": "markdown",
   "metadata": {},
   "source": [
    "## Kustomisasi fungsi `dc.load()`\n",
    "\n",
    "Fungsi `dc.load()` dapat disesuaikan untuk memperbaiki query. Opsi penyesuaian meliputi:\n",
    "\n",
    "* `measurements:` Argumen ini digunakan untuk memberikan daftar nama measurements yang akan dimuat, seperti yang tercantum dalam `dc.list_measurements()`. \n",
    "Untuk dataset satelit, measurements berisi data untuk setiap band satelit individu (misalnya, near infrared). \n",
    "Jika tidak disediakan, semua measurements untuk produk akan dikembalikan.\n",
    "* `crs:` Sistem referensi koordinat (CRS) dari query `x` dan `y` memiliki nilai default `WGS84` kecuali bidang parameter `output_crs` ditentukan secara manual. \n",
    "* `group_by:` Dataset satelit yang berbasis pada tampilan dapat memiliki beberapa observasi per hari dengan rentang waktu yang sedikit berbeda saat satelit mengumpulkan data sepanjang jalurnya. Observasi ini dapat digabungkan dengan mengurangi dimensi `time` ke tingkat harian menggunakan `group_by=solar_day`.\n",
    "* `output_crs` dan `resolution`: Untuk memproyeksikan ulang atau mengubah resolusi data, berikan bidang `output_crs` dan `resolution`.    \n",
    "* `resampling`: Argumen ini memungkinkan Anda untuk menentukan metode resampling spasial khusus yang akan digunakan saat data diproyeksikan ke CRS yang berbeda.\n",
    "\n",
    "Contoh sintaks tentang penggunaan opsi-opsi ini dapat dilihat di sel-sel di bawah ini.\n",
    "\n",
    "> Untuk bantuan atau opsi penyesuaian lebih lanjut, jalankan `help(dc.load)` di sel kosong atau kunjungi [halaman dokumentasi](https://datacube-core.readthedocs.io/en/latest/api/indexed-data/generate/datacube.Datacube.load.html) fungsi tersebut."
   ]
  },
  {
   "cell_type": "markdown",
   "metadata": {},
   "source": [
    "### Menentukan measurements\n",
    "Secara default, `dc.load()` akan memuat *semua* measurements dalam suatu produk. Untuk memuat data hanya dari band satelit `red`, `green`, dan `blue`, kita dapat menambahkan `measurements=[\"red\", \"green\", \"blue\"]` ke dalam query kita:"
   ]
  },
  {
   "cell_type": "code",
   "execution_count": 42,
   "metadata": {},
   "outputs": [
    {
     "name": "stdout",
     "output_type": "stream",
     "text": [
      "<xarray.Dataset> Size: 34MB\n",
      "Dimensions:      (time: 62, y: 229, x: 402)\n",
      "Coordinates:\n",
      "  * time         (time) datetime64[ns] 496B 2024-01-04T03:19:40.454000 ... 20...\n",
      "  * y            (y) float64 2kB 9.337e+06 9.337e+06 ... 9.334e+06 9.334e+06\n",
      "  * x            (x) float64 3kB 6.766e+05 6.767e+05 ... 6.806e+05 6.807e+05\n",
      "    spatial_ref  int32 4B 32748\n",
      "Data variables:\n",
      "    red          (time, y, x) uint16 11MB 7912 7880 7896 7880 ... 636 625 650\n",
      "    green        (time, y, x) uint16 11MB 7872 7848 7832 7848 ... 787 786 794\n",
      "    blue         (time, y, x) uint16 11MB 7896 7904 7896 7856 ... 844 813 833\n",
      "Attributes:\n",
      "    crs:           epsg:32748\n",
      "    grid_mapping:  spatial_ref\n"
     ]
    }
   ],
   "source": [
    "ds_rgb = dc.load(product='s2_l2a',\n",
    "                 measurements=[\"red\", \"green\", \"blue\"],\n",
    "                 x=lon_range,  # Longitude\n",
    "                 y=lat_range,  # Latitude\n",
    "                 time=time_range,  # Rentang waktu\n",
    "                 output_crs='EPSG:32748',  # Proyeksi UTM untuk zona 48S\n",
    "                 resolution=(-10, 10),  # Resolusi spasial 10 meter\n",
    ")\n",
    "print(ds_rgb)"
   ]
  },
  {
   "cell_type": "markdown",
   "metadata": {},
   "source": [
    "Perhatikan bahwa komponen *Data Variabel* dari `xarray.Dataset` sekarang hanya mencakup band yang ditentukan dalam query (yaitu band `red`, `green`, dan `blue`)."
   ]
  },
  {
   "cell_type": "code",
   "execution_count": null,
   "metadata": {},
   "outputs": [],
   "source": [
    "ds_custom_crs = dc.load(product='s2_l2a',\n",
    "                        x=lon_range,  # Longitude\n",
    "                        y=lat_range,  # Latitude\n",
    "                        time=time_range,  # Rentang waktu\n",
    "                        crs='EPSG:32748'\n",
    "                        \n",
    ")\n",
    "print(ds_custom_crs)"
   ]
  },
  {
   "cell_type": "code",
   "execution_count": null,
   "metadata": {},
   "outputs": [],
   "source": [
    "ds_reprojected = dc.load(product='s2_l2a',  # Ganti dengan nama produk sesuai konfigurasi ODC Anda\n",
    "    x=lon_range,  # Longitude\n",
    "    y=lat_range,  # Latitude\n",
    "    time=time_range,  # Rentang waktu\n",
    "    output_crs='EPSG:32734',  # Proyeksi UTM untuk zona 48S\n",
    "    resolution=(-10, 10),  # Resolusi spasial 10 meter\n",
    ")\n",
    "\n",
    "print(ds_reprojected)"
   ]
  },
  {
   "cell_type": "markdown",
   "metadata": {},
   "source": [
    "Perhatikan bahwa atribut `crs` di bagian *Atribut* telah berubah menjadi `EPSG:32734`.  \n",
    "Karena resolusi spasial juga telah didefinisikan, jumlah piksel pada dimensi `x` dan `y` juga berubah."
   ]
  },
  {
   "cell_type": "markdown",
   "metadata": {},
   "source": [
    "### Metode resampling spasial\n",
    "Ketika suatu produk diproyeksikan ulang ke CRS dan/atau resolusi yang berbeda, grid piksel baru mungkin berbeda dari piksel input asli (dalam hal ukuran, jumlah, dan penjajaran).\n",
    "Oleh karena itu, perlu diterapkan aturan \"resampling\" spasial yang mengalokasikan nilai piksel input ke dalam grid piksel baru.\n",
    "\n",
    "Secara default, `dc.load()` melakukan resampling nilai piksel menggunakan metode \"nearest neighbour\", yang mengalokasikan setiap piksel baru dengan nilai dari piksel input terdekat.\n",
    "Tergantung pada jenis data dan analisis yang dilakukan, ini mungkin bukan pilihan yang paling tepat (misalnya, untuk data kontinu).\n",
    "\n",
    "Parameter `resampling` dalam `dc.load()` memungkinkan Anda untuk memilih metode resampling kustom dari opsi berikut:\n",
    "\n",
    "```\n",
    "\"nearest\", \"cubic\", \"bilinear\", \"cubic_spline\", \"lanczos\", \n",
    "\"average\", \"mode\", \"gauss\", \"max\", \"min\", \"med\", \"q1\", \"q3\"\n",
    "```\n",
    "\n",
    "Sebagai contoh, kita dapat meminta agar semua data yang dimuat di-resampling menggunakan metode \"average\":"
   ]
  },
  {
   "cell_type": "code",
   "execution_count": 43,
   "metadata": {},
   "outputs": [
    {
     "name": "stdout",
     "output_type": "stream",
     "text": [
      "<xarray.Dataset> Size: 1MB\n",
      "Dimensions:      (time: 4, y: 223, x: 223)\n",
      "Coordinates:\n",
      "  * time         (time) datetime64[ns] 32B 2024-07-02T03:19:58.263000 ... 202...\n",
      "  * y            (y) float64 2kB 9.283e+06 9.283e+06 ... 9.281e+06 9.281e+06\n",
      "  * x            (x) float64 2kB 7.034e+05 7.034e+05 ... 7.056e+05 7.056e+05\n",
      "    spatial_ref  int32 4B 32748\n",
      "Data variables:\n",
      "    red          (time, y, x) uint16 398kB 3476 3472 3444 ... 2498 2480 2510\n",
      "    green        (time, y, x) uint16 398kB 3836 3820 3836 ... 2652 2622 2624\n",
      "    blue         (time, y, x) uint16 398kB 4292 4340 4312 ... 2742 2678 2646\n",
      "Attributes:\n",
      "    crs:           epsg:32748\n",
      "    grid_mapping:  spatial_ref\n"
     ]
    }
   ],
   "source": [
    "# Note the additional `resampling` parameter\n",
    "ds_averageresampling = dc.load(product=\"s2_l2a\",\n",
    "             x=(106.83936, 106.85936), \n",
    "             y=(-6.48081, -6.50081),\n",
    "             time=(\"2024-07-01\", \"2024-07-10\"),\n",
    "             output_crs='EPSG:32748',\n",
    "             resolution=(-10, 10),\n",
    "             measurements=[\"red\", \"green\", \"blue\"],\n",
    "             resampling=\"average\")\n",
    "print(ds_averageresampling)"
   ]
  },
  {
   "cell_type": "markdown",
   "metadata": {},
   "source": [
    "Anda juga dapat menyediakan library Python untuk meminta metode pengambilan sampel yang berbeda untuk pengukuran yang berbeda. \n",
    "Ini bisa sangat berguna ketika beberapa band mengandung kategori data yang memerlukan metode pengambilan sampel ulang seperti \"nearest\" (terdekat) atau \"mode\" (modus) yang tidak mengubah nilai piksel input.\n",
    "\n",
    "Kita juga dapat menentukan `resampling={\"red\": \"nearest\", \"*\": \"average\"}`, yang akan menggunakan pengambilan sampel ulang \"nearest\" (tetangga terdekat) hanya untuk band satelit `red`. `\"*\": \"average\"` akan menerapkan pengambilan sampel ulang \"average\" (rata-rata) untuk semua band satelit lainnya:"
   ]
  },
  {
   "cell_type": "markdown",
   "metadata": {},
   "source": [
    "> **Catatan**: Untuk informasi lebih lanjut tentang metode pensampelan ulang spasial, lihat [panduan berikut](https://rasterio.readthedocs.io/en/stable/topics/resampling.html)"
   ]
  },
  {
   "cell_type": "markdown",
   "metadata": {},
   "source": [
    "## Memuat data menggunakan dictionary\n",
    "Seringkali berguna untuk menggunakan kembali seperangkat parameter query untuk memuat data dari beberapa produk.\n",
    "Untuk mencapai ini, kita dapat memuat data menggunakan format dictionary.\n",
    "Ini melibatkan penempatan parameter query yang kita gunakan untuk memuat data di atas ke dalam objek kamus Python yang dapat kita gunakan kembali untuk beberapa pemuatan data:"
   ]
  },
  {
   "cell_type": "code",
   "execution_count": 44,
   "metadata": {},
   "outputs": [],
   "source": [
    "query = {\"x\": (106.83936, 106.85936),\n",
    "         \"y\": (-6.48081, -6.50081),\n",
    "         \"time\": (\"2024-07-01\", \"2024-07-10\"),\n",
    "         \"output_crs\": 'EPSG:32748',\n",
    "         \"resolution\": (-10, 10),\n",
    "         \"measurements\": [\"red\", \"green\", \"blue\"]}"
   ]
  },
  {
   "cell_type": "markdown",
   "metadata": {},
   "source": [
    "Kita kemudian dapat menggunakan dictionary sebagai input untuk `dc.load()`. Untuk informasi lebih lanjut tentang operator pembongkaran, lihat [dokumentasi Python](https://docs.python.org/3/tutorial/controlflow.html#unpacking-argument-lists)."
   ]
  },
  {
   "cell_type": "code",
   "execution_count": 45,
   "metadata": {},
   "outputs": [
    {
     "name": "stdout",
     "output_type": "stream",
     "text": [
      "<xarray.Dataset> Size: 1MB\n",
      "Dimensions:      (time: 4, y: 223, x: 223)\n",
      "Coordinates:\n",
      "  * time         (time) datetime64[ns] 32B 2024-07-02T03:19:58.263000 ... 202...\n",
      "  * y            (y) float64 2kB 9.283e+06 9.283e+06 ... 9.281e+06 9.281e+06\n",
      "  * x            (x) float64 2kB 7.034e+05 7.034e+05 ... 7.056e+05 7.056e+05\n",
      "    spatial_ref  int32 4B 32748\n",
      "Data variables:\n",
      "    red          (time, y, x) uint16 398kB 3476 3472 3444 ... 2498 2480 2510\n",
      "    green        (time, y, x) uint16 398kB 3836 3820 3836 ... 2652 2622 2624\n",
      "    blue         (time, y, x) uint16 398kB 4292 4340 4312 ... 2742 2678 2646\n",
      "Attributes:\n",
      "    crs:           epsg:32748\n",
      "    grid_mapping:  spatial_ref\n"
     ]
    }
   ],
   "source": [
    "ds = dc.load(product=\"s2_l2a\",\n",
    "             **query)\n",
    "\n",
    "print(ds)"
   ]
  },
  {
   "cell_type": "markdown",
   "metadata": {},
   "source": [
    "Sekarang kita memiliki kueri yang dapat digunakan kembali, kita dapat dengan mudah menggunakannya untuk memuat data dari produk yang berbeda.  \n",
    "Sebagai contoh, kita dapat memuat data Ringkasan Tahunan Water Observations from Space (WOfS) untuk cakupan, waktu, CRS output, dan resolusi yang sama."
   ]
  },
  {
   "cell_type": "markdown",
   "metadata": {},
   "source": [
    "## Trik bermanfaat lainnya\n",
    "### Penggunaan like\n",
    "Opsi lain untuk memuat data yang sesuai dari beberapa produk adalah dengan menggunakan parameter `like` pada `dc.load()`.\n",
    "Ini akan menyalin cakupan spasial dan temporal serta CRS/resolusi dari dataset yang sudah ada, dan menggunakan parameter ini untuk memuat data baru dari produk baru.\n",
    "\n",
    "Dalam contoh di bawah ini, kita memuat dataset WOfS lain yang persis sesuai dengan dataset `ds_s2` yang telah kita muat sebelumnya:\n",
    "\n",
    "```python\n",
    "ds_landsat = dc.load(product=\"ls9_c212_sr\",\n",
    "                  like=ds_s2)\n",
    "```"
   ]
  },
  {
   "cell_type": "markdown",
   "metadata": {},
   "source": [
    "### Menambahkan progress bar\n",
    "Saat memuat data dalam jumlah besar, dapat berguna untuk melihat kemajuan proses pemuatan data. \n",
    "Parameter `progress_cbk` dalam `dc.load()` memungkinkan kita untuk menambahkan progress bar yang akan menunjukkan sejauh mana proses pemuatan berlangsung."
   ]
  },
  {
   "cell_type": "code",
   "execution_count": 47,
   "metadata": {},
   "outputs": [
    {
     "data": {
      "application/vnd.jupyter.widget-view+json": {
       "model_id": "e1740911b6174370a2a79c157170a284",
       "version_major": 2,
       "version_minor": 0
      },
      "text/plain": [
       "VBox(children=(HBox(children=(Label(value=''), Label(value='')), layout=Layout(justify_content='space-between'…"
      ]
     },
     "metadata": {},
     "output_type": "display_data"
    },
    {
     "name": "stdout",
     "output_type": "stream",
     "text": [
      "<xarray.Dataset> Size: 1MB\n",
      "Dimensions:      (time: 4, y: 223, x: 223)\n",
      "Coordinates:\n",
      "  * time         (time) datetime64[ns] 32B 2024-07-02T03:19:58.263000 ... 202...\n",
      "  * y            (y) float64 2kB 9.283e+06 9.283e+06 ... 9.281e+06 9.281e+06\n",
      "  * x            (x) float64 2kB 7.034e+05 7.034e+05 ... 7.056e+05 7.056e+05\n",
      "    spatial_ref  int32 4B 32748\n",
      "Data variables:\n",
      "    red          (time, y, x) uint16 398kB 3476 3472 3444 ... 2498 2480 2510\n",
      "    green        (time, y, x) uint16 398kB 3836 3820 3836 ... 2652 2622 2624\n",
      "    blue         (time, y, x) uint16 398kB 4292 4340 4312 ... 2742 2678 2646\n",
      "Attributes:\n",
      "    crs:           epsg:32748\n",
      "    grid_mapping:  spatial_ref\n"
     ]
    }
   ],
   "source": [
    "query = {\"x\": (106.83936, 106.85936),\n",
    "         \"y\": (-6.48081, -6.50081),\n",
    "         \"time\": (\"2024-07-01\", \"2024-07-10\"),\n",
    "         \"output_crs\": 'EPSG:32748',\n",
    "         \"resolution\": (-10, 10),\n",
    "         \"measurements\": [\"red\", \"green\", \"blue\"]}\n",
    "\n",
    "ds_progress = dc.load(product=\"s2_l2a\",\n",
    "             progress_cbk=with_ui_cbk(),\n",
    "             **query)\n",
    "\n",
    "print(ds_progress)"
   ]
  },
  {
   "cell_type": "markdown",
   "metadata": {
    "jp-MarkdownHeadingCollapsed": true
   },
   "source": [
    "## Langkah selanjutnya \n",
    "\n",
    "Untuk informasi lebih lanjut yang lebih advanced tentang bekerja dengan Jupyter Notebooks atau JupyterLab, Anda dapat menjelajahi [halaman dokumentasi JupyterLab](https://jupyterlab.readthedocs.io/en/stable/user/notebook.html).\n",
    "\n",
    "Untuk melanjutkan bekerja melalui notebook dalam panduan pemula ini, notebook berikut dirancang untuk dikerjakan dalam urutan berikut:\n",
    "\n",
    "1. [Jupyter Notebooks](01_Jupyter_notebooks.ipynb)\n",
    "2. [Product dan Measurements](02_Product_dan_measurement.ipynb)\n",
    "3. **Memuat data (notebook ini)**\n",
    "4. [Plotting](04_Plotting.ipynb)\n",
    "5. [Melakukan analisis dasar](05_Basic_analysis.ipynb)\n",
    "6. [Pengenalan numpy](06_Intro_to_numpy.ipynb)\n",
    "7. [Pengenalan xarray](07_Intro_to_xarray.ipynb)\n",
    "8. [Pemrosesan paralel dengan Dask](08_Parallel_processing_with_dask.ipynb)\n",
    "\n"
   ]
  },
  {
   "cell_type": "markdown",
   "metadata": {},
   "source": [
    "***\n",
    "\n",
    "## Informasi Tambahan\n",
    "\n",
    "**Lisensi:** Kode dalam notebook ini dilisensikan di bawah [Lisensi Apache, Versi 2.0](https://www.apache.org/licenses/LICENSE-2.0). \n",
    "\n",
    "**Kontak:** Jika Anda memerlukan bantuan, silakan ajukan pertanyaan di [Saluran Slack Open Data Cube](http://slack.opendatacube.org/) atau di [GIS Stack Exchange](https://gis.stackexchange.com/questions/ask?tags=open-data-cube) menggunakan tag `open-data-cube` (Anda dapat melihat pertanyaan yang sebelumnya diajukan [di sini](https://gis.stackexchange.com/questions/tagged/open-data-cube)).\n",
    "Jika Anda ingin melaporkan masalah dengan notebook ini, Anda dapat mengajukannya di [Github](https://github.com/digitalearthafrica/deafrica-sandbox-notebooks).\n",
    "\n",
    "**Versi datacube yang kompatibel:**"
   ]
  },
  {
   "cell_type": "code",
   "execution_count": 48,
   "metadata": {},
   "outputs": [
    {
     "name": "stdout",
     "output_type": "stream",
     "text": [
      "1.8.19\n"
     ]
    }
   ],
   "source": [
    "print(datacube.__version__)"
   ]
  },
  {
   "cell_type": "markdown",
   "metadata": {},
   "source": [
    "**Terakhir dijalankan:**"
   ]
  },
  {
   "cell_type": "code",
   "execution_count": 49,
   "metadata": {},
   "outputs": [
    {
     "data": {
      "text/plain": [
       "'2025-02-10'"
      ]
     },
     "execution_count": 49,
     "metadata": {},
     "output_type": "execute_result"
    }
   ],
   "source": [
    "from datetime import datetime\n",
    "datetime.today().strftime('%Y-%m-%d')"
   ]
  },
  {
   "cell_type": "code",
   "execution_count": null,
   "metadata": {},
   "outputs": [],
   "source": []
  }
 ],
 "metadata": {
  "kernelspec": {
   "display_name": "Python 3 (ipykernel)",
   "language": "python",
   "name": "python3"
  },
  "language_info": {
   "codemirror_mode": {
    "name": "ipython",
    "version": 3
   },
   "file_extension": ".py",
   "mimetype": "text/x-python",
   "name": "python",
   "nbconvert_exporter": "python",
   "pygments_lexer": "ipython3",
   "version": "3.12.7"
  },
  "widgets": {
   "application/vnd.jupyter.widget-state+json": {
    "state": {},
    "version_major": 2,
    "version_minor": 0
   }
  }
 },
 "nbformat": 4,
 "nbformat_minor": 4
}
