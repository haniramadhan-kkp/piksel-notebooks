{
 "cells": [
  {
   "cell_type": "markdown",
   "metadata": {},
   "source": [
    "| <h1><b>Pengenalan Plotting</b></h1> |  ![](files/piksel-logo-small.png) |\n",
    "|:---------|----------:|\n",
    "\n",
    "* **Produk yang Digunakan:** \n",
    "s2_l2a\n",
    "\n",
    "* **Prasyarat:** Para pengguna notebook ini telah memahami:\n",
    "    * Bagaimana menjalankan [Jupyter notebook](01_Jupyter_notebooks.ipynb)\n",
    "    * Memeriksa ketersediaan [Piksel products and measurements](02_Product_dan_measurement.ipynb)\n",
    "    * Cara [load data dari Piksel](03_Membuka_data.ipynb)"
   ]
  },
  {
   "cell_type": "raw",
   "metadata": {
    "raw_mimetype": "text/restructuredtext"
   },
   "source": [
    "**Keywords** :index:`beginner's guide; visualisation`, :index:`visualisation; beginner's guide`, :index:`data used; sentinel 2`, :index:`visualisation; measurements`, :index:`visualisation; timesteps`, :index:`visualisation; colour maps`, :index:`python package; matplotlib`"
   ]
  },
  {
   "cell_type": "markdown",
   "metadata": {},
   "source": [
    "## 🔙 Pendahuluan\n",
    "Visualisasi data merupakan bagian penting dalam pengolahan data Pengamatan Bumi (Earth Observation). Paket Python xarray menyediakan berbagai opsi plotting data yang sederhana, memungkinkan pengguna membuat plot dari dataset multidimensi dengan cepat. Untuk menghasilkan plot yang lebih kompleks dan informatif dari data Piksel, repositori Notebook Piksel menyediakan modul plotting khusus dengan fungsionalitas tambahan yang mudah digunakan."
   ]
  },
  {
   "cell_type": "markdown",
   "metadata": {},
   "source": [
    "Notebook ini memperkenalkan cara memvisualisasikan data satelit Piksel dari hasil kueri datacube. Notebook ini mencakup metode plotting xarray yang umum digunakan serta fungsi khusus dari deafrica_tools.plotting.\n",
    "\n",
    "Topik yang dibahas meliputi:\n",
    "\n",
    " - Menampilkan area of interest (AOI) sebelum melakukan kueri datacube\n",
    " - Melakukan kueri datacube dan memuat data\n",
    " - Plotting data satu band (misalnya, satu band satelit)\n",
    "    - Memilih dan plotting satu langkah waktu (timestep)\n",
    "    - Plotting beberapa langkah waktu\n",
    "    - Menyesuaikan tampilan plot\n",
    " - Plotting citra tiga band dalam warna asli (true color) atau palsu (false color)\n",
    "    - Memetakan satu langkah waktu\n",
    "    - Memetakan beberapa langkah waktu\n",
    "    - Menyesuaikan tampilan plot"
   ]
  },
  {
   "cell_type": "markdown",
   "metadata": {},
   "source": [
    "## 🏃‍♂️‍➡️ Memulai\n",
    "Untuk menjalankan pengantar plotting data dari datacube, jalankan semua sel dalam notebook, mulai dari sel \"Load packages\".\n",
    "Jika memerlukan bantuan dalam menjalankan sel notebook, silakan merujuk ke [Jupyter Notebooks notebook](01_Jupyter_notebooks.ipynb). "
   ]
  },
  {
   "cell_type": "markdown",
   "metadata": {},
   "source": [
    "### Memuat Library\n",
    "Pertama, jalankan `%matplotlib inline`, untuk memastikan gambar ditampilkan dengan benar di Jupyter Notebook.\n",
    "\n",
    "Selanjutnya, muat  `datacube` package, untuk mengambil data. \n",
    "\n",
    "Untuk memvisualisasikan data, impor fungsi pemetaan dari deafrica_tools.plotting. Dalam notebook ini, kita akan menggunakan `rgb` and `display_map`yang dapat diimpor dalam satu baris dengan memisahkan namanya dengan koma."
   ]
  },
  {
   "cell_type": "code",
   "execution_count": null,
   "metadata": {},
   "outputs": [],
   "source": [
    "%matplotlib inline\n",
    "\n",
    "import datacube\n",
    "from dea_tools.plotting import rgb, display_map"
   ]
  },
  {
   "cell_type": "markdown",
   "metadata": {},
   "source": [
    "### Menghubungkan ke datacube\n",
    "Kita kemudian terhubung ke basis data datacube agar dapat memuat data Piksel. "
   ]
  },
  {
   "cell_type": "code",
   "execution_count": null,
   "metadata": {},
   "outputs": [],
   "source": [
    "dc = datacube.Datacube(app=\"04_Plotting\")"
   ]
  },
  {
   "cell_type": "markdown",
   "metadata": {},
   "source": [
    "### Parameter analisis\n",
    "\n",
    "Variabel berikut diperlukan untuk menetapkan kueri dalam notebook ini:\n",
    "- `lat_range`: Rentang garis lintang yang akan dianalisis (misalnya, (-6.005237, -6.025759)). Untuk load waktu yang wajar, sebaiknya tetap dalam rentang ~0.1 derajat atau kurang.\n",
    "- `lon_range`: Rentang garis bujur yang akan dianalisis (misalnya, (106.596046, 106.632157)). Untuk load waktu yang wajar, sebaiknya tetap dalam rentang ~0.1 derajat atau kurang.\n",
    "- `time_range`: Rentang tanggal yang akan dianalisis (misalnya, (\"2024-07-01\", \"2024-07-31\")).\n"
   ]
  },
  {
   "cell_type": "code",
   "execution_count": null,
   "metadata": {},
   "outputs": [],
   "source": [
    "lat_range = (-6.005237, -6.025759)\n",
    "lon_range = (106.596046, 106.632157)\n",
    "time_range = (\"2024-07-01\", \"2024-07-31\")"
   ]
  },
  {
   "cell_type": "markdown",
   "metadata": {},
   "source": [
    "## 🗺️ Menampilkan lokasi\n",
    "Sebelum menjalankan query serta mengekstrak dan menganalisis data, pastikan lokasi yang dipilih sudah benar.\n",
    "Fungsi `display_map()` akan menampilkan area yang dipilih sebagai persegi panjang merah pada peta interaktif. Dengan mengklik titik mana pun di peta, kita dapat melihat koordinat garis lintang dan bujur dari titik tersebut."
   ]
  },
  {
   "cell_type": "code",
   "execution_count": null,
   "metadata": {},
   "outputs": [],
   "source": [
    "display_map(x=lon_range, y=lat_range)"
   ]
  },
  {
   "cell_type": "markdown",
   "metadata": {},
   "source": [
    "## 💾 Menampilkan data\n",
    "Variabel yang telah ditentukan sebelumnya digunakan di sini untuk melakukan kueri pada Piksel datacube menggunakan fungsi `dc.load()`dan memuat data yang diperkenalkan dalam Notebook [Membuka data](03_Membuka_data.ipynb).\n",
    "Notebook ini menggunakan data Sentinel 2 `s2_l2a`."
   ]
  },
  {
   "cell_type": "code",
   "execution_count": null,
   "metadata": {},
   "outputs": [],
   "source": [
    "ds = dc.load(product=\"s2_l2a\",\n",
    "             measurements=['blue','green','red','nir','swir16','swir22'],\n",
    "             x=lon_range,\n",
    "             y=lat_range,\n",
    "             time=time_range,\n",
    "             output_crs='EPSG:32748',\n",
    "             resolution=30\n",
    "            )\n",
    "print(ds)"
   ]
  },
  {
   "cell_type": "markdown",
   "metadata": {},
   "source": [
    "## 🖨️ Memplot citra satu band\n",
    "\n",
    "`xarray`menyediakan metode bawaan untuk memplot variabel atau measurement data secara individual. \n",
    "Misalnya, kita dapat membuat plot untuk satu measurement, seperti band satelit `swir_1` dari data yang telah dimuat sebelumnya.\n",
    "\n",
    "Untuk melakukan ini, pertama-tama kita perlu mengakses band yang diinginkan sebagai `xarray.DataArray` (Untuk memahami perbedaan antara  `xarray.Dataset` dan `xarray.DataArray` silakan merujuk kembali ke [Membuka data](03_Membuka_data.ipynb) notebook:"
   ]
  },
  {
   "cell_type": "code",
   "execution_count": null,
   "metadata": {},
   "outputs": [],
   "source": [
    "print(ds.swir16)"
   ]
  },
  {
   "cell_type": "markdown",
   "metadata": {},
   "source": [
    "### Memilih dan memplot satu timestep."
   ]
  },
  {
   "cell_type": "markdown",
   "metadata": {},
   "source": [
    "Kita dapat melihat pada header objek bahwa `xarray.DataArray` ini memiliki data untuk enam timestep (misalnya. `<xarray.DataArray 'swir_1' (time: 6, y: 834, x: 644)>`).\n",
    "Untuk memplot hanya satu timestep, kita perlu memilihnya menggunakan salah satu opsi berikut:\n",
    "\n",
    "1. `.isel()`: .isel(): Ini singkatan dari \"index selection\" (pemilihan indeks) dan memungkinkan kita dengan mudah memilih timestep tertentu dari sebuah dataset dengan memberikan nomor observasi yang diinginkan. Dalam Python, perhitungan dimulai dari 0, jadi untuk memilih timestep pertama dalam xarray.DataArray, kita bisa menggunakan .isel(time=0)."
   ]
  },
  {
   "cell_type": "code",
   "execution_count": null,
   "metadata": {},
   "outputs": [],
   "source": [
    "first_timestep = ds.swir16.isel(time=0)\n",
    "\n",
    "print(first_timestep)"
   ]
  },
  {
   "cell_type": "markdown",
   "metadata": {},
   "source": [
    "2. `.sel()`: Metode ini memungkinkan kita memilih data berdasarkan label koordinat dunia nyata, seperti `waktu`. Misalnya, dari bagian Koordinat, kita dapat memilih timestep pertama (yaitu, observasi pada 2 Juli 2024) dalam `xarray.DataArray` dengan menggunakan `.sel(time='2024-07-02')`."
   ]
  },
  {
   "cell_type": "code",
   "execution_count": null,
   "metadata": {},
   "outputs": [],
   "source": [
    "print(ds.time)"
   ]
  },
  {
   "cell_type": "code",
   "execution_count": null,
   "metadata": {},
   "outputs": [],
   "source": [
    "first_timestep = ds.swir16.sel(time='2024-07-02')\n",
    "\n",
    "print(first_timestep)"
   ]
  },
  {
   "cell_type": "markdown",
   "metadata": {},
   "source": [
    "Sekarang kita dapat menggunakan metode .plot() untuk memvisualisasikan data swir1 pada timestep yang telah kita pilih:"
   ]
  },
  {
   "cell_type": "code",
   "execution_count": null,
   "metadata": {},
   "outputs": [],
   "source": [
    "first_timestep.plot()"
   ]
  },
  {
   "cell_type": "markdown",
   "metadata": {},
   "source": [
    "### Plotting Beberapa Timestep\n",
    "Sering kali, berguna untuk membuat plot dari satu variabel pengukuran sepanjang waktu, misalnya untuk membandingkan perubahan antara observasi satelit atau summary dataset.\n",
    "Untuk memplot beberapa citra sekaligus, kita dapat melewati langkah .isel() dan langsung memplot seluruh xarray.DataArray.\n",
    "Agar setiap timestep ditampilkan dalam kolom terpisah dalam satu figur, kita dapat menggunakan:"
   ]
  },
  {
   "cell_type": "code",
   "execution_count": null,
   "metadata": {},
   "outputs": [],
   "source": [
    "ds.swir16.plot(col=\"time\")"
   ]
  },
  {
   "cell_type": "markdown",
   "metadata": {},
   "source": [
    "> **Catatan**: Jenis plotting ini disebut \"facetted plotting\". Untuk informasi lebih lanjut, silahkan  merujuk ke [xarray documentation](http://xarray.pydata.org/en/stable/plotting.html#faceting)"
   ]
  },
  {
   "cell_type": "markdown",
   "metadata": {},
   "source": [
    "### Kustomisasi tampilan plot\n",
    "Anda mungkin menyadari bahwa plot di atas tampak gelap dan sulit dilihat dengan jelas. Untuk meningkatkan tampilan plot di xarray, kita dapat menggunakan argumen robust=True, yang akan mengoptimalkan warna dengan memangkas nilai ekstrem atau outlier.\n",
    "Dengan menggunakan robust=True, batas warna akan dihitung berdasarkan persentil ke-2 dan ke-98 dari data, sehingga hasil visualisasi lebih jelas dan informatif."
   ]
  },
  {
   "cell_type": "code",
   "execution_count": null,
   "metadata": {},
   "outputs": [],
   "source": [
    "ds.swir16.plot(col=\"time\", robust=True)"
   ]
  },
  {
   "cell_type": "markdown",
   "metadata": {},
   "source": [
    "Saat memilih peta berwarna untuk sebuah plot, penting untuk menggunakan skema warna yang dapat dipahami secara logis oleh mata manusia. Peta berwarna terbaik adalah yang \"perceptually uniform\", yaitu peta berwarna yang berubah secara bertahap dari gelap ke terang, di mana setiap perubahan tingkat kecerahan sesuai dengan perubahan nilai data.\n",
    "Beberapa contoh peta berwarna perceptually uniform yang direkomendasikan meliputi:\n",
    "\n",
    "```\n",
    "\"viridis\", \"plasma\", \"inferno\", \"magma\", \"cividis\"\n",
    "```\n",
    "\n",
    "> **Catatan**: Untuk membaca lebih lanjut tentang peta berwarna perceptually uniform dalam visualisasi data silahkan merujuk ke, [matplotlib documentation](https://matplotlib.org/stable/tutorials/colors/colormaps.html).\n",
    "\n",
    "Penting juga untuk mempertimbangkan pengguna yang buta warna saat memilih peta berwarna.\n",
    "xarray mendukung banyak peta berwarna dari kelompok [colorbrewer](https://colorbrewer2.org/#type=sequential&scheme=BuGn&n=3), yang telah dioptimalkan agar ramah bagi individu dengan buta warna.\n",
    "Anda dapat menggunakan alat interaktif online untuk menjelajahi semua peta berwarna yang tersedia atau memilih salah satu dari opsi umum berikut:\n",
    "\n",
    "```\n",
    "\"Greys\", \"Purples\", \"Blues\", \"Greens\", \"Oranges\", \"Reds\",\n",
    "\"YlOrBr\", \"YlOrRd\", \"OrRd\", \"PuRd\", \"RdPu\", \"BuPu\", \n",
    "\"GnBu\", \"PuBu\", \"YlGnBu\", \"PuBuGn\", \"BuGn\", \"YlGn\"\n",
    "```\n",
    "\n",
    "Untuk daftar lengkap peta berwarna yang tersedia, Anda dapat merujuk ke [daftar ini](https://matplotlib.org/stable/tutorials/colors/colormaps.html).\n",
    "\n",
    "Sebagai contoh, untuk memvisualisasikan data menggunakan peta berwarna perceptually uniform magma, kita dapat menggunakan:\n"
   ]
  },
  {
   "cell_type": "code",
   "execution_count": null,
   "metadata": {},
   "outputs": [],
   "source": [
    "ds.swir16.plot(col=\"time\", robust=True, cmap=\"magma\")"
   ]
  },
  {
   "cell_type": "markdown",
   "metadata": {},
   "source": [
    "## 🖨️ Plotting Citra RGB True Color atau False Color"
   ]
  },
  {
   "cell_type": "markdown",
   "metadata": {},
   "source": [
    "Meskipun xarray memudahkan pemetaan citra satu band, memvisualisasikan citra tiga band seperti foto berwarna tidak semudah itu.\n",
    "\n",
    "Untuk menyederhanakan proses ini, repositori deafrica-sandbox-notebooks menyediakan fungsi kustom rgb(), yang dirancang khusus untuk menampilkan citra tiga band.\n",
    "Fungsi rgb() memetakan tiga variabel data atau pengukuran dari dataset yang dimuat ke dalam saluran merah (Red), hijau (Green), dan biru (Blue) untuk menghasilkan citra warna.\n",
    "\n",
    "•\tJika kita menggunakan band merah, hijau, dan biru, hasilnya adalah citra warna alami (true color), seperti yang terlihat oleh mata manusia.\n",
    "•\tJika kita menggunakan band lain, seperti NIR, merah, dan hijau, hasilnya adalah citra warna semu (false color), yang sering digunakan dalam analisis satelit.\n",
    ". Anda dapat belajar lebih lanjut tentang pewarnaan citra  [di sini](https://en.wikipedia.org/wiki/False_color#True_color).\n",
    "\n",
    "Oleh karena itu, fungsi rgb() dapat digunakan untuk memvisualisasikan data yang diperoleh dari sebuah query. Fungsi ini memerlukan input minimal sebagai berikut:\n",
    "\n",
    "* `ds:` Objek xarray.Dataset yang berisi data citra.Dataset` object\n",
    "* `bands:`Tiga band yang akan ditampilkan (harus ada dalam dataset)\n",
    "* `index:` Langkah waktu yang akan ditampilkan (default = 0)\n",
    "\n",
    "### Ploting Satu timestep\n",
    "\n",
    "Dimensi waktu dalam xarray.Dataset menunjukkan jumlah timesteps yang tersedia untuk lokasi tertentu selama periode yang dipilih.\n",
    "Dalam fungsi rgb(), variabel index menentukan timestep yang ingin ditampilkan, mirip dengan penggunaan .isel() sebelumnya.\n",
    "Perlu diperhatikan: Perhitungan indeks dalam Python dimulai dari 0 sehingga untuk menampilkan timestep pertama `index=0` gunakan:"
   ]
  },
  {
   "cell_type": "code",
   "execution_count": null,
   "metadata": {},
   "outputs": [],
   "source": [
    "# View a red, green, blue (true colour) image of the first timestep\n",
    "rgb(ds, bands=[\"red\", \"green\", \"blue\"], index=0)"
   ]
  },
  {
   "cell_type": "markdown",
   "metadata": {},
   "source": [
    "Dengan mengubah input band, kita dapat memvisualisasikan citra false color, yang dapat memberikan pandangan berbeda tentang suatu lanskap.\n",
    "\n",
    "Kombinasi band (swir_1, nir, green) ini menekankan:\n",
    "\n",
    "Vegetasi yang sedang tumbuh dalam warna hijau,\n",
    "Badan air dalam warna biru gelap."
   ]
  },
  {
   "cell_type": "code",
   "execution_count": null,
   "metadata": {},
   "outputs": [],
   "source": [
    "# View a swir_1, nir, green (false colour) image of the first timestep\n",
    "rgb(ds, bands=['swir16', 'nir', 'green'], index=0)"
   ]
  },
  {
   "cell_type": "markdown",
   "metadata": {},
   "source": [
    "### Memplotting beberapa timestep\n",
    "Seperti yang telah dibahas dalam contoh citra satu band di atas, memplotting beberapa timestep dalam satu plot dapat berguna (misalnya, untuk membandingkan perubahan dari waktu ke waktu).\n",
    "Fungsi rgb() memungkinkan kita melakukan ini dengan memberikan daftar beberapa citra yang akan diplot menggunakan index=[X, X, ...].\n",
    "Sebagai contoh, kita dapat menampilkan citra pertama dan kelima dalam dataset dengan menggunakan index=[0, 4] (ingat bahwa dalam Python, perhitungan indeks dimulai dari 0):"
   ]
  },
  {
   "cell_type": "code",
   "execution_count": null,
   "metadata": {},
   "outputs": [],
   "source": [
    "# View a true colour image for the first and fith timesteps\n",
    "rgb(ds, bands=['red', 'green', 'blue'], index=[0, 4])"
   ]
  },
  {
   "cell_type": "markdown",
   "metadata": {},
   "source": [
    "Kita juga dapat menggunakan fungsi rgb() untuk memplot seluruh timestep dalam dataset dengan menggunakan sintaks col=\"time\", seperti yang telah ditunjukkan dalam [contoh single band sebelumnya](#Plotting-multiple-timesteps): "
   ]
  },
  {
   "cell_type": "code",
   "execution_count": null,
   "metadata": {},
   "outputs": [],
   "source": [
    "# Plot all timesteps in the dataset\n",
    "rgb(ds, bands=['red', 'green', 'blue'], col=\"time\")"
   ]
  },
  {
   "cell_type": "markdown",
   "metadata": {},
   "source": [
    "### Kustomisasi tampilan plot\n",
    "Secara default, fungsi rgb() menghasilkan plot dengan robust=True untuk meningkatkan tampilan citra dengan memangkas 2% piksel tergelap dan tercerah, menggunakan persentil ke-2 dan ke-98 dari data untuk menentukan batas warna.\n",
    "\n",
    "Jika hasil default ini kurang optimal, rentang warna pada plot dapat dikustomisasi menggunakan parameter percentile_stretch. Parameter ini memungkinkan kita memangkas nilai minimum dan maksimum yang paling ekstrem dalam dataset, sehingga meningkatkan kontras dan tampilan plot.\n",
    "\n",
    "Sebagai contoh, dengan menetapkan percentile_stretch=[0.05, 0.95], kita akan memangkas 5% piksel tergelap dan tercerah, sehingga rentang warna akan lebih fokus pada 90% nilai yang kurang ekstrem:"
   ]
  },
  {
   "cell_type": "code",
   "execution_count": null,
   "metadata": {},
   "outputs": [],
   "source": [
    "rgb(ds, \n",
    "    bands=['red', 'green', 'blue'], \n",
    "    index=0, \n",
    "    percentile_stretch=[0.05, 0.95])\n"
   ]
  },
  {
   "cell_type": "markdown",
   "metadata": {},
   "source": [
    "---"
   ]
  },
  {
   "cell_type": "markdown",
   "metadata": {},
   "source": [
    "## ℹ️ Info\n",
    "\n",
    "Jika ada pertanyaan atau komentar bisa mengirimkan email ke piksel@big.go.id\n",
    "\n",
    "**Lisensi:** Skrip dalam notebook ini dilisensikan berdasarkan [Apache License, Version 2.0](https://www.apache.org/licenses/LICENSE-2.0). \n",
    "Data Piksel dilisensikan berdasarkan lisensi [Creative Commons by Attribution 4.0](https://creativecommons.org/licenses/by/4.0/)."
   ]
  },
  {
   "cell_type": "code",
   "execution_count": null,
   "metadata": {},
   "outputs": [],
   "source": [
    "from datetime import datetime\n",
    "print(f\"Tanggal update: {datetime.now().strftime('%d %B %Y')}\")"
   ]
  },
  {
   "cell_type": "code",
   "execution_count": null,
   "metadata": {},
   "outputs": [],
   "source": []
  }
 ],
 "metadata": {
  "kernelspec": {
   "display_name": "Python 3 (ipykernel)",
   "language": "python",
   "name": "python3"
  },
  "language_info": {
   "codemirror_mode": {
    "name": "ipython",
    "version": 3
   },
   "file_extension": ".py",
   "mimetype": "text/x-python",
   "name": "python",
   "nbconvert_exporter": "python",
   "pygments_lexer": "ipython3",
   "version": "3.12.0"
  },
  "widgets": {
   "application/vnd.jupyter.widget-state+json": {
    "state": {},
    "version_major": 2,
    "version_minor": 0
   }
  }
 },
 "nbformat": 4,
 "nbformat_minor": 4
}
