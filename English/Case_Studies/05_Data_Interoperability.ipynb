{
 "cells": [
  {
   "cell_type": "markdown",
   "id": "6e2ec009",
   "metadata": {},
   "source": [
    "# Data Interoperability Example\n",
    "\n",
    "There have been some recent innovations that make accessing data simpler, including the\n",
    "use of the spatio-temporal asset catalog (STAC) specification and STAC APIs to share\n",
    "metadata about data that can be loaded without needing to use the Open Data Cube's database\n",
    "as an index to that data.\n",
    "\n",
    "This notebook will demonstrate an example of masking a cloudy Sentinel-2 scene differently\n",
    "depending on elevation. To do this, we'll load data from the Copernicus DEM and use that to\n",
    "identify high, cloudy peaks and separate the Sentinel-2 scene into two, before applying\n",
    "two different cloud masks, and then merging it back into a single scene.\n",
    "\n",
    "## Environment set up\n",
    "\n",
    "First we import some libraries we need"
   ]
  },
  {
   "cell_type": "code",
   "execution_count": null,
   "id": "8211f5d8",
   "metadata": {},
   "outputs": [],
   "source": [
    "import folium\n",
    "from datacube import Datacube\n",
    "from odc.algo import mask_cleanup\n",
    "from odc.geo.geom import point\n",
    "from odc.stac import load\n",
    "from pystac.client import Client"
   ]
  },
  {
   "cell_type": "markdown",
   "id": "354e8512",
   "metadata": {},
   "source": [
    "## Location setup\n",
    "\n",
    "Next we pick a location. This is using lon/lat coordinates to create a bounding box\n",
    "to use to load data."
   ]
  },
  {
   "cell_type": "code",
   "execution_count": null,
   "id": "c89a8c6f",
   "metadata": {},
   "outputs": [],
   "source": [
    "# These coords are in the order Y then X, or Latitude then Longitude\n",
    "coords = -6.11, 105.41  # Krakatoa\n",
    "aoi_point = point(coords[1], coords[0], crs=\"EPSG:4326\")\n",
    "bbox = aoi_point.buffer(0.06).boundingbox\n",
    "\n",
    "# Preview the area\n",
    "bbox.explore(zoom=8)"
   ]
  },
  {
   "cell_type": "markdown",
   "id": "ab51167e",
   "metadata": {},
   "source": [
    "## Find and load Sentinel-2 data\n",
    "\n",
    "Since we're using Sentinel-2 data to create a tempoaral, cloud-free mosaic, we need to\n",
    "search for and then load some data. We're just loading the visual bands (`red`, `green` and `blue`)\n",
    "as well as the 'scene classification' band, `scl`.\n",
    "\n",
    "This step is lazy-loading the data using Dask, with the `dask_chunks` argument."
   ]
  },
  {
   "cell_type": "code",
   "execution_count": null,
   "id": "44a3cffb",
   "metadata": {},
   "outputs": [],
   "source": [
    "# Connect to the Datacube database\n",
    "dc = Datacube()\n",
    "\n",
    "# Find and load Sentinel-2 datasets\n",
    "sentinel2_datasets = dc.find_datasets(\n",
    "    product=[\"s2_l2a\"],\n",
    "    time=(\"2025-01\", \"2025-03\"),\n",
    "    longitude=(bbox.left, bbox.right),\n",
    "    latitude=(bbox.bottom, bbox.top),\n",
    ")\n",
    "\n",
    "print(f\"Found {len(sentinel2_datasets)} Sentinel-2 datasets\")\n",
    "\n",
    "data = dc.load(\n",
    "    datasets=sentinel2_datasets,\n",
    "    longitude=(bbox.left, bbox.right),\n",
    "    latitude=(bbox.bottom, bbox.top),\n",
    "    output_crs=sentinel2_datasets[0].crs,\n",
    "    resolution=10,\n",
    "    measurements=[\"red\", \"green\", \"blue\", \"scl\"],\n",
    "    group_by=\"solar_day\",\n",
    "    dask_chunks={\"time\": 1, \"x\": 1024, \"y\": 1024},\n",
    "    resampling={\n",
    "        \"*\": \"cubic\",\n",
    "        \"scl\": \"nearest\",\n",
    "    },\n",
    "    driver=\"rio\",\n",
    ")\n",
    "\n",
    "data"
   ]
  },
  {
   "cell_type": "markdown",
   "id": "9e5f5a5a",
   "metadata": {},
   "source": [
    "## Preview data\n",
    "\n",
    "The next couple of steps we use to preview data, first the RGB image and then the original cloud mask."
   ]
  },
  {
   "cell_type": "code",
   "execution_count": null,
   "id": "dff707cc",
   "metadata": {},
   "outputs": [],
   "source": [
    "TIME = 3  # Change this to pick a different time\n",
    "one_time = data.isel(time=TIME).compute()  # Compute() here means \"load into memory\"\n",
    "one_time.odc.explore(vmin=0, vmax=3000)"
   ]
  },
  {
   "cell_type": "code",
   "execution_count": null,
   "id": "70395d4c",
   "metadata": {},
   "outputs": [],
   "source": [
    "# For Sentinel-2, 3 is cloud shadow, 8 is medium probability cloud, and 9 is high probability cloud\n",
    "# We could add in 10 too, to cover thin cirrus clouds, but we'll leave that out for now\n",
    "cloud_mask = data.scl.isin([3, 8, 9])\n",
    "one_cloud_mask = cloud_mask.isel(\n",
    "    time=TIME\n",
    ").compute()  # Compute() here means \"load into memory\"\n",
    "one_cloud_mask.where(one_cloud_mask != 0).odc.explore(\n",
    "    name=\"Cloud Mask\", vmin=0, vmax=1, cmap=\"Greys_r\"\n",
    ")"
   ]
  },
  {
   "cell_type": "markdown",
   "id": "19c746f3",
   "metadata": {},
   "source": [
    "## Load elevation data over the same area\n",
    "\n",
    "In this step, we use a different method to find and load data, this time querying a STAC API\n",
    "and then using the function `odc.stac.load` to create an Xarray using the STAC Item returned\n",
    "from the API.\n",
    "\n",
    "We are passing in the argument `like=data.odc.geobox` that will ask the `odc.stac.load` function\n",
    "to create an xarray in exactly the same shape as our Sentinel-2 `Dataset`."
   ]
  },
  {
   "cell_type": "code",
   "execution_count": null,
   "id": "c514ab1a",
   "metadata": {},
   "outputs": [],
   "source": [
    "# Load elevation data using STAC\n",
    "client = Client.open(\"https://earth-search.aws.element84.com/v1\")\n",
    "collection = \"cop-dem-glo-30\"\n",
    "\n",
    "items = client.search(collections=[collection], bbox=list(bbox)).item_collection()\n",
    "\n",
    "print(f\"Found {len(items)} DEM items\")\n",
    "\n",
    "dem = load(\n",
    "    items,\n",
    "    like=data.odc.geobox,\n",
    "    # chunks={\"x\": 1024, \"y\": 1024}  # No need to use Dask\n",
    ").squeeze()  # Remove the time dimension\n",
    "\n",
    "dem"
   ]
  },
  {
   "cell_type": "markdown",
   "id": "d4ee1019",
   "metadata": {},
   "source": [
    "## Preview the elevation model\n",
    "\n",
    "Now we preview the DEM, and then create a \"high\" terrain mask for anything about 50 m,\n",
    "effectively separating anything above approximately sea level.\n"
   ]
  },
  {
   "cell_type": "code",
   "execution_count": null,
   "id": "ee5d2733",
   "metadata": {},
   "outputs": [],
   "source": [
    "dem.data.odc.explore(cmap=\"terrain\", vmin=0, vmax=2000, name=\"DEM\")"
   ]
  },
  {
   "cell_type": "code",
   "execution_count": null,
   "id": "66de43d6",
   "metadata": {},
   "outputs": [],
   "source": [
    "high = dem.data > 50\n",
    "high.where(high).odc.explore(cmap=\"Greens\", vmin=0, vmax=1, name=\"High Elevation\")"
   ]
  },
  {
   "cell_type": "markdown",
   "id": "ca566dcc",
   "metadata": {},
   "source": [
    "## Cloud mask creation and exploration\n",
    "\n",
    "The next range of cells run through some steps creating two modified cloud masks,\n",
    "one for areas of terrain, and one for everywhere else.\n",
    "\n",
    "This process uses a function `odc.algo.mask_cleanup` to do some topological cleaning\n",
    "of masks. `Dilation` makes the mask bigger, while `erosion` makes it smaller. These\n",
    "topological functions are used to fill holes, remove slivers and generally clean\n",
    "up the mask.\n",
    "\n",
    "The goal is to clean up the Sentinel-2 cloud mask, which can sometimes misclassify beaches\n",
    "as clouds, but also handle cloudy mountain peaks, like the one at Krakatoa."
   ]
  },
  {
   "cell_type": "code",
   "execution_count": null,
   "id": "575ead7e",
   "metadata": {},
   "outputs": [],
   "source": [
    "# Now we create two cloud masks, one for high and one for everywhere else\n",
    "high_mask = one_cloud_mask.where(high)\n",
    "non_high_mask = one_cloud_mask.where(~high)\n",
    "\n",
    "high_mask = high_mask.where(high_mask != 0)\n",
    "non_high_mask = non_high_mask.where(non_high_mask != 0)\n",
    "\n",
    "m = folium.Map(location=coords, zoom_start=12)\n",
    "\n",
    "one_time.odc.to_rgba(vmin=0, vmax=3000).odc.add_to(m, name=\"Sentinel-2 Data\")\n",
    "high_mask.odc.add_to(m, name=\"High Elevation Cloud Mask\", vmin=0, vmax=1, cmap=\"Reds\")\n",
    "non_high_mask.odc.add_to(\n",
    "    m, name=\"Elsewhere Elevation Cloud Mask\", vmin=0, vmax=1, cmap=\"Blues\"\n",
    ")\n",
    "\n",
    "# Add a layer control to toggle between the two cloud masks\n",
    "folium.LayerControl().add_to(m)\n",
    "\n",
    "m"
   ]
  },
  {
   "cell_type": "code",
   "execution_count": null,
   "id": "f10c0e62",
   "metadata": {},
   "outputs": [],
   "source": [
    "# Now we want to treat the two cloud masks differently.\n",
    "# For high areas, we want to use a more aggressive cloud mask\n",
    "# For other areas, we want to try to not mask out beaches, which are often misclassified as clouds\n",
    "\n",
    "# For this one, we dilate by 10, which expands the cloud mask, then we dilate again by 5 to clean up the edges\n",
    "high_cleanup_config = ((\"dilation\", 10), (\"erosion\", 5))\n",
    "high_mask_cleaned = mask_cleanup(high_mask == 1, high_cleanup_config)\n",
    "high_mask_cleaned = high_mask_cleaned.where(high_mask_cleaned != 0)\n",
    "\n",
    "m = folium.Map(location=coords, zoom_start=12)\n",
    "\n",
    "one_time.odc.to_rgba(vmin=0, vmax=3000).odc.add_to(m, name=\"Sentinel-2 Data\")\n",
    "high_mask_cleaned.odc.add_to(\n",
    "    m, name=\"High Elevation Cloud Mask Cleaned\", vmin=0, vmax=1, cmap=\"Reds\"\n",
    ")\n",
    "high_mask.odc.add_to(m, name=\"High Elevation Cloud Mask\", vmin=0, vmax=1, cmap=\"Blues\")\n",
    "folium.LayerControl().add_to(m)\n",
    "\n",
    "m"
   ]
  },
  {
   "cell_type": "code",
   "execution_count": null,
   "id": "b7a4d4bf",
   "metadata": {},
   "outputs": [],
   "source": [
    "# For this one, we erode first, to remove slivers and small clouds, then dilate to expand the mask\n",
    "# This helps to avoid masking out small features like beaches\n",
    "non_high_cleanup_config = ((\"erosion\", 5), (\"dilation\", 6))\n",
    "non_high_mask_cleaned = mask_cleanup(non_high_mask == 1, non_high_cleanup_config)\n",
    "non_high_mask_cleaned = non_high_mask_cleaned.where(non_high_mask_cleaned != 0)\n",
    "\n",
    "m = folium.Map(location=coords, zoom_start=12)\n",
    "\n",
    "one_time.odc.to_rgba(vmin=0, vmax=3000).odc.add_to(m, name=\"Sentinel-2 Data\")\n",
    "non_high_mask_cleaned.odc.add_to(\n",
    "    m, name=\"Elsewhere Elevation Cloud Mask Cleaned\", vmin=0, vmax=1, cmap=\"Reds\"\n",
    ")\n",
    "non_high_mask.odc.add_to(\n",
    "    m, name=\"Elsewhere Elevation Cloud Mask\", vmin=0, vmax=1, cmap=\"Blues\"\n",
    ")\n",
    "folium.LayerControl().add_to(m)\n",
    "\n",
    "m"
   ]
  },
  {
   "cell_type": "code",
   "execution_count": null,
   "id": "2c84f24c",
   "metadata": {},
   "outputs": [],
   "source": [
    "# Preview the combined masks first\n",
    "combined = (high_mask_cleaned == 1) | (non_high_mask_cleaned == 1)\n",
    "combined.where(combined != 0).odc.explore(\n",
    "    cmap=\"Purples\", vmin=0, vmax=1, name=\"Combined Cloud Mask\"\n",
    ")"
   ]
  },
  {
   "cell_type": "markdown",
   "id": "af913da1",
   "metadata": {},
   "source": [
    "## Apply the masks and create a mosaic\n",
    "\n",
    "Finally, we can apply the two different cloud masks. One is the original Sentinel-2 SCL\n",
    "mask, with no modifications, and the other is a combination of the high and elsewhere\n",
    "modified masks, which we hope will lead to a better result."
   ]
  },
  {
   "cell_type": "code",
   "execution_count": null,
   "id": "14d62558",
   "metadata": {},
   "outputs": [],
   "source": [
    "# Now we'll apply the original mask to the data\n",
    "# And separately apply the combined mask to the data\n",
    "# Compute a median of them both, and explore the result\n",
    "\n",
    "# Apply the original cloud mask to the data\n",
    "data_simple_mask = data.where(~cloud_mask)\n",
    "\n",
    "# Redo the high and non-high masks to all data\n",
    "high_mask = cloud_mask.where(dem.data > 50)\n",
    "non_high_mask = cloud_mask.where(~(dem.data > 50))\n",
    "\n",
    "high_mask_cleaned = mask_cleanup(high_mask == 1, high_cleanup_config)\n",
    "non_high_mask_cleaned = mask_cleanup(non_high_mask == 1, non_high_cleanup_config)\n",
    "combined_mask = high_mask_cleaned | non_high_mask_cleaned\n",
    "\n",
    "data_complex_mask = data.where(~combined_mask)\n",
    "\n",
    "# Compute the median of the two masked datasets\n",
    "data_median = data_simple_mask.median(dim=\"time\").compute()\n",
    "data_complex_median = data_complex_mask.median(dim=\"time\").compute()"
   ]
  },
  {
   "cell_type": "code",
   "execution_count": null,
   "id": "720e0a1f",
   "metadata": {},
   "outputs": [],
   "source": [
    "# Explore the results\n",
    "m = folium.Map(location=coords, zoom_start=12)\n",
    "data_median.odc.to_rgba(vmin=0, vmax=3000).odc.add_to(m, name=\"Simple Mask Median\")\n",
    "data_complex_median.odc.to_rgba(vmin=0, vmax=3000).odc.add_to(\n",
    "    m, name=\"Complex Mask Median\"\n",
    ")\n",
    "\n",
    "folium.LayerControl().add_to(m)\n",
    "\n",
    "m\n"
   ]
  },
  {
   "cell_type": "markdown",
   "id": "0690ec77",
   "metadata": {},
   "source": [
    "## Consider the results\n",
    "\n",
    "While this is a complicated example, and there are only subtle differences, if you look at the island\n",
    "to the south east, the lower right of the image, and zoom to the southern coast, you can see a better result\n",
    "in that there is less noise there. And at the mountain peak, there is more clear data, and less of a\n",
    "hole (i.e., areas where there were no clear observations).\n",
    "\n",
    "### What we learnt\n",
    "\n",
    "We have successfully used two datasets, Sentinel-2 and the Copernicus Digital Elevation Model to\n",
    "undertake a complicated analysis using cloud masking to create a temporal mosaic.\n",
    "\n",
    "The two datasets were loaded two different ways, one using the Open Data Cube and the other using\n",
    "ODC STAC."
   ]
  }
 ],
 "metadata": {
  "kernelspec": {
   "display_name": "Python 3",
   "language": "python",
   "name": "python3"
  },
  "language_info": {
   "codemirror_mode": {
    "name": "ipython",
    "version": 3
   },
   "file_extension": ".py",
   "mimetype": "text/x-python",
   "name": "python",
   "nbconvert_exporter": "python",
   "pygments_lexer": "ipython3",
   "version": "3.11.11"
  }
 },
 "nbformat": 4,
 "nbformat_minor": 5
}
