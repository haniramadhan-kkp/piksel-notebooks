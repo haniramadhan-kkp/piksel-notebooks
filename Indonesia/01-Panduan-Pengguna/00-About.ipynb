{
 "cells": [
  {
   "cell_type": "markdown",
   "id": "dfe94b72-3e2d-45bf-8564-e579a87436ad",
   "metadata": {},
   "source": [
    "| <h1><b>Panduan Pengguna</b></h1> |  ![](files/piksel-logo-small.png) |\n",
    "|:---------|----------:|\n",
    "* **Prasyarat**: Tidak ada prasyarat pembelajaran yang diperlukan, karena dokumen ini dirancang untuk pengguna pemula\n",
    "\n",
    "Panduan Pengguna berikut bertujuan untuk menjelaskan hal-hal awal untuk menggunakan Piksel sandbox dalam pengolahan data citra satelit. Pemahaman terkait pemorograman dengan Python dan penggunaan jupyter notebook diberikan pada awal panduan ini."
   ]
  },
  {
   "cell_type": "markdown",
   "id": "e215016a-4056-4438-b19e-cd4b2db3e657",
   "metadata": {},
   "source": [
    "## 📒 Daftar modul\n",
    "Berikut adalah daftar modul Panduan Pengguna:\n",
    "\n",
    "| Nomer | Topik | Keterangan |\n",
    "|---------|---------|----------|\n",
    "| 01 | [Python](01_Python.ipynb)  | Pengenalan dasar-dasar pemrograman dengan menggunakan Python |\n",
    "| 02 | [Jupyter notebook](02_Jupyter_notebook.ipynb)  | Penggunaan dan editing file jupyter notebook |\n",
    "| 03 | [Product dan measurement](03_Product_dan_measurement.ipynb) | Pengenalan product (jenis citra) dan measurement {kanal) |\n",
    "| 04 | [Membuka data](04_Membuka_data.ipynb) | Membuka data citra satelit untuk dilakukan pemrosesan |\n",
    "| 05 | [Plotting data](05_Plotting.ipynb) | Menampilkan data dalam bentuk image |\n",
    "| 06 | [Analisis dasar](06_Analisis_dasar.ipynb) | Pengenalan analisis dasar citra satelit |\n",
    "| 07 | [Numpy](07_Numpy.ipynb) | Library Numpy digunakan untuk bekerja dengan array/matriks secara efisien |\n",
    "| 08 | [Xarray](08_Xarray.ipynb) | Library Xarray digunakan untuk mengelola array multi-dimensi yang berlabel |\n",
    "| 09 | [Dask](09_Dask.ipynb)| Penggunaan library Dask untuk parallel processing |"
   ]
  },
  {
   "cell_type": "markdown",
   "id": "d0531cea-b0e5-462d-bb61-b13a4654ba91",
   "metadata": {},
   "source": [
    "---"
   ]
  },
  {
   "cell_type": "markdown",
   "id": "7c6b1af6-eabe-4de6-8525-fa99511e2351",
   "metadata": {},
   "source": [
    "## ℹ️ Info\n",
    "\n",
    "Jika ada pertanyaan atau komentar bisa mengirimkan email ke piksel@big.go.id\n",
    "\n",
    "**Lisensi:** Skrip dalam notebook ini dilisensikan berdasarkan [Apache License, Version 2.0](https://www.apache.org/licenses/LICENSE-2.0). \n",
    "Data Piksel dilisensikan berdasarkan lisensi [Creative Commons by Attribution 4.0](https://creativecommons.org/licenses/by/4.0/)."
   ]
  },
  {
   "cell_type": "code",
   "execution_count": null,
   "id": "6bd1c981-b8c6-4fff-8112-2cab6eabace8",
   "metadata": {},
   "outputs": [],
   "source": [
    "from datetime import datetime\n",
    "print(f\"Tanggal update: {datetime.now().strftime('%d %B %Y')}\")"
   ]
  }
 ],
 "metadata": {
  "kernelspec": {
   "display_name": "Python 3 (ipykernel)",
   "language": "python",
   "name": "python3"
  },
  "language_info": {
   "codemirror_mode": {
    "name": "ipython",
    "version": 3
   },
   "file_extension": ".py",
   "mimetype": "text/x-python",
   "name": "python",
   "nbconvert_exporter": "python",
   "pygments_lexer": "ipython3",
   "version": "3.12.0"
  }
 },
 "nbformat": 4,
 "nbformat_minor": 5
}
