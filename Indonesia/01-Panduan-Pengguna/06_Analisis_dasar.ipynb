{
 "cells": [
  {
   "cell_type": "markdown",
   "metadata": {},
   "source": [
    "| <h1><b>Melakukan Analisis Dasar</b></h1> |  ![](files/piksel-logo-small.png) |\n",
    "|:---------|----------:|\n",
    "\n",
    "* **Produk yang digunakan:** \n",
    "[s2_l2a](https://explorer.digitalearth.africa/s2_l2a)\n",
    "* **Prasyarat**:  Pengguna notebook ini harus memiliki pemahaman dasar tentang:\n",
    "    * Cara menjalankan [Jupyter notebook](01_Jupyter_notebooks.ipynb)\n",
    "    * Memeriksa produk dan pengukuran yang tersedia di [Piksel Products and measurement](02_Product_dan_measurement.ipynb)\n",
    "    * Cara [membuka data Piksel](03_Membuka_data.ipynb)\n",
    "    * Cara [plotting data](04_Plotting.ipynb)"
   ]
  },
  {
   "cell_type": "raw",
   "metadata": {
    "raw_mimetype": "text/restructuredtext"
   },
   "source": [
    "**Kata Kunci**: :index:`panduan pemula; analisis`, :indeks:`analisis; panduan pemula`, :indeks:`data yang digunakan; sentinel 2`, :indeks:`band index; NDVI`, :indeks:`metode data; eksporting`"
   ]
  },
  {
   "cell_type": "markdown",
   "metadata": {},
   "source": [
    "## 🔙 Pendahuluan\n",
    "Untuk memahami dunia di sekitar kita, penting untuk menggabungkan langkah-langkah utama dalam memuat, memvisualisasikan, menganalisis, dan menafsirkan data satelit.\n",
    "Untuk melakukan analisis, kita memulai dengan sebuah pertanyaan dan menggunakan langkah-langkah ini untuk mencapai jawaban."
   ]
  },
  {
   "cell_type": "markdown",
   "metadata": {},
   "source": [
    "Notebook ini menunjukkan cara melakukan analisis dasar dengan data Piksel dan Open Data Cube.\n",
    "Notebook ini akan menggabungkan banyak langkah yang telah dibahas dalam notebook pemula lainnya.\n",
    "\n",
    "Dalam notebook ini, pertanyaan analisis yang akan dijawab adalah:\n",
    "_\"Bagaimana perubahan kesehatan vegetasi seiring waktu di suatu area tertentu?\"_\n",
    "\n",
    "* Apa dampak praktik penggunaan lahan baru terhadap lahan pertanian?\n",
    "* Bagaimana perubahan suatu area hutan setelah kebakaran?\n",
    "* Bagaimana kedekatan dengan air memengaruhi vegetasi sepanjang tahun?\n",
    "\n",
    "Untuk notebook ini, pertanyaan analisis akan tetap sederhana tanpa banyak konteks dunia nyata.\n",
    "Untuk contoh lain tentang cara menggunakan Piksel untuk menjawab pertanyaan analisis tertentu, lihat notebook dalam folder \".......\".\n",
    "\n",
    "1. Memilih area studi.\n",
    "2. Memuat data untuk area studi.\n",
    "3. Memplot data yang dipilih dan mengeksplorasi perubahannya seiring waktu.\n",
    "4. Menghitung ukuran kesehatan vegetasi dari data yang dimuat.\n",
    "5. Mengekspor data untuk analisis lebih lanjut."
   ]
  },
  {
   "cell_type": "markdown",
   "metadata": {},
   "source": [
    "## 🏃‍♂️‍➡️ Memulai\n",
    "\n",
    "Untuk menjalankan pengenalan ini dalam melakukan analisis dasar dengan data Piksel dan datacube, jalankan semua sel dalam notebook mulai dari sel \"Memuat paket\". Untuk bantuan dalam menjalankan sel notebook, lihat kembali ke [Jupyter notebook](http://43.218.254.133:8888/notebooks/panduan-pengguna/01_Jupyter_notebooks.ipynb)"
   ]
  },
  {
   "cell_type": "markdown",
   "metadata": {},
   "source": [
    "### Memuat paket\n",
    "\n",
    "Sel di bawah ini mengimpor paket Python yang digunakan untuk analisis. \n",
    "Perintah pertama adalah `%matplotlib inline`, yang memastikan bahwa grafik ditampilkan dengan benar di Jupyter Notebook. \n",
    "Perintah berikutnya mengimpor berbagai fungsi:\n",
    "\n",
    "* `piksel_tools` berisi fungsi pendukung yang berguna, termasuk modul [plotting data](http://43.218.254.133:8888/notebooks/panduan-pengguna/04_Plotting.ipynb), yang digunakan dalam notebook ini.\n",
    "* `datacube` memungkinkan untuk melakukan kueri dan memuat data.\n",
    "* `matplotlib` menyediakan kemampuan untuk memformat dan memanipulasi grafik"
   ]
  },
  {
   "cell_type": "code",
   "execution_count": null,
   "metadata": {},
   "outputs": [],
   "source": [
    "%matplotlib inline\n",
    "\n",
    "import datacube\n",
    "import odc.algo\n",
    "import matplotlib.pyplot as plt\n",
    "from datacube.utils.cog import write_cog\n",
    "\n",
    "from dea_tools.plotting import display_map, rgb"
   ]
  },
  {
   "cell_type": "markdown",
   "metadata": {},
   "source": [
    "### Terhubung ke Datacube\n",
    "\n",
    "Langkah selanjutnya adalah menghubungkan ke basis data datacube.\n",
    "Objek datacube `dc` yang dihasilkan kemudian dapat digunakan untuk memuat data.\n",
    "Parameter `app` adalah nama unik yang digunakan untuk mengidentifikasi notebook, tetapi tidak berpengaruh pada analisis"
   ]
  },
  {
   "cell_type": "code",
   "execution_count": null,
   "metadata": {},
   "outputs": [],
   "source": [
    "dc = datacube.Datacube(app=\"05_Analisis_dasar\")"
   ]
  },
  {
   "cell_type": "markdown",
   "metadata": {},
   "source": [
    "## 🗺️ Langkah 1: Memilih Area Studi"
   ]
  },
  {
   "cell_type": "markdown",
   "metadata": {},
   "source": [
    "Saat bekerja dengan Open Data Cube, penting untuk memuat hanya sebanyak data yang diperlukan.\n",
    "Hal ini membantu menjaga analisis tetap berjalan dengan cepat dan menghindari notebook mengalami crash akibat kekurangan memori.\n",
    "\n",
    "Salah satu cara untuk menetapkan area studi adalah dengan menentukan pasangan koordinat lintang dan bujur pusat, `(central_lat, central_lon)`, lalu menentukan berapa derajat yang akan disertakan di kedua sisi lintang dan bujur pusat, yang disebut sebagai `buffer`.\n",
    "Kombinasi parameter ini menentukan area studi berbentuk persegi, seperti ditunjukkan di bawah ini:\n",
    "\n",
    "![Buffer Map](files/latlong_buffer.png)"
   ]
  },
  {
   "cell_type": "markdown",
   "metadata": {},
   "source": [
    "### Lokasi\n",
    "Di bawah ini, kami telah menetapkan area studi yang mencakup kawasan pertanian di Afrika Selatan.\n",
    "Untuk memuat area yang berbeda, Anda dapat menyediakan nilai `central_lat` dan `central_lon` sendiri.\n",
    "Salah satu cara untuk mendapatkan koordinat ini adalah dengan mencari lokasi di Google atau mengklik langsung pada peta di [Google Maps](https://www.google.com/maps/place/6%C2%B028'04.8%22S+107%C2%B005'21.3%22E/@-6.4679847,107.0866851,757m/data=!3m2!1e3!4b1!4m4!3m3!8m2!3d-6.46799!4d107.08926?entry=ttu&g_ep=EgoyMDI1MDIxMi4wIKXMDSoASAFQAw%3D%3D).\n",
    "Cara lainnya adalah:\n",
    "\n",
    "* **Jonggol, Kabupaten Bogor**\n",
    "```\n",
    "central_lat = -6.46799\n",
    "central_lon = 107.08926\n",
    "```\n",
    "> **Note**: Jika Anda mengubah lintang dan bujur area studi, Anda perlu menjalankan ulang semua sel setelahnya agar perubahan tersebut diterapkan ke seluruh analisis."
   ]
  },
  {
   "cell_type": "markdown",
   "metadata": {},
   "source": [
    "### Buffer\n",
    "Jangan ragu untuk bereksperimen dengan nilai `buffer` untuk memuat area dengan ukuran berbeda.\n",
    "Kami menyarankan agar Anda menjaga nilai `buffer` tetap kecil, tidak lebih dari `buffer=0.1` derajat.\n",
    "Hal ini akan membantu menjaga waktu pemuatan tetap wajar dan mencegah notebook mengalami crash.\n",
    "\n",
    "\n",
    "> **Ekstensi**: Dapatkah Anda memodifikasi kode agar menggunakan nilai `buffer` yang berbeda untuk `lintang` dan `bujur`?\n",
    "\n",
    "> *Petunjuk*: Anda mungkin ingin menggunakan dua variabel, buffer_lat dan buffer_lon, yang dapat diatur secara independen.\n",
    "Setelah itu, Anda perlu memperbarui definisi `study_area_lat` dan `study_area_lon` dengan nilai `buffer` yang sesuai."
   ]
  },
  {
   "cell_type": "code",
   "execution_count": null,
   "metadata": {},
   "outputs": [],
   "source": [
    "# Tetapkan pusat lintang dan bujur\n",
    "central_lat = -6.46799\n",
    "central_lon = 107.08926\n",
    "# Tetapkan buffer untuk memuat area di sekitar koordinat pusat.\n",
    "buffer = 0.03\n",
    "\n",
    "# Hitung bounding box untuk area studi.\n",
    "study_area_lat = (central_lat - buffer, central_lat + buffer)\n",
    "study_area_lon = (central_lon - buffer, central_lon + buffer)"
   ]
  },
  {
   "cell_type": "markdown",
   "metadata": {},
   "source": [
    "\n",
    "Setelah memilih area studi, akan bermanfaat untuk memvisualisasikannya di peta interaktif.\n",
    "Ini memberikan gambaran tentang skala area tersebut.\n",
    "\n",
    "\n",
    ">**Catatan**: Peta interaktif juga menampilkan nilai lintang dan bujur saat diklik.\n",
    "Anda dapat menggunakan fitur ini untuk menghasilkan nilai lintang dan bujur baru tanpa harus keluar dari notebook."
   ]
  },
  {
   "cell_type": "code",
   "execution_count": null,
   "metadata": {},
   "outputs": [],
   "source": [
    "display_map(x=study_area_lon, y=study_area_lat)"
   ]
  },
  {
   "cell_type": "markdown",
   "metadata": {},
   "source": [
    "## 💾 Langkah 2: Memuat data\n",
    "\n",
    "\n",
    "Saat mengajukan pertanyaan analisis tentang vegetasi, akan berguna untuk bekerja dengan citra optik, seperti Sentinel-2 atau Landsat.\n",
    "Satelit Sentinel-2 memiliki resolusi 10 meter dan menyimpan data sejak tahun 2017.\n",
    "\n",
    "\n",
    "Kode di bawah ini menyiapkan informasi yang diperlukan untuk memuat data."
   ]
  },
  {
   "cell_type": "code",
   "execution_count": null,
   "metadata": {},
   "outputs": [],
   "source": [
    "# Tetapkan sumber data - s2a merujuk pada Sentinel-2A  \n",
    "set_product = \"s2_l2a\"\n",
    "\n",
    "# Tetapkan rentang tanggal untuk memuat data\n",
    "set_time = (\"2024-07-01\", \"2024-07-31\")\n",
    "\n",
    "# Tetapkan pengukuran/band yang akan dimuat  \n",
    "# Untuk analisis ini, kita akan memuat band merah, biru, hijau, dan near-infrared \n",
    "set_measurements = [\n",
    "    \"red\",\n",
    "    \"blue\",\n",
    "    \"green\",\n",
    "    \"nir\"\n",
    "]\n",
    "\n",
    "# Tetapkan sistem referensi koordinat dan resolusi keluaran\n",
    "set_crs = 'EPSG:32748'\n",
    "set_resolution = (-10, 10)"
   ]
  },
  {
   "cell_type": "markdown",
   "metadata": {},
   "source": [
    "Setelah menetapkan semua parameter yang diperlukan, perintah `dc.load()` digunakan untuk memuat data:"
   ]
  },
  {
   "cell_type": "code",
   "execution_count": null,
   "metadata": {},
   "outputs": [],
   "source": [
    "\n",
    "\n",
    "dataset = dc.load(\n",
    "    product='s2_l2a',\n",
    "    x=(107.0, 107.1),\n",
    "    y=(-6.6, -6.5),\n",
    "    time=('2023-01-01', '2023-01-10'),\n",
    "    measurements=['red', 'green', 'blue','nir'],\n",
    "    output_crs='EPSG:32748',\n",
    "    resolution=10,\n",
    "    group_by='solar_day'\n",
    ")\n"
   ]
  },
  {
   "cell_type": "markdown",
   "metadata": {},
   "source": [
    "\n",
    "Setelah langkah pemuatan, mencetak objek `dataset` akan memberikan wawasan tentang semua data yang telah dimuat.\n",
    "Lakukan ini dengan menjalankan sel berikutnya.\n",
    "\n",
    "Ada banyak informasi yang perlu dipahami, yang direpresentasikan oleh aspek-aspek berikut dalam data:\n",
    "\n",
    "- `Dimensions`: Nama dimensi data, biasanya `time`, `x`, dan `y`, serta jumlah entri dalam setiap dimensi.\n",
    "- `Coordinates`: Nilai koordinat untuk setiap titik dalam data cube.\n",
    "- `Data variables`: Observasi yang dimuat, biasanya berbagai band spektral dari satelit.\n",
    "- `Attributes`: Informasi tambahan yang berguna tentang data, seperti `crs` (coordinate reference system)."
   ]
  },
  {
   "cell_type": "code",
   "execution_count": null,
   "metadata": {},
   "outputs": [],
   "source": [
    "dataset.red.attrs"
   ]
  },
  {
   "cell_type": "code",
   "execution_count": null,
   "metadata": {},
   "outputs": [],
   "source": [
    "print(dataset)"
   ]
  },
  {
   "cell_type": "markdown",
   "metadata": {},
   "source": [
    "## 🖨️ Langkah 3: Memplot Data\n",
    "\n",
    "\n",
    "Setelah memuat data, akan berguna untuk melihatnya guna memahami resolusi, mengidentifikasi pengamatan yang terpengaruh oleh tutupan awan, dan mendeteksi perbedaan yang jelas antara langkah waktu (time step).\n",
    "\n",
    "\n",
    "Kita menggunakan fungsi `rgb()` untuk memplot data yang dimuat pada langkah sebelumnya.\n",
    "Fungsi `rgb()` memetakan tiga variabel data/pengukuran dari dataset yang dimuat ke dalam saluran red, green, dan blue yang digunakan untuk membuat gambar tiga warna.\n",
    "Ada beberapa parameter yang bisa Anda coba:\n",
    "\n",
    "\n",
    "\n",
    "* `time_step=n`\\\n",
    "Ini menetapkan time step yang ingin Anda lihat.\n",
    "`n` bisa berupa angka apa saja dari `0` hingga satu angka lebih kecil dari jumlah time step yang dimuat.\n",
    "Jumlah time step yang dimuat ditampilkan dalam hasil cetakan data, di bawah bagian `Dimensions`.\n",
    "Sebagai contoh, jika di bawah `Dimensions`: Anda melihat `time: 6`, maka ada 6 time step, dan `time_step` bisa bernilai antara `0` hingga `5`.\n",
    "\n",
    "\n",
    "\n",
    "* `bands=[red_channel, green_channel, blue_channel]`\\\n",
    "Ini menetapkan pengukuran yang ingin Anda gunakan untuk membuat gambar.\n",
    "Pengukuran apa pun dapat dipetakan ke tiga band, dan kombinasi yang berbeda menyoroti fitur yang berbeda.\n",
    "Dua kombinasi umum adalah:\n",
    "\n",
    "    * Warna sebenarnya (true colour):\n",
    "    `bands = [\"red\", \"green\", \"blue\"]`\n",
    "    * Warna semu (false colour):\n",
    "    `bands = [\"nir\", \"red\", \"green\"]`\n",
    "    \n",
    "\n",
    "\n",
    "Untuk detail lebih lanjut tentang menyesuaikan plot, lihat notebook [Pengenalan Plotting](http://43.218.254.133:8888/notebooks/panduan-pengguna/04_Plotting.ipynb). \n",
    "\n",
    "\n",
    "\n",
    "\n",
    ">**Ekstensi**: Jika `time_step` diatur sebagai array nilai, misalnya `time_step=[time_1, time_2]`, maka semua langkah waktu yang diberikan akan dipetakan.\n",
    "Coba modifikasi kode untuk memplot gambar pertama dan terakhir.\n",
    "Jika Anda melakukannya, perubahan apa yang Anda perhatikan?\n",
    "\n",
    ">*Petunjuk*: Untuk mendapatkan gambar terakhir, Anda bisa menggunakan nilai langkah waktu `-1`. \n"
   ]
  },
  {
   "cell_type": "code",
   "execution_count": null,
   "metadata": {},
   "outputs": [],
   "source": [
    "# tentukan time step yang diinginkan\n",
    "time_step = 2"
   ]
  },
  {
   "cell_type": "code",
   "execution_count": null,
   "metadata": {},
   "outputs": [],
   "source": [
    "# Tetapkan kombinasi band untuk dipetakan\n",
    "bands = [\"red\", \"green\", \"blue\"]\n",
    "\n",
    "# Hasilkan gambar dengan menjalankan fungsi rgb\n",
    "rgb(dataset, bands=bands, index=time_step, size=8)\n",
    "\n",
    "# Format cap waktu untuk digunakan sebagai judul plot\n",
    "time_string = str(dataset.time.isel(time=time_step).values).split('.')[0]  \n",
    "\n",
    "# Tetapkan judul dan label sumbu\n",
    "ax = plt.gca()\n",
    "ax.set_title(f\"Timestep {time_string}\", fontweight='bold', fontsize=16)\n",
    "ax.set_xlabel('Easting (m)', fontweight='bold')\n",
    "ax.set_ylabel('Northing (m)', fontweight='bold')\n",
    "\n",
    "# Tampilkan plot\n",
    "plt.show()\n"
   ]
  },
  {
   "cell_type": "markdown",
   "metadata": {},
   "source": [
    "## 🪴 Langkah 4: Menghitung kesehatan tanaman\n",
    "\n",
    "\n",
    "Meskipun vegetasi dapat diidentifikasi dalam gambar RGB, akan lebih membantu jika kita memiliki indeks kuantitatif untuk menggambarkan kesehatannya secara langsung.\n",
    "\n",
    "\n",
    "Dalam hal ini, [Normalised Difference Vegetation Index](https://en.wikipedia.org/wiki/Normalized_difference_vegetation_index) (NDVI) dapat membantu mengidentifikasi area dengan vegetasi yang sehat.\n",
    "Untuk data penginderaan jauh seperti citra satelit, NDVI didefinisikan sebagai:\n",
    "\n",
    "$$\n",
    "\\begin{aligned}\n",
    "\\text{NDVI} & = \\frac{(\\text{NIR} - \\text{Red})}{(\\text{NIR} + \\text{Red})}, \\\\\n",
    "\\end{aligned}\n",
    "$$\n",
    "\n",
    "\n",
    "\n",
    "di mana $\\text{NIR}$ adalah band near-infrared dari data, dan $\\text{Red}$ adalah band merah.\n",
    "NDVI memiliki rentang nilai dari -1 hingga 1; nilai tinggi menunjukkan vegetasi yang sehat, sedangkan nilai negatif menunjukkan area non-vegetasi (seperti air).\n",
    "\n",
    "\n",
    "\n",
    "Kode berikut menghitung bagian atas dan bawah dari pecahan secara terpisah, lalu menghitung nilai NDVI langsung dari komponen-komponen ini.\n",
    "Nilai NDVI yang dihitung akan disimpan sebagai array data tersendiri.\n",
    "\n",
    "\n",
    "> Catatan: Sebelum menghitung NDVI, kita perlu mengonversi tipe data menjadi `float32`.\n",
    "Ini akan mengubah nilai nodata dalam dataset asli `uint16` menjadi `NaN`, sehingga nilai tersebut akan diabaikan dalam perhitungan NDVI.\n",
    "\n"
   ]
  },
  {
   "cell_type": "code",
   "execution_count": null,
   "metadata": {},
   "outputs": [],
   "source": [
    "# Konversi dataset ke tipe data float32 agar nilai no-data diubah menjadi NaN\n",
    "dataset = odc.algo.to_f32(dataset)"
   ]
  },
  {
   "cell_type": "code",
   "execution_count": null,
   "metadata": {},
   "outputs": [],
   "source": [
    "\n",
    "# Hitung NDVI dan simpan sebagai pengukuran dalam dataset asli\n",
    "ndvi = (dataset['nir'] - dataset['red']) / (dataset['nir'] + dataset['red'])\n"
   ]
  },
  {
   "cell_type": "markdown",
   "metadata": {},
   "source": [
    "\n",
    "\n",
    "Setelah menghitung nilai NDVI, kita dapat memplotnya dengan menambahkan metode `.plot()` ke `ndvi` (variabel tempat nilai NDVI disimpan).\n",
    "Kode di bawah ini akan memplot satu gambar berdasarkan waktu yang dipilih dengan variabel `ndvi_time_step`.\n",
    "Coba ubah nilai ini untuk memplot peta NDVI pada time step yang berbeda.\n",
    "Apakah Anda melihat perbedaan?\n",
    "\n",
    "\n",
    "\n",
    "> **Ekstensi 1**:\n",
    "Terkadang, mengubah skala warna dapat membantu memahami gambar dengan lebih intuitif.\n",
    "Misalnya, peta warna \"viridis\" menampilkan nilai tinggi dalam warna hijau/kuning (sesuai dengan vegetasi) dan nilai rendah dalam warna biru (sesuai dengan air).\n",
    "Coba modifikasi perintah `.plot(cmap=\"RdYlGn\")` di bawah ini untuk menggunakan `cmap=\"viridis\"` sebagai gantinya.\n"
   ]
  },
  {
   "cell_type": "code",
   "execution_count": null,
   "metadata": {},
   "outputs": [],
   "source": [
    "# Tetapkan time step NDVI yang ingin dilihat\n",
    "ndvi_time_step = 0\n",
    "\n",
    "# Ini adalah cara sederhana untuk memplot NDVI\n",
    "# Perhatikan bahwa nilai tinggi kemungkinan besar merupakan vegetasi.\n",
    "plt.figure(figsize=(8, 8))\n",
    "ndvi.isel(time=ndvi_time_step).plot(cmap=\"RdYlGn\", vmin=0, vmax=1)\n",
    "plt.show()"
   ]
  },
  {
   "cell_type": "markdown",
   "metadata": {},
   "source": [
    "\n",
    "> **Ekstensi 2**: Pada sel di atas, satu time step dipilih menggunakan metode `.isel()`.\n",
    "Kita dapat memplot semua time step dengan menghapus metode `.isel()`, lalu memodifikasi metode `.plot()` menjadi `.plot(col='time', col_wrap=3)`, di mana `time` adalah timestep untuk gambar.\n",
    "Memplot semua langkah waktu sekaligus dapat mempermudah dalam melihat perbedaan vegetasi dari waktu ke waktu. "
   ]
  },
  {
   "cell_type": "code",
   "execution_count": null,
   "metadata": {},
   "outputs": [],
   "source": [
    "plt.figure(figsize=(8, 8))\n",
    "ndvi.plot(col='time', cmap=\"RdYlGn\", vmin=0, vmax=1, col_wrap=3)\n",
    "plt.show()"
   ]
  },
  {
   "cell_type": "markdown",
   "metadata": {
    "tags": []
   },
   "source": [
    "## ➡️ Langkah 5: Mengekspor Data\n",
    "\n",
    "\n",
    "\n",
    "Terkadang, Anda ingin menganalisis citra satelit dalam program GIS, seperti QGIS.\n",
    "Perintah `write_cog()` dari pustaka Open Data Cube memungkinkan data yang dimuat diekspor ke format GeoTIFF, yang umum digunakan untuk data geospasial.\n",
    "Contoh berikut mengekspor gambar berdasarkan time_step yang diberikan.\n",
    "Untuk informasi lebih lanjut tentang mengekspor beberapa gambar, lihat notebook Ekspor GeoTIFF.\n",
    "\n",
    "> **Catatan**: File yang disimpan akan muncul di direktori yang sama dengan notebook ini, dan dapat diunduh untuk digunakan nanti."
   ]
  },
  {
   "cell_type": "code",
   "execution_count": null,
   "metadata": {},
   "outputs": [],
   "source": [
    "# Anda bisa mengganti nama dari example.tiff ke nama yang Anda inginkan, jika perlu\n",
    "filename = \"sawah_jonggol.tif\"\n",
    "\n",
    "#write_cog(geo_im=dataset.isel(time=time_step).to_array(), fname=filename, overwrite=True)\n",
    "ndvi.odc.write_cog(\"sawah_jonggol.tif\", overwrite=True)"
   ]
  },
  {
   "cell_type": "markdown",
   "metadata": {},
   "source": [
    "---"
   ]
  },
  {
   "cell_type": "markdown",
   "metadata": {},
   "source": [
    "## ℹ️ Info\n",
    "\n",
    "Jika ada pertanyaan atau komentar bisa mengirimkan email ke piksel@big.go.id\n",
    "\n",
    "**Lisensi:** Skrip dalam notebook ini dilisensikan berdasarkan [Apache License, Version 2.0](https://www.apache.org/licenses/LICENSE-2.0). \n",
    "Data Piksel dilisensikan berdasarkan lisensi [Creative Commons by Attribution 4.0](https://creativecommons.org/licenses/by/4.0/)."
   ]
  },
  {
   "cell_type": "code",
   "execution_count": null,
   "metadata": {},
   "outputs": [],
   "source": [
    "from datetime import datetime\n",
    "print(f\"Tanggal update: {datetime.now().strftime('%d %B %Y')}\")"
   ]
  },
  {
   "cell_type": "code",
   "execution_count": null,
   "metadata": {},
   "outputs": [],
   "source": []
  }
 ],
 "metadata": {
  "kernelspec": {
   "display_name": "Python 3 (ipykernel)",
   "language": "python",
   "name": "python3"
  },
  "language_info": {
   "codemirror_mode": {
    "name": "ipython",
    "version": 3
   },
   "file_extension": ".py",
   "mimetype": "text/x-python",
   "name": "python",
   "nbconvert_exporter": "python",
   "pygments_lexer": "ipython3",
   "version": "3.12.0"
  },
  "widgets": {
   "application/vnd.jupyter.widget-state+json": {
    "state": {},
    "version_major": 2,
    "version_minor": 0
   }
  }
 },
 "nbformat": 4,
 "nbformat_minor": 4
}
